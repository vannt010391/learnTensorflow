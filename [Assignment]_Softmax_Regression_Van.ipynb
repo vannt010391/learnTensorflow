{
  "nbformat": 4,
  "nbformat_minor": 0,
  "metadata": {
    "accelerator": "GPU",
    "colab": {
      "provenance": [],
      "collapsed_sections": [],
      "machine_shape": "hm"
    },
    "kernelspec": {
      "display_name": "Python 3",
      "name": "python3"
    }
  },
  "cells": [
    {
      "cell_type": "markdown",
      "metadata": {
        "id": "DNskF-vZx2cy"
      },
      "source": [
        "# Bài tập lập trình: Softmax Regression\n",
        "\n",
        "```\n",
        "ProtonX - TensorFlow Class \n",
        "```\n",
        "\n",
        "### Hướng dẫn làm bài \n",
        "- Trong bài tập này bạn sẽ sử dụng Python 3.\n",
        "- Sau khi bạn viết Code của mình xong, hãy chạy dòng Code đó để xem kết quả bên dưới. \n",
        "\n",
        "### [Quan trọng] Chú ý\n",
        "- **Không sử dụng hàm `input()` tại bất kỳ dòng lệnh nào**\n",
        "- **Không thay đổi dòng code return của hàm**\n",
        "\n",
        "Các bạn sẽ thực hiện `code` trong các phần hiển thị `#TODO: Lập trình tại đây` và thay thế các vị trí `None`. Có những câu hỏi chỉ cần trả về đáp án.\n",
        "\n",
        "Sau khi viết xong Code của bạn, bạn hãy ấn \"SHIFT\"+\"ENTER\" để thực hiện chạy lệnh của Cell đó. \n",
        "\n",
        "---\n",
        "Điểm số:\n",
        "* 10 điểm / Câu\n",
        "\n",
        "Tiêu chí chấm điểm:\n",
        "* Các bài tập sẽ được chấm dựa trên các Test-case.\n",
        "* Các bạn không khởi tạo lại giá trị đầu vào bên trong hàm. Có thể khởi tạo các giá trị này ngoài hàm nhằm mục đích kiểm thử."
      ]
    },
    {
      "cell_type": "code",
      "metadata": {
        "id": "Onq15lwRRsJS"
      },
      "source": [
        "import tensorflow as tf\n",
        "import numpy as np"
      ],
      "execution_count": 3,
      "outputs": []
    },
    {
      "cell_type": "markdown",
      "metadata": {
        "id": "osy4dRRiRa1E"
      },
      "source": [
        "## 1. Tải dữ liệu MNIST"
      ]
    },
    {
      "cell_type": "code",
      "metadata": {
        "id": "iVlUEU7pceyr",
        "colab": {
          "base_uri": "https://localhost:8080/"
        },
        "outputId": "a7313643-b62b-4afe-b0f9-79a25dee0faf"
      },
      "source": [
        "(X_train, Y_train), (X_val, Y_val) = tf.keras.datasets.mnist.load_data()"
      ],
      "execution_count": 4,
      "outputs": [
        {
          "output_type": "stream",
          "name": "stdout",
          "text": [
            "Downloading data from https://storage.googleapis.com/tensorflow/tf-keras-datasets/mnist.npz\n",
            "11493376/11490434 [==============================] - 0s 0us/step\n",
            "11501568/11490434 [==============================] - 0s 0us/step\n"
          ]
        }
      ]
    },
    {
      "cell_type": "markdown",
      "metadata": {
        "id": "e2mD77mIutDs"
      },
      "source": [
        "Một số thông tin quan trọng"
      ]
    },
    {
      "cell_type": "code",
      "metadata": {
        "id": "vzRTUc-cuu_6",
        "colab": {
          "base_uri": "https://localhost:8080/"
        },
        "outputId": "fb000448-ba7d-4c0d-ab3e-dc84c2c41708"
      },
      "source": [
        "# Số lượng nhãn \n",
        "num_classes = 10\n",
        "\n",
        "num_of_train_images, width, height = X_train.shape\n",
        "\n",
        "# Chiều ảnh được duỗi\n",
        "image_vector_size = width * height\n",
        "\n",
        "\n",
        "print(\"\"\"\n",
        "  Số lượng ảnh train: {}\n",
        "  Chiều dài ảnh train: {}\n",
        "  Chiều cao ảnh train: {}\n",
        "  Chiều ảnh được duỗi: {}\n",
        "\"\"\".format(num_of_train_images, width, height, image_vector_size))\n",
        "\n"
      ],
      "execution_count": 5,
      "outputs": [
        {
          "output_type": "stream",
          "name": "stdout",
          "text": [
            "\n",
            "  Số lượng ảnh train: 60000\n",
            "  Chiều dài ảnh train: 28\n",
            "  Chiều cao ảnh train: 28\n",
            "  Chiều ảnh được duỗi: 784\n",
            "\n"
          ]
        }
      ]
    },
    {
      "cell_type": "markdown",
      "metadata": {
        "id": "egzxTzYNRfEV"
      },
      "source": [
        "## 2. Tiền xử lý dữ liệu"
      ]
    },
    {
      "cell_type": "markdown",
      "metadata": {
        "id": "RrERXeb4URmd"
      },
      "source": [
        "### 2.1. Chuyển nhãn thành vector one-hot"
      ]
    },
    {
      "cell_type": "code",
      "metadata": {
        "id": "FE1ZkXaoWgIl"
      },
      "source": [
        "def one_hot(y, num_classes):\n",
        "  \"\"\"\n",
        "  Đầu vào:\n",
        "    y: \n",
        "      Dạng: numpy array \n",
        "      Miêu tả: Các giá trị nhãn\n",
        "      Chiều: (batch_size,)\n",
        "    num_classes: \n",
        "      Dạng: Số nguyên python\n",
        "      Miêu tả: Số lượng nhãn\n",
        "      Điều kiện: num_classes > 0\n",
        "      Ví dụ: 10\n",
        "  Đầu ra:\n",
        "    y_one_hot: \n",
        "      Miêu tả: Trả về ma trận các vector one hot của từng nhãn\n",
        "      Chiều: (batch_size, num_classes)\n",
        "  \"\"\"\n",
        "  # Lập trình tại đây\n",
        "\n",
        "  y_one_hot = np.squeeze(np.eye(num_classes)[y.reshape(-1)])\n",
        "\n",
        "  return y_one_hot"
      ],
      "execution_count": 6,
      "outputs": []
    },
    {
      "cell_type": "markdown",
      "metadata": {
        "id": "aDVC93QtsPrj"
      },
      "source": [
        "Test code"
      ]
    },
    {
      "cell_type": "markdown",
      "metadata": {
        "id": "1ldqFmMdTxSm"
      },
      "source": [
        "- Với nhãn 9, vector one hot của nhãn này ở vị trí chỉ mục số 9 sẽ có giá trị bằng 1., các giá trị còn lại sẽ bằng 0.\n",
        "- Với nhãn 7, vector one hot của nhãn này ở vị trí chỉ mục số 7 sẽ có giá trị bằng 1., các giá trị còn lại sẽ bằng 0."
      ]
    },
    {
      "cell_type": "code",
      "metadata": {
        "colab": {
          "base_uri": "https://localhost:8080/"
        },
        "id": "ZaX6KRwssOnY",
        "outputId": "2b96c8b6-9977-4d0a-8941-f14889024455"
      },
      "source": [
        "try:\n",
        "  y_test = np.array([[9], [7]])\n",
        "\n",
        "  y_test_one_hot = one_hot(y_test, num_classes)\n",
        "\n",
        "  print(\"Vector one hot:  \\n {}\".format(y_test_one_hot))\n",
        "  print(\"Chiều của vector one hot: {}\".format(y_test_one_hot.shape))\n",
        "\n",
        "  expected = np.array(\n",
        "    [[0., 0., 0., 0., 0., 0., 0., 0., 0., 1.],\n",
        "    [0., 0., 0., 0., 0., 0., 0., 1., 0., 0.]])\n",
        "\n",
        "  print(\"Chuyển đổi one hot thành công: {}\".format(np.array_equal(y_test_one_hot, expected)))\n",
        "\n",
        "except Exception as e:\n",
        "  print(\"Lỗi thực thi: \", e)"
      ],
      "execution_count": 7,
      "outputs": [
        {
          "output_type": "stream",
          "name": "stdout",
          "text": [
            "Vector one hot:  \n",
            " [[0. 0. 0. 0. 0. 0. 0. 0. 0. 1.]\n",
            " [0. 0. 0. 0. 0. 0. 0. 1. 0. 0.]]\n",
            "Chiều của vector one hot: (2, 10)\n",
            "Chuyển đổi one hot thành công: True\n"
          ]
        }
      ]
    },
    {
      "cell_type": "markdown",
      "metadata": {
        "id": "KM4jA-Crt65_"
      },
      "source": [
        "**Kết quả mong đợi:**\n",
        "\n",
        "```\n",
        "Vector one hot:  \n",
        " [[0. 0. 0. 0. 0. 0. 0. 0. 0. 1.]\n",
        " [0. 0. 0. 0. 0. 0. 0. 1. 0. 0.]]\n",
        "Chiều của vector one hot: (2, 10)\n",
        "Chuyển đổi one hot thành công: True\n",
        "```"
      ]
    },
    {
      "cell_type": "markdown",
      "metadata": {
        "id": "8dEid-w5Uhr4"
      },
      "source": [
        "### 2.2. Duỗi ảnh "
      ]
    },
    {
      "cell_type": "markdown",
      "metadata": {
        "id": "nkgFiPw8V1zF"
      },
      "source": [
        "```TODO 1:``` Xây dựng hàm duỗi ảnh"
      ]
    },
    {
      "cell_type": "code",
      "metadata": {
        "id": "H5wR-w7XUlji"
      },
      "source": [
        "def flatten_images(images):\n",
        "  \"\"\"\n",
        "  Thực thi duỗi ảnh từ (batch_size, width, height) thành (batch_size, width x height)\n",
        "  Đầu vào:\n",
        "    images: \n",
        "      Dạng: numpy array \n",
        "      Miêu tả: Ma trận các ảnh\n",
        "      Chiều: (batch_size, width, height)\n",
        "      Ví dụ: (32, 28, 28)\n",
        "  Đầu ra:\n",
        "    flattened_images\n",
        "      Miêu tả: ma trận trong đó các ảnh được duỗi thành vector\n",
        "      Chiều: (batch_size, image_vector_size) = (batch_size, width x height)\n",
        "      Ví dụ: (32, 28 x 28) = (32, 784)\n",
        "  \"\"\"\n",
        "  # Lập trình tại đây\n",
        "  \n",
        "  flattened_images = np.reshape(images, (images.shape[0], -1))\n",
        "\n",
        "  return flattened_images"
      ],
      "execution_count": 9,
      "outputs": []
    },
    {
      "cell_type": "markdown",
      "metadata": {
        "id": "MoTyKp8ZrMCp"
      },
      "source": [
        "Test code"
      ]
    },
    {
      "cell_type": "code",
      "metadata": {
        "id": "q5pUkhyUWLKz",
        "colab": {
          "base_uri": "https://localhost:8080/"
        },
        "outputId": "2ccc5cfe-33f6-4ea1-edda-ddbc9bcd3fe9"
      },
      "source": [
        "# TEST CODE\n",
        "try:\n",
        "  images = np.ones((60000, 28, 28))\n",
        "  flattened_images = flatten_images(images)\n",
        "  print(\"Chiều ảnh được duỗi: {}\".format(flattened_images.shape))\n",
        "except Exception as e:\n",
        "   print(\"Lỗi thực thi: \", e)"
      ],
      "execution_count": 10,
      "outputs": [
        {
          "output_type": "stream",
          "name": "stdout",
          "text": [
            "Chiều ảnh được duỗi: (60000, 784)\n"
          ]
        }
      ]
    },
    {
      "cell_type": "markdown",
      "metadata": {
        "id": "ymhnNMN2c-mJ"
      },
      "source": [
        "**Kết quả mong đợi:**\n",
        "\n",
        "```\n",
        "Chiều ảnh được duỗi: (60000, 784)\n",
        "```"
      ]
    },
    {
      "cell_type": "markdown",
      "metadata": {
        "id": "6Ze4p_0bV7DQ"
      },
      "source": [
        "```TODO 2:``` Tiến hành duỗi ảnh cả 2 tập train và validation"
      ]
    },
    {
      "cell_type": "code",
      "metadata": {
        "id": "DxmaxMY7wQ2c"
      },
      "source": [
        "try:\n",
        "  # Lập trình tại đây\n",
        "  X_train = flatten_images(X_train)\n",
        "  X_val = flatten_images(X_val)\n",
        "except Exception as e:\n",
        "  print(\"Lỗi thực thi: \", e)"
      ],
      "execution_count": 11,
      "outputs": []
    },
    {
      "cell_type": "markdown",
      "metadata": {
        "id": "JawVnzyPwRTI"
      },
      "source": [
        "Test code"
      ]
    },
    {
      "cell_type": "code",
      "metadata": {
        "id": "GhSio2hvWIoO",
        "colab": {
          "base_uri": "https://localhost:8080/"
        },
        "outputId": "f01ed659-ed66-40f6-ccdb-36c8f562fbb6"
      },
      "source": [
        "# TEST CODE\n",
        "try:\n",
        "  print(\"Chiều ảnh train được duỗi: {}\".format(X_train.shape))\n",
        "  print(\"Chiều ảnh validation được duỗi: {}\".format(X_val.shape))\n",
        "except Exception as e:\n",
        "   print(\"Lỗi thực thi: \", e)"
      ],
      "execution_count": 12,
      "outputs": [
        {
          "output_type": "stream",
          "name": "stdout",
          "text": [
            "Chiều ảnh train được duỗi: (60000, 784)\n",
            "Chiều ảnh validation được duỗi: (10000, 784)\n"
          ]
        }
      ]
    },
    {
      "cell_type": "markdown",
      "metadata": {
        "id": "94fV9RNte3OK"
      },
      "source": [
        "**Kết quả mong đợi:**\n",
        "\n",
        "```\n",
        "Chiều ảnh train được duỗi: (60000, 784)\n",
        "Chiều ảnh validation được duỗi: (10000, 784)\n",
        "```"
      ]
    },
    {
      "cell_type": "markdown",
      "metadata": {
        "id": "lmLmGrWsdWo5"
      },
      "source": [
        "### 2.3. Chuẩn hóa"
      ]
    },
    {
      "cell_type": "markdown",
      "metadata": {
        "id": "6sAxk6f2er1T"
      },
      "source": [
        "```TODO 3:``` Viết hàm chuẩn hóa ảnh để các giá trị pixel nằm trong khoảng từ 0 đến 1"
      ]
    },
    {
      "cell_type": "code",
      "metadata": {
        "id": "87aoLfiOeuoM"
      },
      "source": [
        "def normalize_images(images):\n",
        "  \"\"\"\n",
        "  Hàm chuẩn hóa ảnh các giá trị pixel để nằm trong khoảng từ 0 đến 1\n",
        "  Đầu vào:\n",
        "    images: \n",
        "      Dạng: numpy array \n",
        "      Miêu tả: Ma trận các vector ảnh\n",
        "      Chiều: (batch_size, image_vector_size)\n",
        "      Ví dụ: (32, 784)\n",
        "  Đầu ra:\n",
        "    normailized_images\n",
        "      Miêu tả: ma trận trong đó các vector ảnh được chuẩn hóa\n",
        "      Chiều: (batch_size, image_vector_size)\n",
        "      Ví dụ: (32, 784)\n",
        "  \"\"\"\n",
        "  # Lập trình tại đây\n",
        "  \n",
        "  normailized_images = images /255.0\n",
        "\n",
        "  return normailized_images"
      ],
      "execution_count": 13,
      "outputs": []
    },
    {
      "cell_type": "markdown",
      "metadata": {
        "id": "CEGgABc1f3mi"
      },
      "source": [
        "```TODO 4:``` Sử dụng hàm chuẩn hóa với 2 tập dữ liệu"
      ]
    },
    {
      "cell_type": "code",
      "metadata": {
        "id": "Q6j9iFZKk_is"
      },
      "source": [
        "try:\n",
        "  # Lập trình tại đây\n",
        "  X_train = normalize_images(X_train)\n",
        "  X_val = normalize_images(X_val)\n",
        "except Exception as e:\n",
        "   print(\"Lỗi thực thi: \", e)"
      ],
      "execution_count": 14,
      "outputs": []
    },
    {
      "cell_type": "markdown",
      "metadata": {
        "id": "Twn6neyQlFOa"
      },
      "source": [
        "Test code"
      ]
    },
    {
      "cell_type": "code",
      "metadata": {
        "id": "Aq6ejJigdYg8",
        "colab": {
          "base_uri": "https://localhost:8080/"
        },
        "outputId": "e58f9dae-e1f1-49a4-91e1-1e8e5993454b"
      },
      "source": [
        "# TEST CODE\n",
        "try:\n",
        "  is_train_good = np.array_equal((X_train >= 0).astype(int), np.ones(X_train.shape)) and \\\n",
        "    np.array_equal((X_train <= 1).astype(int), np.ones(X_train.shape))\n",
        "\n",
        "  is_val_good = np.array_equal((X_val >= 0).astype(int), np.ones(X_val.shape)) and \\\n",
        "    np.array_equal((X_val <= 1).astype(int), np.ones(X_val.shape))\n",
        "\n",
        "  print(\"Ảnh train đã được chuẩn hóa: {}\".format(is_train_good))\n",
        "  print(\"Ảnh validation đã được chuẩn hóa: {}\".format(is_val_good))\n",
        "except Exception as e:\n",
        "   print(\"Lỗi thực thi: \", e)"
      ],
      "execution_count": 15,
      "outputs": [
        {
          "output_type": "stream",
          "name": "stdout",
          "text": [
            "Ảnh train đã được chuẩn hóa: True\n",
            "Ảnh validation đã được chuẩn hóa: True\n"
          ]
        }
      ]
    },
    {
      "cell_type": "markdown",
      "metadata": {
        "id": "uCZZKtSbwihY"
      },
      "source": [
        "**Kết quả mong đợi:**\n",
        "\n",
        "```\n",
        "Ảnh train đã được chuẩn hóa: True\n",
        "Ảnh validation đã được chuẩn hóa: True\n",
        "```"
      ]
    },
    {
      "cell_type": "markdown",
      "metadata": {
        "id": "C1moGHZqatpv"
      },
      "source": [
        "## 3. Xây dựng mô hình"
      ]
    },
    {
      "cell_type": "markdown",
      "metadata": {
        "id": "ru6c05sFpxBF"
      },
      "source": [
        "### **Quan trọng:** Nhằm đơn giản quy trình, các hàm bên dưới được thiết kế theo SGD thực hiện tính toán **trên 1 điểm dữ liệu**."
      ]
    },
    {
      "cell_type": "markdown",
      "metadata": {
        "id": "1yTFwMm2vwp9"
      },
      "source": [
        "### 3.1. Thiết kết phép nhân tuyến tính Feed Forward"
      ]
    },
    {
      "cell_type": "markdown",
      "metadata": {
        "id": "AOViA-UBCoIE"
      },
      "source": [
        "```TODO 5:``` Thiết kế phép nhân tuyến tính Feed Forward"
      ]
    },
    {
      "cell_type": "markdown",
      "metadata": {
        "id": "z34_CP2XCxee"
      },
      "source": [
        "- $n$: Chiều ảnh được duỗi (image_vector_size: 784)\n",
        "- $c$: Số lượng nhãn (num_classes: 10) \\\n",
        "- Tham số: $\\theta$\n",
        "\n",
        "$$\\theta \\in \\mathbb{R}^{n \\times c}$$\n",
        "\n",
        "- 1 ảnh đầu vào: $\\textbf{x}$\n",
        "\n",
        "$$\\textbf{x} \\in \\mathbb{R}^{n \\times 1}$$\n",
        "\n",
        "- Đầu ra $\\textbf{z}$:\n",
        "\n",
        "$$\\textbf{z} = \\theta^T\\textbf{x}  $$ \n",
        "$$\\textbf{z} \\in \\mathbb{R}^{c \\times 1} $$ "
      ]
    },
    {
      "cell_type": "code",
      "metadata": {
        "id": "rhCfaD_ia6zh"
      },
      "source": [
        "def cal_z(theta, x):\n",
        "  \"\"\"\n",
        "  Thực hiện nhân tuyến tính theta và x, x là 1 điểm dữ liệu\n",
        "  Đầu vào:\n",
        "    theta: \n",
        "      Dạng: numpy array \n",
        "      Miêu tả: Ma trận theta.\n",
        "      Chiều: (image_vector_size, num_classes)\n",
        "      Ví dụ: (784, 10)\n",
        "    x:\n",
        "      Dạng: numpy array \n",
        "      Miêu tả: Vector ảnh x\n",
        "      Chiều: (image_vector_size, 1)\n",
        "      Ví dụ: (784, 1)\n",
        "  Đầu ra:\n",
        "    z:\n",
        "      Dạng: numpy array\n",
        "      Miêu tả: Vector đầu ra z\n",
        "      Chiều: (num_classes, 1)\n",
        "      Ví dụ: (10, 1)\n",
        "  \"\"\"\n",
        "  # Lập trình tại đây\n",
        "  \n",
        "  z = theta.T.dot(x)\n",
        "  return z"
      ],
      "execution_count": 16,
      "outputs": []
    },
    {
      "cell_type": "markdown",
      "metadata": {
        "id": "QblYZMkCm6Nr"
      },
      "source": [
        "Test code"
      ]
    },
    {
      "cell_type": "code",
      "metadata": {
        "id": "RwvKV1CZR6uC",
        "colab": {
          "base_uri": "https://localhost:8080/"
        },
        "outputId": "a0b7eb91-f45e-476b-90a1-4d192778d67f"
      },
      "source": [
        "try:\n",
        "  theta = np.random.normal(size=(784, 10))\n",
        "  x = np.ones((784, 1))\n",
        "  z = cal_z(theta, x)\n",
        "\n",
        "  print(\"Chiều của vector z: {}\".format(z.shape))\n",
        "\n",
        "except Exception as e:\n",
        "  print(\"Lỗi thực thi: \", e)"
      ],
      "execution_count": 17,
      "outputs": [
        {
          "output_type": "stream",
          "name": "stdout",
          "text": [
            "Chiều của vector z: (10, 1)\n"
          ]
        }
      ]
    },
    {
      "cell_type": "markdown",
      "metadata": {
        "id": "C7gdraBnnTza"
      },
      "source": [
        "**Kết quả mong đợi:**\n",
        "\n",
        "```\n",
        "Chiều của vector z: (10, 1)\n",
        "```"
      ]
    },
    {
      "cell_type": "markdown",
      "metadata": {
        "id": "pLPZP9UbpfeG"
      },
      "source": [
        "### 3.2. Thiết kế hàm Softmax"
      ]
    },
    {
      "cell_type": "markdown",
      "metadata": {
        "id": "QcMBhJKQCZbR"
      },
      "source": [
        "```TODO 6:``` Thiết kế hàm softmax"
      ]
    },
    {
      "cell_type": "markdown",
      "metadata": {
        "id": "Om_FlrFksAQt"
      },
      "source": [
        "$$\\hat{\\textbf{y}} = \\text{softmax}(\\textbf{z}) = \\text{softmax}(\\begin{bmatrix}\n",
        "z_1 \\\\\n",
        "\\ \\vdots \\\\ \n",
        "z_c \\\\ \n",
        "\\end{bmatrix}) =   \\begin{bmatrix}\n",
        "\\frac{e^{z_1}}{\\sum_{t=1}^ce^{z_t}}\\\\\n",
        "\\ \\vdots \\\\ \n",
        "\\frac{e^{z_c}}{\\sum_{t=1}^ce^{z_t}}\\\\\n",
        "\\end{bmatrix} $$\n",
        "\n",
        "Trường hợp này có 10 nhãn nên $c = 10$ cho nên \n",
        "\n",
        "$$\\hat{\\textbf{y}}  = \\text{softmax}(\\textbf{z}) =   \\begin{bmatrix}\n",
        "\\frac{e^{z_1}}{\\sum_{t=1}^{10}e^{z_t}}\\\\\n",
        "\\ \\vdots \\\\ \n",
        "\\frac{e^{z_{10}}}{\\sum_{t=1}^{10}e^{z_t}}\\\\\n",
        "\\end{bmatrix} $$\n",
        "\n"
      ]
    },
    {
      "cell_type": "code",
      "metadata": {
        "id": "9qyfElMkfpr7"
      },
      "source": [
        "def softmax(z):\n",
        "  \"\"\"\n",
        "  Thực hiện hàm softmax trên vector z\n",
        "  Đầu vào:\n",
        "    z: \n",
        "      Dạng: numpy array \n",
        "      Miêu tả: Vector z. Đầu ra của phép nhân tuyến tính\n",
        "      Chiều: (num_classes, 1)\n",
        "      Ví dụ: (10, 1)\n",
        "  Đầu ra:\n",
        "    y_hat:\n",
        "      Dạng: numpy array \n",
        "      Miêu tả: Chuẩn hóa vector z theo phân phối softmax có tổng các giá trị bằng 1\n",
        "      Chiều: (num_classes, 1)\n",
        "      Ví dụ: (10, 1)\n",
        "  \"\"\"\n",
        "  # Lập trình tại đây\n",
        "  ez = np.exp(z)\n",
        "  aSum = np.sum(ez, axis=0)\n",
        "  y_hat = ez/aSum\n",
        "  \n",
        "  return y_hat"
      ],
      "execution_count": 21,
      "outputs": []
    },
    {
      "cell_type": "markdown",
      "metadata": {
        "id": "dwi9mjhhu2Gh"
      },
      "source": [
        "Test code"
      ]
    },
    {
      "cell_type": "code",
      "metadata": {
        "id": "Sg2AO3vdqb32",
        "colab": {
          "base_uri": "https://localhost:8080/"
        },
        "outputId": "52c16c32-9a57-49ca-fbbe-eea24d82b51e"
      },
      "source": [
        "# TEST CODE\n",
        "try:\n",
        "  ez = np.random.normal(size=(10, 1))\n",
        "  ez = softmax(ez)\n",
        "  print(\"Chiều của vector softmax: {}\".format(ez.shape))\n",
        "  print(\"Các giá trị của vector này được chuẩn hóa: {}\".format(0.99 <= np.sum(ez) <= 1))\n",
        "except Exception as e:\n",
        "   print(\"Lỗi thực thi: \", e)"
      ],
      "execution_count": 22,
      "outputs": [
        {
          "output_type": "stream",
          "name": "stdout",
          "text": [
            "Chiều của vector softmax: (10, 1)\n",
            "Các giá trị của vector này được chuẩn hóa: True\n"
          ]
        }
      ]
    },
    {
      "cell_type": "markdown",
      "metadata": {
        "id": "7-GP7FD5v0T9"
      },
      "source": [
        "**Kết quả mong đợi:**\n",
        "\n",
        "```\n",
        "Chiều của vector softmax: (10, 1)\n",
        "Các giá trị của vector này được chuẩn hóa: True\n",
        "```"
      ]
    },
    {
      "cell_type": "markdown",
      "metadata": {
        "id": "1s3j77_TnXb6"
      },
      "source": [
        "### 3.3. Thiết kết Softmax Regression"
      ]
    },
    {
      "cell_type": "markdown",
      "metadata": {
        "id": "V7_-5WWAFnNY"
      },
      "source": [
        "```TODO 7:``` Kết hợp 2 hàm\n",
        "- `cal_z`\n",
        "- `softmax`\n",
        "\n",
        "để được softmax regression đầy đủ."
      ]
    },
    {
      "cell_type": "code",
      "metadata": {
        "id": "YvEPsNnQVwhA"
      },
      "source": [
        "def cal_y_hat(theta, x):\n",
        "  \"\"\"\n",
        "  Sử dụng hàm tính z và đưa z qua lớp softmax để tính đầu ra hàm softmax\n",
        "  Đầu vào:\n",
        "    theta: \n",
        "      Dạng: numpy array \n",
        "      Miêu tả: Ma trận theta.\n",
        "      Chiều: (image_vector_size, num_classes)\n",
        "      Ví dụ: (784, 10)\n",
        "    x:\n",
        "      Dạng: numpy array \n",
        "      Miêu tả: Vector ảnh x\n",
        "      Chiều: (image_vector_size, 1)\n",
        "      Ví dụ: (784, 1)\n",
        "  Đầu ra:\n",
        "    y_hat:\n",
        "      Dạng: numpy array\n",
        "      Miêu tả: Vector đầu ra của softmax\n",
        "      Chiều: (num_classes, 1)\n",
        "      Ví dụ: (10, 1)\n",
        "  \"\"\"\n",
        "\n",
        "  # Lập trình tại đây\n",
        "  \n",
        "  # Tính z\n",
        "  z = cal_z(theta, x)\n",
        "\n",
        "  # Tính y_hat\n",
        "  y_hat = softmax(z)\n",
        "\n",
        "  return y_hat"
      ],
      "execution_count": 23,
      "outputs": []
    },
    {
      "cell_type": "markdown",
      "metadata": {
        "id": "kEo8kS0qn7Qp"
      },
      "source": [
        "Test code"
      ]
    },
    {
      "cell_type": "code",
      "metadata": {
        "id": "CPUEd1XgSdAZ",
        "colab": {
          "base_uri": "https://localhost:8080/"
        },
        "outputId": "96b0f376-dd66-4eef-e10d-39282aab1d05"
      },
      "source": [
        "try:\n",
        "  theta = np.random.normal(size=(784, 10))\n",
        "  x = np.ones((784, 1))\n",
        "  y_hat = cal_y_hat(theta, x)\n",
        "\n",
        "  print(\"Chiều của vector y_hat: {}\".format(y_hat.shape))\n",
        "\n",
        "  is_train_good = 0.99 <= np.sum(y_hat) <= 1\n",
        "\n",
        "  print(\"Các giá trị đã đưa qua softmax: {}\".format(is_train_good))\n",
        "\n",
        "except Exception as e:\n",
        "  print(\"Lỗi thực thi: \", e)"
      ],
      "execution_count": 24,
      "outputs": [
        {
          "output_type": "stream",
          "name": "stdout",
          "text": [
            "Chiều của vector y_hat: (10, 1)\n",
            "Các giá trị đã đưa qua softmax: True\n"
          ]
        }
      ]
    },
    {
      "cell_type": "markdown",
      "metadata": {
        "id": "kp6dWbpyp0vm"
      },
      "source": [
        "**Kết quả mong đợi:**\n",
        "\n",
        "```\n",
        "Chiều của vector y_hat: (10, 1)\n",
        "Các giá trị đã đưa qua softmax: True\n",
        "```"
      ]
    },
    {
      "cell_type": "markdown",
      "metadata": {
        "id": "synhX0QdoV8V"
      },
      "source": [
        "### 3.4. Thiết kết hàm tính giá trị mất mát trên 1 điểm dữ liệu"
      ]
    },
    {
      "cell_type": "markdown",
      "metadata": {
        "id": "utTYFJ8eGsWj"
      },
      "source": [
        "```TODO 8:``` Thiết kế hàm tính giá trị mất mát trên 1 điểm dữ liệu (cross entropy)"
      ]
    },
    {
      "cell_type": "markdown",
      "metadata": {
        "id": "q-1zdwKOGzqJ"
      },
      "source": [
        "Hàm mất mát trên 1 điểm dữ liệu\n",
        "\n",
        "$ cost(\\theta, (\\textbf{x}, \\textbf{y})) = - \\textbf{y}\\log(\\hat{\\textbf{y}})\n",
        "$\n",
        "\n",
        "Vậy trường hợp này ta sẽ:\n",
        "\n",
        "1. **Lấy giá trị âm** phép nhân vô hướng giữa vector one hot của nhãn với vector đầu ra của Softmax. Chú ý giá trị này là một số."
      ]
    },
    {
      "cell_type": "code",
      "metadata": {
        "id": "r_YGatHvV4OU"
      },
      "source": [
        "def cross_entropy(y_hat, y):\n",
        "  \"\"\"\n",
        "  Hàm giá trị mất mát tại 1 điểm dữ liệu\n",
        "  Đầu vào:\n",
        "    y_hat:\n",
        "      Dạng: numpy array\n",
        "      Miêu tả: Vector đầu ra của softmax\n",
        "      Chiều: (num_classes, 1)\n",
        "      Ví dụ: (10, 1)\n",
        "    y: \n",
        "      Dạng: numpy arry\n",
        "      Miêu tả: Vector one hot của nhãn\n",
        "      Chiều: (num_classes, 1)\n",
        "      Chiều: (10, 1)\n",
        "  Đầu ra:\n",
        "    loss:\n",
        "      Dạng: số thực\n",
        "      Miêu tả: Giá trị mất mát trên 1 điểm dữ liệu\n",
        "      Ví dụ: 0.36\n",
        "  \"\"\"\n",
        "\n",
        "  # Lập trình tại đây\n",
        "\n",
        "  # Tính giá trị sai lệch\n",
        "  loss = -np.sum(y*np.log(y_hat))\n",
        "\n",
        "  return loss"
      ],
      "execution_count": 25,
      "outputs": []
    },
    {
      "cell_type": "markdown",
      "metadata": {
        "id": "Q7AbN9qiqLvt"
      },
      "source": [
        "Test code"
      ]
    },
    {
      "cell_type": "code",
      "metadata": {
        "id": "d8F7KKiaqMoo",
        "colab": {
          "base_uri": "https://localhost:8080/"
        },
        "outputId": "7bde7740-830c-4ab5-852e-8840cbbe2192"
      },
      "source": [
        "try:\n",
        "  np.random.seed(seed=42)\n",
        "  theta = np.ones((784, 10))\n",
        "  \n",
        "  x = np.zeros((784, 1))\n",
        "\n",
        "  y_hat = cal_y_hat(theta, x)\n",
        "  \n",
        "  y = np.array([[1.],[0.],[0.],[0.],[0.],[0.],[0.],[0.],[0.],[0.]])\n",
        "\n",
        "  loss = cross_entropy(y_hat, y)\n",
        "\n",
        "  print(\"Giá trị mất mát: {}\".format(loss))\n",
        "\n",
        "except Exception as e:\n",
        "  print(\"Lỗi thực thi: \", e)"
      ],
      "execution_count": 26,
      "outputs": [
        {
          "output_type": "stream",
          "name": "stdout",
          "text": [
            "Giá trị mất mát: 2.3025850929940455\n"
          ]
        }
      ]
    },
    {
      "cell_type": "markdown",
      "metadata": {
        "id": "6C2XgSCNsbuA"
      },
      "source": [
        "**Kết quả mong đợi:**\n",
        "\n",
        "```\n",
        "Giá trị mất mát: 2.3025850929940455\n",
        "```"
      ]
    },
    {
      "cell_type": "markdown",
      "metadata": {
        "id": "6_F6mzXts_q6"
      },
      "source": [
        "### 3.5. Thiết kế hàm tính gradient của mất mát 1 điểm dữ liệu trên tham số"
      ]
    },
    {
      "cell_type": "markdown",
      "metadata": {
        "id": "JEgdlxSziF64"
      },
      "source": [
        "```TODO 9:``` Thiết kế hàm tính gradient của mất mát 1 điểm dữ liệu trên tham số"
      ]
    },
    {
      "cell_type": "markdown",
      "metadata": {
        "id": "SK390enkkOLu"
      },
      "source": [
        "Công thức tính gradient của hàm mất mát 1 điểm dữ liệu với tham số\n",
        "\n",
        "$$\n",
        "\\nabla_{\\theta}cost(\\theta, (\\textbf{x}, \\textbf{y})) = \\textbf{x}(h_\\theta(\\textbf{x}) - \\textbf{y})^T = \\textbf{x}(\\hat{\\textbf{y}} - \\textbf{y})^T\n",
        "$$"
      ]
    },
    {
      "cell_type": "code",
      "metadata": {
        "id": "EKFL48BhZnUu"
      },
      "source": [
        "def gradient(y_hat, x, y):\n",
        "  \"\"\"\n",
        "  Hàn tính Gradient của giá trị mất mát của 1 điểm dữ liệu với tham số theta\n",
        "  Đầu vào:\n",
        "    y_hat:\n",
        "      Dạng: numpy array\n",
        "      Miêu tả: Vector đầu ra của softmax\n",
        "      Chiều: (num_classes, 1)\n",
        "      Ví dụ: (10, 1)\n",
        "    x:\n",
        "      Dạng: numpy array \n",
        "      Miêu tả: Vector ảnh x\n",
        "      Chiều: (image_vector_size, 1)\n",
        "      Ví dụ: (784, 1)\n",
        "    y: \n",
        "      Dạng: numpy array\n",
        "      Miêu tả: Vector one hot của nhãn\n",
        "      Chiều: (num_classes, 1)\n",
        "      Ví dụ: (10, 1)\n",
        "  Đầu ra:\n",
        "    grad:\n",
        "      Dạng: numpy array\n",
        "      Miêu tả: Gradient của giá trị mất mát của 1 điểm dữ liệu với tham số theta\n",
        "      Chiều: (image_vector_size, num_classes)\n",
        "      Ví dụ: (784, 10)\n",
        "  \"\"\"\n",
        "  # Lập trình tại đây\n",
        "\n",
        "  # Áp dụng công thức tính gradient\n",
        "  grad = x.dot((y_hat - y).T)\n",
        "  \n",
        "  return grad"
      ],
      "execution_count": 27,
      "outputs": []
    },
    {
      "cell_type": "markdown",
      "metadata": {
        "id": "406NCFrvt8Lt"
      },
      "source": [
        "Test code"
      ]
    },
    {
      "cell_type": "code",
      "metadata": {
        "id": "pRMGqqDStmtz",
        "colab": {
          "base_uri": "https://localhost:8080/"
        },
        "outputId": "aad3c7bc-2b50-404b-c531-a16a8505e7a0"
      },
      "source": [
        "try:\n",
        "  np.random.seed(seed=42)\n",
        "  theta = np.random.normal(size=(784, 10))\n",
        "  \n",
        "  x = np.zeros((784, 1))\n",
        "  \n",
        "  y = np.array([[1.],[0.],[0.],[0.],[0.],[0.],[0.],[0.],[0.],[0.]])\n",
        "\n",
        "  y_hat = cal_y_hat(theta, x)\n",
        "\n",
        "  grad = gradient(y_hat, x, y)\n",
        "\n",
        "  print(\"Chiều của gradient: {}\".format(grad.shape))\n",
        "\n",
        "except Exception as e:\n",
        "  print(\"Lỗi thực thi: \", e)"
      ],
      "execution_count": 28,
      "outputs": [
        {
          "output_type": "stream",
          "name": "stdout",
          "text": [
            "Chiều của gradient: (784, 10)\n"
          ]
        }
      ]
    },
    {
      "cell_type": "markdown",
      "metadata": {
        "id": "o2Z44gWxt-Aq"
      },
      "source": [
        "**Kết quả mong đợi:**\n",
        "\n",
        "```\n",
        "Chiều của gradient: (784, 10)\n",
        "```"
      ]
    },
    {
      "cell_type": "markdown",
      "metadata": {
        "id": "wANOqHYluGpi"
      },
      "source": [
        "### 3.6. Thiết kết hàm tính độ chính xác của mô hình"
      ]
    },
    {
      "cell_type": "markdown",
      "metadata": {
        "id": "lT-ysBeRmeXk"
      },
      "source": [
        "```TODO 10:``` Thiết kế hàm tính độ chính xác trên toàn bộ tập dữ liệu"
      ]
    },
    {
      "cell_type": "code",
      "metadata": {
        "id": "GUDj8wZ4aOYR"
      },
      "source": [
        "def cal_acc(theta, X, Y):\n",
        "  \"\"\"\n",
        "  Tính độ chính xác của mô hình trên toàn bộ tập dữ liệu\n",
        "    Bước 1: Thực hiện feed forward để lấy kết quả dự đoán\n",
        "    Bước 2: So sánh kết quả dự đoán với nhãn thật\n",
        "  Đầu vào:\n",
        "    theta: \n",
        "      Dạng: numpy array \n",
        "      Miêu tả: Ma trận theta.\n",
        "      Chiều: (image_vector_size, num_classes)\n",
        "      Ví dụ: (784, 10)\n",
        "    X: \n",
        "      Dạng: numpy array \n",
        "      Miêu tả: Các vector ảnh\n",
        "      Chiều: (batch_size, image_vector_size)\n",
        "      Ví dụ: (60000, 784)\n",
        "    Y: \n",
        "      Dạng: numpy arry\n",
        "      Miêu tả: Các vector của nhãn\n",
        "      Chiều: (batch_size, 1)\n",
        "      Ví dụ: (60000, 1)\n",
        "  Đầu ra:\n",
        "    acc:\n",
        "      Dạng: số thực\n",
        "      Miêu tả: Độ chính xác của mô hình tại thời điểm hiện tại\n",
        "      Ví dụ: 0.6\n",
        "  \"\"\"\n",
        "  # Lập trình tại đây\n",
        "\n",
        "  # Bước 1: Tính kết quả dự đoán trên toàn bộ tập dữ liệu, thông qua việc đưa qua hàm softmax\n",
        "  # Chiều: Y_hat (batch_size, num_classes). Ví dụ (60000, 10)\n",
        "  \n",
        "  Y_hat = cal_y_hat(theta, X.T).T\n",
        "\n",
        "  # Bước 2: Tính độ chính xác mô hình\n",
        "\n",
        "  acc = np.sum(np.equal(np.argmax(Y_hat, axis=1), Y).astype(float)) / Y_hat.shape[0]\n",
        "  \n",
        "  return acc"
      ],
      "execution_count": 29,
      "outputs": []
    },
    {
      "cell_type": "markdown",
      "metadata": {
        "id": "BlPNbVdAxLuz"
      },
      "source": [
        "Test code"
      ]
    },
    {
      "cell_type": "code",
      "metadata": {
        "id": "_VLS3Y0RxLMw",
        "colab": {
          "base_uri": "https://localhost:8080/"
        },
        "outputId": "39d07c4f-1d92-40c7-944d-0a39b0dcfae3"
      },
      "source": [
        "try:\n",
        "  np.random.seed(seed=42)\n",
        "\n",
        "  theta = np.random.normal(size=(784, 10))\n",
        "  \n",
        "  X = np.zeros((60000, 784))\n",
        "\n",
        "  Y = np.random.randint(0, 10, (60000,))\n",
        "  \n",
        "  acc = cal_acc(theta, X, Y)\n",
        "\n",
        "  print(\"Độ chính xác hiện tại: {}\".format(acc))\n",
        "\n",
        "except Exception as e:\n",
        "  print(\"Lỗi thực thi: \", e)"
      ],
      "execution_count": 30,
      "outputs": [
        {
          "output_type": "stream",
          "name": "stdout",
          "text": [
            "Độ chính xác hiện tại: 0.09811666666666667\n"
          ]
        }
      ]
    },
    {
      "cell_type": "markdown",
      "metadata": {
        "id": "bbgHebWX0p02"
      },
      "source": [
        "**Kết quả mong đợi:**\n",
        "\n",
        "```\n",
        "Độ chính xác hiện tại: 0.09811666666666667\n",
        "\n",
        "```"
      ]
    },
    {
      "cell_type": "markdown",
      "metadata": {
        "id": "jnuQ6dRp0tj1"
      },
      "source": [
        "## 4. Tiến hành training"
      ]
    },
    {
      "cell_type": "code",
      "metadata": {
        "id": "hSo-y0X25dBh"
      },
      "source": [
        "from sklearn.utils import shuffle"
      ],
      "execution_count": 31,
      "outputs": []
    },
    {
      "cell_type": "markdown",
      "metadata": {
        "id": "OaqWa-C8AWiH"
      },
      "source": [
        "### 4.1. Khởi tạo tham số theta"
      ]
    },
    {
      "cell_type": "code",
      "metadata": {
        "id": "NQQV2NOEmtmE"
      },
      "source": [
        "np.random.seed(seed=42)\n",
        "\n",
        "theta = np.random.normal(size=(image_vector_size, num_classes))"
      ],
      "execution_count": 32,
      "outputs": []
    },
    {
      "cell_type": "markdown",
      "metadata": {
        "id": "Kgf7iYmHBH7n"
      },
      "source": [
        "### 4.2. Thiết kế hàm SGD"
      ]
    },
    {
      "cell_type": "markdown",
      "metadata": {
        "id": "yFftbfE3pip6"
      },
      "source": [
        "```TODO 11:``` Thiết kế hàm SGD"
      ]
    },
    {
      "cell_type": "markdown",
      "metadata": {
        "id": "dwBlJH7PoPCy"
      },
      "source": [
        "Qúa trình training:\n",
        "\n",
        "- Chạy vòng lặp, ở mỗi vòng lặp (epoch)\n",
        "  - Xáo (Shuffle) ngẫu nhiên bộ dữ liệu\n",
        "  - Lặp i từ 1 đến m\n",
        "  - Cập nhật theta với công thức\n",
        "  $$\n",
        "\\theta := \\theta - \\nabla_{\\theta}cost(\\theta, (\\textbf{x}, \\textbf{y}))\n",
        " $$ \n",
        "\n",
        "Giá trị  $\\nabla_{\\theta}cost(\\theta, (\\textbf{x}, \\textbf{y}))$ đã được tính bởi hàm `cross_entropy`\n",
        "\n",
        "\n"
      ]
    },
    {
      "cell_type": "code",
      "metadata": {
        "id": "uM3MZCdLUKWV"
      },
      "source": [
        "def SGD(X_train, Y_train, X_val, Y_val, theta, learning_rate, epochs):\n",
        "  \n",
        "  \"\"\"\n",
        "  Hàm training sử dụng SGD\n",
        "  Đầu vào:\n",
        "    X_train: \n",
        "      Dạng: numpy array \n",
        "      Miêu tả: Các vector ảnh bộ train\n",
        "      Chiều: (batch_size, image_vector_size)\n",
        "      Ví dụ: (60000, 784)\n",
        "    Y_train: \n",
        "      Dạng: numpy arry\n",
        "      Miêu tả: Vector nhãn bộ train\n",
        "      Chiều: (batch_size, 1)\n",
        "      Ví dụ: (60000,)\n",
        "    X_val: \n",
        "      Dạng: numpy array \n",
        "      Miêu tả: Các vector ảnh bộ validation\n",
        "      Chiều: (batch_size, image_vector_size)\n",
        "      Ví dụ: (10000, 784)\n",
        "    Y_val: \n",
        "      Dạng: numpy arry\n",
        "      Miêu tả: Vector nhãn bộ validation\n",
        "      Chiều: (batch_size, 1)\n",
        "      Ví dụ: (10000,)\n",
        "    theta: \n",
        "      Dạng: numpy array \n",
        "      Miêu tả: Ma trận theta.\n",
        "      Chiều: (image_vector_size, num_classes)\n",
        "      Ví dụ: (784, 10)\n",
        "    learning_rate:\n",
        "      Dạng: số thực \n",
        "      Miêu tả: Tốc độ học\n",
        "      Ví dụ: 0.0001\n",
        "    epochs:\n",
        "      Dạng: số nguyên dương\n",
        "      Miêu tả: Số vòng lặp qua bộ dữ liệu\n",
        "      Ví dụ: 20\n",
        "  Đầu ra:\n",
        "    Tuple: (theta, acc, val_acc) với\n",
        "      theta:\n",
        "        Dạng: numpy array \n",
        "        Miêu tả: Ma trận theta đã được học\n",
        "        Chiều: (image_vector_size, num_classes)\n",
        "        Ví dụ: (784, 10)\n",
        "      acc:\n",
        "        Dạng: số thực\n",
        "        Miêu tả: Độ chính xác của mô hình trên tập train\n",
        "        Ví dụ: 0.6\n",
        "      val_acc:\n",
        "        Dạng: số thực\n",
        "        Miêu tả: Độ chính xác của mô hình trên tập validation\n",
        "        Ví dụ: 0.1\n",
        "  \"\"\"\n",
        "  # Số điểm dữ liệu\n",
        "  m = len(X_train)\n",
        "\n",
        "  for j in range(epochs):\n",
        "    \n",
        "    # Bước 1: Tráo bộ dữ liệu train\n",
        "    X_train, Y_train = shuffle(X_train, Y_train)\n",
        "    \n",
        "    # Định nghĩa giá trị mất mát trên toàn bộ epoch\n",
        "    cost = 0\n",
        "\n",
        "    # Bước 2: Lặp qua từng điểm dữ liệu tập train\n",
        "    for i in range(m):\n",
        "\n",
        "      # Bước 2.1: Lấy x và y ở vị trí i\n",
        "      # chiều x: (784, 1)\n",
        "\n",
        "      x = np.expand_dims(X_train[i], axis=-1)\n",
        "\n",
        "      # chiều y: (1, 1)\n",
        "      y = np.expand_dims(Y_train[i], axis=-1)\n",
        "\n",
        "      # Bước 2.2: Chuyển nhãn y thành vector one-hot\n",
        "      y = one_hot(y, num_classes).reshape((10,1))\n",
        "\n",
        "      # Bước 2.3: Tính đầu ra của Softmax Regression với điểm dữ liệu này\n",
        "      y_hat = cal_y_hat(theta, x)\n",
        "\n",
        "      # Bước 2.4: Tính giá trị mất mát trên điểm dữ liệu này\n",
        "      loss = cross_entropy(y_hat, y)\n",
        "\n",
        "      # Bước 2.5: Bổ sung giá trị loss vào giá trị cost\n",
        "\n",
        "      cost += loss\n",
        "      \n",
        "      # Bước 2.6: Cập nhật theta thông qua learning_rate và gradient\n",
        "\n",
        "      theta = theta - learning_rate *gradient(y_hat, x, y)\n",
        "    \n",
        "    # Bước 3: Tính độ chính xác\n",
        "    # Bước 3.1: Tính độ chính xác trên tập train\n",
        "\n",
        "    acc = cal_acc(theta, X_train, Y_train)\n",
        "    \n",
        "    # Bước 3.2: Tính độ chính xác trên tập validation\n",
        "    \n",
        "    val_acc = cal_acc(theta, X_val, Y_val)\n",
        "\n",
        "    print(\"Epoch: {}, loss: {:.3f}, acc: {:.3f}, val_acc: {:.3f}\".format(j + 1, cost / m, acc, val_acc))\n",
        "\n",
        "  return theta, acc, val_acc"
      ],
      "execution_count": 33,
      "outputs": []
    },
    {
      "cell_type": "markdown",
      "metadata": {
        "id": "mTiF8A-kqQMI"
      },
      "source": [
        "Testcode"
      ]
    },
    {
      "cell_type": "code",
      "metadata": {
        "id": "SOTUYIXaqRK3",
        "colab": {
          "base_uri": "https://localhost:8080/"
        },
        "outputId": "dd47ce20-db44-4b4f-d281-ac6c57eea87a"
      },
      "source": [
        "try:\n",
        "  np.random.seed(seed=42)\n",
        "\n",
        "  theta_mock = np.random.normal(size=(784, 10))\n",
        "  \n",
        "  X_mock_train = np.ones((60000, 784))\n",
        "\n",
        "  Y_mock_train = np.ones((60000, )).astype(int)\n",
        "\n",
        "  X_mock_validation = np.ones((10000, 784))\n",
        "\n",
        "  Y_mock_validation = np.ones((10000,)).astype(int)\n",
        "\n",
        "  learning_rate_mock = 0.0001\n",
        "  \n",
        "  epochs_mock = 1\n",
        "\n",
        "  theta_mock, acc_mock, val_acc_mock = SGD(X_mock_train, Y_mock_train, X_mock_validation, Y_mock_validation, theta_mock, learning_rate_mock, epochs_mock)\n",
        "\n",
        "  print('Chiều của theta: {}'.format(theta_mock.shape))\n",
        "  print('Giá trị chính xác trên tập train: {}'.format(acc_mock))\n",
        "  print('Giá trị chính xác trên tập validation: {}'.format(val_acc_mock))\n",
        "\n",
        "except Exception as e:\n",
        "  print(\"Lỗi thực thi: \", e)"
      ],
      "execution_count": 34,
      "outputs": [
        {
          "output_type": "stream",
          "name": "stdout",
          "text": [
            "Epoch: 1, loss: 0.068, acc: 1.000, val_acc: 1.000\n",
            "Chiều của theta: (784, 10)\n",
            "Giá trị chính xác trên tập train: 1.0\n",
            "Giá trị chính xác trên tập validation: 1.0\n"
          ]
        }
      ]
    },
    {
      "cell_type": "markdown",
      "metadata": {
        "id": "Io8b1iRMqRwR"
      },
      "source": [
        "**Kết quả mong đợi:**\n",
        "\n",
        "```\n",
        "Epoch: 1, loss: 0.068, acc: 1.000, val_acc: 1.000\n",
        "Chiều của theta: (784, 10)\n",
        "Giá trị chính xác trên tập train: 1.0\n",
        "Giá trị chính xác trên tập validation: 1.0\n",
        "```"
      ]
    },
    {
      "cell_type": "markdown",
      "metadata": {
        "id": "ZusXbjRtBLVT"
      },
      "source": [
        "### 4.3. Tiến hành training"
      ]
    },
    {
      "cell_type": "markdown",
      "metadata": {
        "id": "fFsN8vB_m1Xu"
      },
      "source": [
        "Kiểm tra lại chiều trước khi train"
      ]
    },
    {
      "cell_type": "code",
      "metadata": {
        "colab": {
          "base_uri": "https://localhost:8080/"
        },
        "id": "2Q92CcNsoK9l",
        "outputId": "f42f7a71-da6b-41e2-e66c-ac42b55b6805"
      },
      "source": [
        "X_train.shape, Y_train.shape, X_val.shape, Y_val.shape"
      ],
      "execution_count": 35,
      "outputs": [
        {
          "output_type": "execute_result",
          "data": {
            "text/plain": [
              "((60000, 784), (60000,), (10000, 784), (10000,))"
            ]
          },
          "metadata": {},
          "execution_count": 35
        }
      ]
    },
    {
      "cell_type": "code",
      "metadata": {
        "id": "oVGIUFr64CGT",
        "colab": {
          "base_uri": "https://localhost:8080/"
        },
        "outputId": "cd7eb273-5682-475c-a2d2-71a7aba515a7"
      },
      "source": [
        "try:\n",
        "  learning_rate = 0.0001\n",
        "  epochs = 30\n",
        "  SGD(X_train, Y_train, X_val, Y_val, theta, learning_rate, epochs)\n",
        "\n",
        "except Exception as e:\n",
        "  print(\"Lỗi thực thi: \", e)"
      ],
      "execution_count": 36,
      "outputs": [
        {
          "output_type": "stream",
          "name": "stdout",
          "text": [
            "Epoch: 1, loss: 9.530, acc: 0.223, val_acc: 0.232\n",
            "Epoch: 2, loss: 4.947, acc: 0.398, val_acc: 0.413\n",
            "Epoch: 3, loss: 3.179, acc: 0.524, val_acc: 0.550\n",
            "Epoch: 4, loss: 2.416, acc: 0.599, val_acc: 0.621\n",
            "Epoch: 5, loss: 2.018, acc: 0.643, val_acc: 0.665\n",
            "Epoch: 6, loss: 1.773, acc: 0.676, val_acc: 0.694\n",
            "Epoch: 7, loss: 1.606, acc: 0.700, val_acc: 0.719\n",
            "Epoch: 8, loss: 1.483, acc: 0.718, val_acc: 0.738\n",
            "Epoch: 9, loss: 1.389, acc: 0.733, val_acc: 0.752\n",
            "Epoch: 10, loss: 1.313, acc: 0.746, val_acc: 0.763\n",
            "Epoch: 11, loss: 1.251, acc: 0.755, val_acc: 0.772\n",
            "Epoch: 12, loss: 1.199, acc: 0.764, val_acc: 0.781\n",
            "Epoch: 13, loss: 1.154, acc: 0.771, val_acc: 0.787\n",
            "Epoch: 14, loss: 1.114, acc: 0.778, val_acc: 0.795\n",
            "Epoch: 15, loss: 1.080, acc: 0.783, val_acc: 0.799\n",
            "Epoch: 16, loss: 1.049, acc: 0.788, val_acc: 0.804\n",
            "Epoch: 17, loss: 1.021, acc: 0.793, val_acc: 0.809\n",
            "Epoch: 18, loss: 0.996, acc: 0.797, val_acc: 0.812\n",
            "Epoch: 19, loss: 0.973, acc: 0.800, val_acc: 0.815\n",
            "Epoch: 20, loss: 0.952, acc: 0.804, val_acc: 0.819\n",
            "Epoch: 21, loss: 0.932, acc: 0.807, val_acc: 0.823\n",
            "Epoch: 22, loss: 0.914, acc: 0.811, val_acc: 0.827\n",
            "Epoch: 23, loss: 0.898, acc: 0.813, val_acc: 0.828\n",
            "Epoch: 24, loss: 0.882, acc: 0.816, val_acc: 0.831\n",
            "Epoch: 25, loss: 0.868, acc: 0.818, val_acc: 0.833\n",
            "Epoch: 26, loss: 0.854, acc: 0.820, val_acc: 0.835\n",
            "Epoch: 27, loss: 0.841, acc: 0.823, val_acc: 0.838\n",
            "Epoch: 28, loss: 0.829, acc: 0.825, val_acc: 0.840\n",
            "Epoch: 29, loss: 0.817, acc: 0.827, val_acc: 0.842\n",
            "Epoch: 30, loss: 0.806, acc: 0.829, val_acc: 0.844\n"
          ]
        }
      ]
    },
    {
      "cell_type": "markdown",
      "metadata": {
        "id": "57PoyqDDwHK3"
      },
      "source": [
        "**Kết quả mong đợi (Tương đối):**\n",
        "\n",
        "```\n",
        "Epoch: 1, loss: 9.530, acc: 0.223, val_acc: 0.232\n",
        "Epoch: 2, loss: 4.947, acc: 0.398, val_acc: 0.413\n",
        "Epoch: 3, loss: 3.179, acc: 0.524, val_acc: 0.550\n",
        "Epoch: 4, loss: 2.416, acc: 0.599, val_acc: 0.621\n",
        "Epoch: 5, loss: 2.018, acc: 0.643, val_acc: 0.665\n",
        "Epoch: 6, loss: 1.773, acc: 0.676, val_acc: 0.694\n",
        "Epoch: 7, loss: 1.606, acc: 0.700, val_acc: 0.719\n",
        "Epoch: 8, loss: 1.483, acc: 0.718, val_acc: 0.738\n",
        "Epoch: 9, loss: 1.389, acc: 0.733, val_acc: 0.752\n",
        "Epoch: 10, loss: 1.313, acc: 0.746, val_acc: 0.763\n",
        "Epoch: 11, loss: 1.251, acc: 0.755, val_acc: 0.772\n",
        "Epoch: 12, loss: 1.199, acc: 0.764, val_acc: 0.781\n",
        "Epoch: 13, loss: 1.154, acc: 0.771, val_acc: 0.787\n",
        "Epoch: 14, loss: 1.114, acc: 0.778, val_acc: 0.795\n",
        "Epoch: 15, loss: 1.080, acc: 0.783, val_acc: 0.799\n",
        "Epoch: 16, loss: 1.049, acc: 0.788, val_acc: 0.804\n",
        "Epoch: 17, loss: 1.021, acc: 0.793, val_acc: 0.809\n",
        "Epoch: 18, loss: 0.996, acc: 0.797, val_acc: 0.812\n",
        "Epoch: 19, loss: 0.973, acc: 0.800, val_acc: 0.815\n",
        "Epoch: 20, loss: 0.952, acc: 0.804, val_acc: 0.819\n",
        "Epoch: 21, loss: 0.932, acc: 0.807, val_acc: 0.823\n",
        "Epoch: 22, loss: 0.914, acc: 0.811, val_acc: 0.827\n",
        "Epoch: 23, loss: 0.898, acc: 0.813, val_acc: 0.828\n",
        "Epoch: 24, loss: 0.882, acc: 0.816, val_acc: 0.831\n",
        "Epoch: 25, loss: 0.868, acc: 0.818, val_acc: 0.833\n",
        "Epoch: 26, loss: 0.854, acc: 0.820, val_acc: 0.835\n",
        "Epoch: 27, loss: 0.841, acc: 0.823, val_acc: 0.838\n",
        "Epoch: 28, loss: 0.829, acc: 0.825, val_acc: 0.840\n",
        "Epoch: 29, loss: 0.817, acc: 0.827, val_acc: 0.842\n",
        "Epoch: 30, loss: 0.806, acc: 0.829, val_acc: 0.844\n",
        "```"
      ]
    },
    {
      "cell_type": "markdown",
      "metadata": {
        "id": "kh3z_sWswKdB"
      },
      "source": [
        "### Vậy là bạn đã xây dựng thành công một mô hình phân loại nhiều biến bằng numpy thuần rồi đó ;) "
      ]
    },
    {
      "cell_type": "markdown",
      "metadata": {
        "id": "0qnxk9y_xfGu"
      },
      "source": [
        "<img src=\"https://storage.googleapis.com/protonx-cloud-storage/icons/1108-ferris-wheel-outline.gif\" width=300 />"
      ]
    },
    {
      "cell_type": "code",
      "metadata": {
        "id": "HBsmFj8zxgLS"
      },
      "source": [],
      "execution_count": null,
      "outputs": []
    }
  ]
}