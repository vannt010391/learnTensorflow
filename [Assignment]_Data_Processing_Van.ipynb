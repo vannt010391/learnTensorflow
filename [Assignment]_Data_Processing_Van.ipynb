{
  "nbformat": 4,
  "nbformat_minor": 0,
  "metadata": {
    "colab": {
      "provenance": [],
      "collapsed_sections": []
    },
    "kernelspec": {
      "name": "python3",
      "display_name": "Python 3"
    }
  },
  "cells": [
    {
      "cell_type": "markdown",
      "metadata": {
        "id": "DNskF-vZx2cy"
      },
      "source": [
        "# Bài tập lập trình: Tiền xử lý dữ liệu\n",
        "\n",
        "```\n",
        "ProtonX - TensorFlow Class \n",
        "```\n",
        "\n",
        "### Hướng dẫn làm bài \n",
        "- Trong bài tập này bạn sẽ sử dụng Python 3.\n",
        "- Sau khi bạn viết Code của mình xong, hãy chạy dòng Code đó để xem kết quả bên dưới. \n",
        "\n",
        "### [Quan trọng] Chú ý\n",
        "- **Không sử dụng hàm `input()` tại bất kỳ dòng lệnh nào**\n",
        "- **Không thay đổi dòng code return của hàm**\n",
        "\n",
        "Các bạn sẽ thực hiện `code` trong các phần hiển thị `#TODO: Lập trình tại đây` và thay thế các vị trí `None`. Có những câu hỏi chỉ cần trả về đáp án.\n",
        "\n",
        "Sau khi viết xong Code của bạn, bạn hãy ấn \"SHIFT\"+\"ENTER\" để thực hiện chạy lệnh của Cell đó. \n",
        "\n",
        "---\n",
        "Điểm số:\n",
        "* 10 điểm / Câu\n",
        "\n",
        "Tiêu chí chấm điểm:\n",
        "* Các bài tập sẽ được chấm dựa trên các Test-case.\n",
        "* Các bạn không khởi tạo lại giá trị đầu vào bên trong hàm. Có thể khởi tạo các giá trị này ngoài hàm nhằm mục đích kiểm thử."
      ]
    },
    {
      "cell_type": "code",
      "metadata": {
        "id": "IdRuMt784unf"
      },
      "source": [
        "!pip install tensorflow_data_validation"
      ],
      "execution_count": 44,
      "outputs": []
    },
    {
      "cell_type": "markdown",
      "metadata": {
        "id": "bgv7WQG1vfC4"
      },
      "source": [
        "## 0. Cài đặt các thư viện cần thiết"
      ]
    },
    {
      "cell_type": "code",
      "metadata": {
        "id": "yASrTh6A4aV1"
      },
      "source": [
        "import pandas as pd\n",
        "import tensorflow as tf\n",
        "import tensorflow_data_validation as tfdv\n",
        "import matplotlib.pyplot as plt\n",
        "import matplotlib.gridspec as gridspec\n",
        "import seaborn as sns"
      ],
      "execution_count": 45,
      "outputs": []
    },
    {
      "cell_type": "markdown",
      "metadata": {
        "id": "kfexh1nJ4Sdi"
      },
      "source": [
        "## 1. Tải dữ liệu"
      ]
    },
    {
      "cell_type": "code",
      "metadata": {
        "id": "SPeOqeNoK6Cr",
        "colab": {
          "base_uri": "https://localhost:8080/"
        },
        "outputId": "7d0a0a41-e11e-4c00-e842-2b4412ef0902"
      },
      "source": [
        "!wget https://storage.googleapis.com/protonx-cloud-storage/datasets/credit_risk/train.csv\n",
        "!wget https://storage.googleapis.com/protonx-cloud-storage/datasets/credit_risk/validation.csv\n"
      ],
      "execution_count": 46,
      "outputs": [
        {
          "output_type": "stream",
          "name": "stdout",
          "text": [
            "--2022-09-30 17:20:05--  https://storage.googleapis.com/protonx-cloud-storage/datasets/credit_risk/train.csv\n",
            "Resolving storage.googleapis.com (storage.googleapis.com)... 64.233.189.128, 108.177.97.128, 108.177.125.128, ...\n",
            "Connecting to storage.googleapis.com (storage.googleapis.com)|64.233.189.128|:443... connected.\n",
            "HTTP request sent, awaiting response... 200 OK\n",
            "Length: 38013 (37K) [application/octet-stream]\n",
            "Saving to: ‘train.csv.1’\n",
            "\n",
            "\rtrain.csv.1           0%[                    ]       0  --.-KB/s               \rtrain.csv.1         100%[===================>]  37.12K  --.-KB/s    in 0s      \n",
            "\n",
            "2022-09-30 17:20:05 (136 MB/s) - ‘train.csv.1’ saved [38013/38013]\n",
            "\n",
            "--2022-09-30 17:20:05--  https://storage.googleapis.com/protonx-cloud-storage/datasets/credit_risk/validation.csv\n",
            "Resolving storage.googleapis.com (storage.googleapis.com)... 64.233.189.128, 108.177.97.128, 108.177.125.128, ...\n",
            "Connecting to storage.googleapis.com (storage.googleapis.com)|64.233.189.128|:443... connected.\n",
            "HTTP request sent, awaiting response... 200 OK\n",
            "Length: 22699 (22K) [application/octet-stream]\n",
            "Saving to: ‘validation.csv.1’\n",
            "\n",
            "validation.csv.1    100%[===================>]  22.17K  --.-KB/s    in 0s      \n",
            "\n",
            "2022-09-30 17:20:05 (110 MB/s) - ‘validation.csv.1’ saved [22699/22699]\n",
            "\n"
          ]
        }
      ]
    },
    {
      "cell_type": "markdown",
      "metadata": {
        "id": "njD1bjYU4bm7"
      },
      "source": [
        "## 2. Đọc dữ liệu\n",
        "\n",
        "Đây là bộ dữ liệu cho vay, bao gồm những thuộc tính quyết định một tổ chức có nên cho một cá nhân vay tín dụng hay không. \n",
        "\n",
        "**a. Các đặc trưng để quyết định (Loại trừ đặc trưng Loan_ID)**\n",
        "- Gender (Giới tính)\n",
        "  - Dạng: Chuỗi\n",
        "  - Đặc trưng loại: `Male` hoặc `Female`\n",
        "- Married (Tình trạng hôn nhân)\n",
        "  - Dạng: Chuỗi\n",
        "  - Đặc trưng loại: `Yes` hoặc `No`\n",
        "- Dependents (Số lượng người phụ thuộc trong gia đình)\n",
        "  - Dạng: Chuỗi\n",
        "  - Đặc trưng loại: `0` hoặc `1` hoặc `2` hoặc `3+`\n",
        "- Education (Học vấn)\n",
        "  - Dạng: Chuỗi\n",
        "  - Đặc trưng loại: `Graduate` hoặc `Not Graduate`\n",
        "- Self_Employed (Có tự làm chủ không)\n",
        "  - Dạng: Chuỗi\n",
        "  - Đặc trưng loại: `Yes` hoặc `No`  \n",
        "- ApplicantIncome (Thu nhập người vay)\n",
        "  - Dạng: Số \n",
        "  - Đặc trưng số liên tục\n",
        "- CoapplicantIncome (Thu nhập người cùng đi vay)\n",
        "  - Dạng: Số \n",
        "  - Đặc trưng số liên tục\n",
        "- LoanAmount (Số tiền vay)\n",
        "  - Dạng: Số \n",
        "  - Đặc trưng số liên tục\n",
        "- Loan_Amount_Term (Kỳ hạn)\n",
        "  - Dạng: Số \n",
        "  - Đặc trưng số liên tục\n",
        "- Property_Area (Vị trí tài sản)\n",
        "  - Dạng: Chuỗi\n",
        "  - Đặc trưng loại: `Semiurban`, `Urban`, `Rural`\n",
        "- Credit_History (Lịch sử vay)\n",
        "  - Dạng: Số\n",
        "  - Đặc trưng số rời rạc: `1.0` hoặc `0.0`\n",
        "\n",
        "**b. Nhãn: Khả năng có nên cho vay hay không?**\n",
        "- Với file `train.cvs`\n",
        "  - Nhãn sử dụng dưới tên cột: `Loan_Status`\n",
        "- Với file `validation.cvs`\n",
        "  - Nhãn sử dụng dưới tên cột: `outcome`"
      ]
    },
    {
      "cell_type": "code",
      "metadata": {
        "id": "rbDV1LCCLXsE"
      },
      "source": [
        "train_df = pd.read_csv('train.csv')\n",
        "val_df = pd.read_csv('validation.csv')"
      ],
      "execution_count": 47,
      "outputs": []
    },
    {
      "cell_type": "markdown",
      "metadata": {
        "id": "atja19LzVBu3"
      },
      "source": [
        "Hiển thị dữ liệu của tập train và validation"
      ]
    },
    {
      "cell_type": "code",
      "metadata": {
        "id": "fM716vF4LaZz",
        "colab": {
          "base_uri": "https://localhost:8080/",
          "height": 287
        },
        "outputId": "d7713c91-850c-4949-af72-83c10506cb08"
      },
      "source": [
        "train_df.head()"
      ],
      "execution_count": 48,
      "outputs": [
        {
          "output_type": "execute_result",
          "data": {
            "text/plain": [
              "    Loan_ID Gender Married Dependents     Education Self_Employed  \\\n",
              "0  LP001002   Male      No          0      Graduate            No   \n",
              "1  LP001003   Male     Yes          1      Graduate            No   \n",
              "2  LP001005   Male     Yes          0      Graduate           Yes   \n",
              "3  LP001006   Male     Yes          0  Not Graduate            No   \n",
              "4  LP001008   Male      No          0      Graduate            No   \n",
              "\n",
              "   ApplicantIncome  CoapplicantIncome  LoanAmount  Loan_Amount_Term  \\\n",
              "0             5849                0.0         NaN             360.0   \n",
              "1             4583             1508.0       128.0             360.0   \n",
              "2             3000                0.0        66.0             360.0   \n",
              "3             2583             2358.0       120.0             360.0   \n",
              "4             6000                0.0       141.0             360.0   \n",
              "\n",
              "   Credit_History Property_Area Loan_Status  \n",
              "0             1.0         Urban           Y  \n",
              "1             1.0         Rural           N  \n",
              "2             1.0         Urban           Y  \n",
              "3             1.0         Urban           Y  \n",
              "4             1.0         Urban           Y  "
            ],
            "text/html": [
              "\n",
              "  <div id=\"df-bc4335bd-427e-4787-a309-45cb4913e2fa\">\n",
              "    <div class=\"colab-df-container\">\n",
              "      <div>\n",
              "<style scoped>\n",
              "    .dataframe tbody tr th:only-of-type {\n",
              "        vertical-align: middle;\n",
              "    }\n",
              "\n",
              "    .dataframe tbody tr th {\n",
              "        vertical-align: top;\n",
              "    }\n",
              "\n",
              "    .dataframe thead th {\n",
              "        text-align: right;\n",
              "    }\n",
              "</style>\n",
              "<table border=\"1\" class=\"dataframe\">\n",
              "  <thead>\n",
              "    <tr style=\"text-align: right;\">\n",
              "      <th></th>\n",
              "      <th>Loan_ID</th>\n",
              "      <th>Gender</th>\n",
              "      <th>Married</th>\n",
              "      <th>Dependents</th>\n",
              "      <th>Education</th>\n",
              "      <th>Self_Employed</th>\n",
              "      <th>ApplicantIncome</th>\n",
              "      <th>CoapplicantIncome</th>\n",
              "      <th>LoanAmount</th>\n",
              "      <th>Loan_Amount_Term</th>\n",
              "      <th>Credit_History</th>\n",
              "      <th>Property_Area</th>\n",
              "      <th>Loan_Status</th>\n",
              "    </tr>\n",
              "  </thead>\n",
              "  <tbody>\n",
              "    <tr>\n",
              "      <th>0</th>\n",
              "      <td>LP001002</td>\n",
              "      <td>Male</td>\n",
              "      <td>No</td>\n",
              "      <td>0</td>\n",
              "      <td>Graduate</td>\n",
              "      <td>No</td>\n",
              "      <td>5849</td>\n",
              "      <td>0.0</td>\n",
              "      <td>NaN</td>\n",
              "      <td>360.0</td>\n",
              "      <td>1.0</td>\n",
              "      <td>Urban</td>\n",
              "      <td>Y</td>\n",
              "    </tr>\n",
              "    <tr>\n",
              "      <th>1</th>\n",
              "      <td>LP001003</td>\n",
              "      <td>Male</td>\n",
              "      <td>Yes</td>\n",
              "      <td>1</td>\n",
              "      <td>Graduate</td>\n",
              "      <td>No</td>\n",
              "      <td>4583</td>\n",
              "      <td>1508.0</td>\n",
              "      <td>128.0</td>\n",
              "      <td>360.0</td>\n",
              "      <td>1.0</td>\n",
              "      <td>Rural</td>\n",
              "      <td>N</td>\n",
              "    </tr>\n",
              "    <tr>\n",
              "      <th>2</th>\n",
              "      <td>LP001005</td>\n",
              "      <td>Male</td>\n",
              "      <td>Yes</td>\n",
              "      <td>0</td>\n",
              "      <td>Graduate</td>\n",
              "      <td>Yes</td>\n",
              "      <td>3000</td>\n",
              "      <td>0.0</td>\n",
              "      <td>66.0</td>\n",
              "      <td>360.0</td>\n",
              "      <td>1.0</td>\n",
              "      <td>Urban</td>\n",
              "      <td>Y</td>\n",
              "    </tr>\n",
              "    <tr>\n",
              "      <th>3</th>\n",
              "      <td>LP001006</td>\n",
              "      <td>Male</td>\n",
              "      <td>Yes</td>\n",
              "      <td>0</td>\n",
              "      <td>Not Graduate</td>\n",
              "      <td>No</td>\n",
              "      <td>2583</td>\n",
              "      <td>2358.0</td>\n",
              "      <td>120.0</td>\n",
              "      <td>360.0</td>\n",
              "      <td>1.0</td>\n",
              "      <td>Urban</td>\n",
              "      <td>Y</td>\n",
              "    </tr>\n",
              "    <tr>\n",
              "      <th>4</th>\n",
              "      <td>LP001008</td>\n",
              "      <td>Male</td>\n",
              "      <td>No</td>\n",
              "      <td>0</td>\n",
              "      <td>Graduate</td>\n",
              "      <td>No</td>\n",
              "      <td>6000</td>\n",
              "      <td>0.0</td>\n",
              "      <td>141.0</td>\n",
              "      <td>360.0</td>\n",
              "      <td>1.0</td>\n",
              "      <td>Urban</td>\n",
              "      <td>Y</td>\n",
              "    </tr>\n",
              "  </tbody>\n",
              "</table>\n",
              "</div>\n",
              "      <button class=\"colab-df-convert\" onclick=\"convertToInteractive('df-bc4335bd-427e-4787-a309-45cb4913e2fa')\"\n",
              "              title=\"Convert this dataframe to an interactive table.\"\n",
              "              style=\"display:none;\">\n",
              "        \n",
              "  <svg xmlns=\"http://www.w3.org/2000/svg\" height=\"24px\"viewBox=\"0 0 24 24\"\n",
              "       width=\"24px\">\n",
              "    <path d=\"M0 0h24v24H0V0z\" fill=\"none\"/>\n",
              "    <path d=\"M18.56 5.44l.94 2.06.94-2.06 2.06-.94-2.06-.94-.94-2.06-.94 2.06-2.06.94zm-11 1L8.5 8.5l.94-2.06 2.06-.94-2.06-.94L8.5 2.5l-.94 2.06-2.06.94zm10 10l.94 2.06.94-2.06 2.06-.94-2.06-.94-.94-2.06-.94 2.06-2.06.94z\"/><path d=\"M17.41 7.96l-1.37-1.37c-.4-.4-.92-.59-1.43-.59-.52 0-1.04.2-1.43.59L10.3 9.45l-7.72 7.72c-.78.78-.78 2.05 0 2.83L4 21.41c.39.39.9.59 1.41.59.51 0 1.02-.2 1.41-.59l7.78-7.78 2.81-2.81c.8-.78.8-2.07 0-2.86zM5.41 20L4 18.59l7.72-7.72 1.47 1.35L5.41 20z\"/>\n",
              "  </svg>\n",
              "      </button>\n",
              "      \n",
              "  <style>\n",
              "    .colab-df-container {\n",
              "      display:flex;\n",
              "      flex-wrap:wrap;\n",
              "      gap: 12px;\n",
              "    }\n",
              "\n",
              "    .colab-df-convert {\n",
              "      background-color: #E8F0FE;\n",
              "      border: none;\n",
              "      border-radius: 50%;\n",
              "      cursor: pointer;\n",
              "      display: none;\n",
              "      fill: #1967D2;\n",
              "      height: 32px;\n",
              "      padding: 0 0 0 0;\n",
              "      width: 32px;\n",
              "    }\n",
              "\n",
              "    .colab-df-convert:hover {\n",
              "      background-color: #E2EBFA;\n",
              "      box-shadow: 0px 1px 2px rgba(60, 64, 67, 0.3), 0px 1px 3px 1px rgba(60, 64, 67, 0.15);\n",
              "      fill: #174EA6;\n",
              "    }\n",
              "\n",
              "    [theme=dark] .colab-df-convert {\n",
              "      background-color: #3B4455;\n",
              "      fill: #D2E3FC;\n",
              "    }\n",
              "\n",
              "    [theme=dark] .colab-df-convert:hover {\n",
              "      background-color: #434B5C;\n",
              "      box-shadow: 0px 1px 3px 1px rgba(0, 0, 0, 0.15);\n",
              "      filter: drop-shadow(0px 1px 2px rgba(0, 0, 0, 0.3));\n",
              "      fill: #FFFFFF;\n",
              "    }\n",
              "  </style>\n",
              "\n",
              "      <script>\n",
              "        const buttonEl =\n",
              "          document.querySelector('#df-bc4335bd-427e-4787-a309-45cb4913e2fa button.colab-df-convert');\n",
              "        buttonEl.style.display =\n",
              "          google.colab.kernel.accessAllowed ? 'block' : 'none';\n",
              "\n",
              "        async function convertToInteractive(key) {\n",
              "          const element = document.querySelector('#df-bc4335bd-427e-4787-a309-45cb4913e2fa');\n",
              "          const dataTable =\n",
              "            await google.colab.kernel.invokeFunction('convertToInteractive',\n",
              "                                                     [key], {});\n",
              "          if (!dataTable) return;\n",
              "\n",
              "          const docLinkHtml = 'Like what you see? Visit the ' +\n",
              "            '<a target=\"_blank\" href=https://colab.research.google.com/notebooks/data_table.ipynb>data table notebook</a>'\n",
              "            + ' to learn more about interactive tables.';\n",
              "          element.innerHTML = '';\n",
              "          dataTable['output_type'] = 'display_data';\n",
              "          await google.colab.output.renderOutput(dataTable, element);\n",
              "          const docLink = document.createElement('div');\n",
              "          docLink.innerHTML = docLinkHtml;\n",
              "          element.appendChild(docLink);\n",
              "        }\n",
              "      </script>\n",
              "    </div>\n",
              "  </div>\n",
              "  "
            ]
          },
          "metadata": {},
          "execution_count": 48
        }
      ]
    },
    {
      "cell_type": "code",
      "metadata": {
        "id": "9eoQA0Wq4rTF",
        "colab": {
          "base_uri": "https://localhost:8080/",
          "height": 287
        },
        "outputId": "c25b18f5-5a5e-4629-8bd6-65d44e56f335"
      },
      "source": [
        "val_df.head()"
      ],
      "execution_count": 49,
      "outputs": [
        {
          "output_type": "execute_result",
          "data": {
            "text/plain": [
              "    Loan_ID Gender Married Dependents     Education Self_Employed  \\\n",
              "0  LP001015   Male     Yes          0      Graduate            No   \n",
              "1  LP001022   Male     Yes          1      Graduate            No   \n",
              "2  LP001031   Male     Yes          2      Graduate            No   \n",
              "3  LP001035   Male     Yes          2      Graduate            No   \n",
              "4  LP001051   Male      No          0  Not Graduate            No   \n",
              "\n",
              "   ApplicantIncome  CoapplicantIncome  LoanAmount  Loan_Amount_Term  \\\n",
              "0             5720                  0       110.0             360.0   \n",
              "1             3076               1500       126.0             360.0   \n",
              "2             5000               1800       208.0             360.0   \n",
              "3             2340               2546       100.0             360.0   \n",
              "4             3276                  0        78.0             360.0   \n",
              "\n",
              "   Credit_History Property_Area outcome  \n",
              "0             1.0         Urban       Y  \n",
              "1             1.0         Urban       Y  \n",
              "2             1.0         Urban       Y  \n",
              "3             NaN         Urban       Y  \n",
              "4             1.0         Urban       N  "
            ],
            "text/html": [
              "\n",
              "  <div id=\"df-421eefb2-2316-4b7f-a02b-f319e4723b75\">\n",
              "    <div class=\"colab-df-container\">\n",
              "      <div>\n",
              "<style scoped>\n",
              "    .dataframe tbody tr th:only-of-type {\n",
              "        vertical-align: middle;\n",
              "    }\n",
              "\n",
              "    .dataframe tbody tr th {\n",
              "        vertical-align: top;\n",
              "    }\n",
              "\n",
              "    .dataframe thead th {\n",
              "        text-align: right;\n",
              "    }\n",
              "</style>\n",
              "<table border=\"1\" class=\"dataframe\">\n",
              "  <thead>\n",
              "    <tr style=\"text-align: right;\">\n",
              "      <th></th>\n",
              "      <th>Loan_ID</th>\n",
              "      <th>Gender</th>\n",
              "      <th>Married</th>\n",
              "      <th>Dependents</th>\n",
              "      <th>Education</th>\n",
              "      <th>Self_Employed</th>\n",
              "      <th>ApplicantIncome</th>\n",
              "      <th>CoapplicantIncome</th>\n",
              "      <th>LoanAmount</th>\n",
              "      <th>Loan_Amount_Term</th>\n",
              "      <th>Credit_History</th>\n",
              "      <th>Property_Area</th>\n",
              "      <th>outcome</th>\n",
              "    </tr>\n",
              "  </thead>\n",
              "  <tbody>\n",
              "    <tr>\n",
              "      <th>0</th>\n",
              "      <td>LP001015</td>\n",
              "      <td>Male</td>\n",
              "      <td>Yes</td>\n",
              "      <td>0</td>\n",
              "      <td>Graduate</td>\n",
              "      <td>No</td>\n",
              "      <td>5720</td>\n",
              "      <td>0</td>\n",
              "      <td>110.0</td>\n",
              "      <td>360.0</td>\n",
              "      <td>1.0</td>\n",
              "      <td>Urban</td>\n",
              "      <td>Y</td>\n",
              "    </tr>\n",
              "    <tr>\n",
              "      <th>1</th>\n",
              "      <td>LP001022</td>\n",
              "      <td>Male</td>\n",
              "      <td>Yes</td>\n",
              "      <td>1</td>\n",
              "      <td>Graduate</td>\n",
              "      <td>No</td>\n",
              "      <td>3076</td>\n",
              "      <td>1500</td>\n",
              "      <td>126.0</td>\n",
              "      <td>360.0</td>\n",
              "      <td>1.0</td>\n",
              "      <td>Urban</td>\n",
              "      <td>Y</td>\n",
              "    </tr>\n",
              "    <tr>\n",
              "      <th>2</th>\n",
              "      <td>LP001031</td>\n",
              "      <td>Male</td>\n",
              "      <td>Yes</td>\n",
              "      <td>2</td>\n",
              "      <td>Graduate</td>\n",
              "      <td>No</td>\n",
              "      <td>5000</td>\n",
              "      <td>1800</td>\n",
              "      <td>208.0</td>\n",
              "      <td>360.0</td>\n",
              "      <td>1.0</td>\n",
              "      <td>Urban</td>\n",
              "      <td>Y</td>\n",
              "    </tr>\n",
              "    <tr>\n",
              "      <th>3</th>\n",
              "      <td>LP001035</td>\n",
              "      <td>Male</td>\n",
              "      <td>Yes</td>\n",
              "      <td>2</td>\n",
              "      <td>Graduate</td>\n",
              "      <td>No</td>\n",
              "      <td>2340</td>\n",
              "      <td>2546</td>\n",
              "      <td>100.0</td>\n",
              "      <td>360.0</td>\n",
              "      <td>NaN</td>\n",
              "      <td>Urban</td>\n",
              "      <td>Y</td>\n",
              "    </tr>\n",
              "    <tr>\n",
              "      <th>4</th>\n",
              "      <td>LP001051</td>\n",
              "      <td>Male</td>\n",
              "      <td>No</td>\n",
              "      <td>0</td>\n",
              "      <td>Not Graduate</td>\n",
              "      <td>No</td>\n",
              "      <td>3276</td>\n",
              "      <td>0</td>\n",
              "      <td>78.0</td>\n",
              "      <td>360.0</td>\n",
              "      <td>1.0</td>\n",
              "      <td>Urban</td>\n",
              "      <td>N</td>\n",
              "    </tr>\n",
              "  </tbody>\n",
              "</table>\n",
              "</div>\n",
              "      <button class=\"colab-df-convert\" onclick=\"convertToInteractive('df-421eefb2-2316-4b7f-a02b-f319e4723b75')\"\n",
              "              title=\"Convert this dataframe to an interactive table.\"\n",
              "              style=\"display:none;\">\n",
              "        \n",
              "  <svg xmlns=\"http://www.w3.org/2000/svg\" height=\"24px\"viewBox=\"0 0 24 24\"\n",
              "       width=\"24px\">\n",
              "    <path d=\"M0 0h24v24H0V0z\" fill=\"none\"/>\n",
              "    <path d=\"M18.56 5.44l.94 2.06.94-2.06 2.06-.94-2.06-.94-.94-2.06-.94 2.06-2.06.94zm-11 1L8.5 8.5l.94-2.06 2.06-.94-2.06-.94L8.5 2.5l-.94 2.06-2.06.94zm10 10l.94 2.06.94-2.06 2.06-.94-2.06-.94-.94-2.06-.94 2.06-2.06.94z\"/><path d=\"M17.41 7.96l-1.37-1.37c-.4-.4-.92-.59-1.43-.59-.52 0-1.04.2-1.43.59L10.3 9.45l-7.72 7.72c-.78.78-.78 2.05 0 2.83L4 21.41c.39.39.9.59 1.41.59.51 0 1.02-.2 1.41-.59l7.78-7.78 2.81-2.81c.8-.78.8-2.07 0-2.86zM5.41 20L4 18.59l7.72-7.72 1.47 1.35L5.41 20z\"/>\n",
              "  </svg>\n",
              "      </button>\n",
              "      \n",
              "  <style>\n",
              "    .colab-df-container {\n",
              "      display:flex;\n",
              "      flex-wrap:wrap;\n",
              "      gap: 12px;\n",
              "    }\n",
              "\n",
              "    .colab-df-convert {\n",
              "      background-color: #E8F0FE;\n",
              "      border: none;\n",
              "      border-radius: 50%;\n",
              "      cursor: pointer;\n",
              "      display: none;\n",
              "      fill: #1967D2;\n",
              "      height: 32px;\n",
              "      padding: 0 0 0 0;\n",
              "      width: 32px;\n",
              "    }\n",
              "\n",
              "    .colab-df-convert:hover {\n",
              "      background-color: #E2EBFA;\n",
              "      box-shadow: 0px 1px 2px rgba(60, 64, 67, 0.3), 0px 1px 3px 1px rgba(60, 64, 67, 0.15);\n",
              "      fill: #174EA6;\n",
              "    }\n",
              "\n",
              "    [theme=dark] .colab-df-convert {\n",
              "      background-color: #3B4455;\n",
              "      fill: #D2E3FC;\n",
              "    }\n",
              "\n",
              "    [theme=dark] .colab-df-convert:hover {\n",
              "      background-color: #434B5C;\n",
              "      box-shadow: 0px 1px 3px 1px rgba(0, 0, 0, 0.15);\n",
              "      filter: drop-shadow(0px 1px 2px rgba(0, 0, 0, 0.3));\n",
              "      fill: #FFFFFF;\n",
              "    }\n",
              "  </style>\n",
              "\n",
              "      <script>\n",
              "        const buttonEl =\n",
              "          document.querySelector('#df-421eefb2-2316-4b7f-a02b-f319e4723b75 button.colab-df-convert');\n",
              "        buttonEl.style.display =\n",
              "          google.colab.kernel.accessAllowed ? 'block' : 'none';\n",
              "\n",
              "        async function convertToInteractive(key) {\n",
              "          const element = document.querySelector('#df-421eefb2-2316-4b7f-a02b-f319e4723b75');\n",
              "          const dataTable =\n",
              "            await google.colab.kernel.invokeFunction('convertToInteractive',\n",
              "                                                     [key], {});\n",
              "          if (!dataTable) return;\n",
              "\n",
              "          const docLinkHtml = 'Like what you see? Visit the ' +\n",
              "            '<a target=\"_blank\" href=https://colab.research.google.com/notebooks/data_table.ipynb>data table notebook</a>'\n",
              "            + ' to learn more about interactive tables.';\n",
              "          element.innerHTML = '';\n",
              "          dataTable['output_type'] = 'display_data';\n",
              "          await google.colab.output.renderOutput(dataTable, element);\n",
              "          const docLink = document.createElement('div');\n",
              "          docLink.innerHTML = docLinkHtml;\n",
              "          element.appendChild(docLink);\n",
              "        }\n",
              "      </script>\n",
              "    </div>\n",
              "  </div>\n",
              "  "
            ]
          },
          "metadata": {},
          "execution_count": 49
        }
      ]
    },
    {
      "cell_type": "markdown",
      "metadata": {
        "id": "EsoZFPNeVIZt"
      },
      "source": [
        "Hiển thị các giá trị của loại trong một cột bất kỳ"
      ]
    },
    {
      "cell_type": "code",
      "metadata": {
        "colab": {
          "base_uri": "https://localhost:8080/"
        },
        "id": "MHz4f3B6ScON",
        "outputId": "6f7b7254-d71e-443b-8b60-b0f3587a2aec"
      },
      "source": [
        "train_df['Education'].value_counts()"
      ],
      "execution_count": 50,
      "outputs": [
        {
          "output_type": "execute_result",
          "data": {
            "text/plain": [
              "Graduate        480\n",
              "Not Graduate    134\n",
              "Name: Education, dtype: int64"
            ]
          },
          "metadata": {},
          "execution_count": 50
        }
      ]
    },
    {
      "cell_type": "markdown",
      "metadata": {
        "id": "hmjiE9jbVqoE"
      },
      "source": [
        "## 3. Hiển thị thống kê của dữ liệu"
      ]
    },
    {
      "cell_type": "markdown",
      "metadata": {
        "id": "oX2mYCHEVvgU"
      },
      "source": [
        "Chúng ta sẽ sử dụng thư viện `tensorflow_data_validation` để trích xuất thông tin thống kê của dữ liệu và hiển thị thông tin."
      ]
    },
    {
      "cell_type": "code",
      "metadata": {
        "id": "xaOisYJuVc-k"
      },
      "source": [
        "def display_stats(df):\n",
        "  test_stats = tfdv.generate_statistics_from_dataframe(train_df)\n",
        "  tfdv.visualize_statistics(test_stats)"
      ],
      "execution_count": 51,
      "outputs": []
    },
    {
      "cell_type": "markdown",
      "metadata": {
        "id": "OmXlxUF1WHcr"
      },
      "source": [
        "Hiển thị thống kê của dữ liệu train"
      ]
    },
    {
      "cell_type": "code",
      "metadata": {
        "id": "eVtwmZNpV9qn",
        "colab": {
          "base_uri": "https://localhost:8080/",
          "height": 54
        },
        "outputId": "62de9e91-d436-4a12-c32c-bc4d69f496c6"
      },
      "source": [
        "display_stats(train_df)"
      ],
      "execution_count": 52,
      "outputs": [
        {
          "output_type": "display_data",
          "data": {
            "text/plain": [
              "<IPython.core.display.HTML object>"
            ],
            "text/html": [
              "<iframe id='facets-iframe' width=\"100%\" height=\"500px\"></iframe>\n",
              "        <script>\n",
              "        facets_iframe = document.getElementById('facets-iframe');\n",
              "        facets_html = '<script src=\"https://cdnjs.cloudflare.com/ajax/libs/webcomponentsjs/1.3.3/webcomponents-lite.js\"><\\/script><link rel=\"import\" href=\"https://raw.githubusercontent.com/PAIR-code/facets/master/facets-dist/facets-jupyter.html\"><facets-overview proto-input=\"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\"></facets-overview>';\n",
              "        facets_iframe.srcdoc = facets_html;\n",
              "         facets_iframe.id = \"\";\n",
              "         setTimeout(() => {\n",
              "           facets_iframe.setAttribute('height', facets_iframe.contentWindow.document.body.offsetHeight + 'px')\n",
              "         }, 1500)\n",
              "         </script>"
            ]
          },
          "metadata": {}
        }
      ]
    },
    {
      "cell_type": "markdown",
      "metadata": {
        "id": "LRFSx0rJWK-K"
      },
      "source": [
        "Hiển thị thống kê của dữ liệu validation"
      ]
    },
    {
      "cell_type": "markdown",
      "metadata": {
        "id": "pvP7tGjVWQ7p"
      },
      "source": [
        "## 4. Đổi tên cột nhãn của bộ validation.\n",
        "Đổi tên từ `outcome` thành `Loan_Status`"
      ]
    },
    {
      "cell_type": "code",
      "metadata": {
        "id": "4vNj19b7V9nu"
      },
      "source": [
        "val_df = val_df.rename(columns={'outcome': 'Loan_Status'})"
      ],
      "execution_count": 53,
      "outputs": []
    },
    {
      "cell_type": "markdown",
      "metadata": {
        "id": "gZLmKCBlWphk"
      },
      "source": [
        "Kiểm tra việc đổi tên"
      ]
    },
    {
      "cell_type": "code",
      "metadata": {
        "colab": {
          "base_uri": "https://localhost:8080/"
        },
        "id": "ithBKtUHV9lR",
        "outputId": "cec69820-f5ac-49eb-b396-23fb1dbcb2e5"
      },
      "source": [
        "'Loan_Status' in val_df.columns and 'outcome' not in val_df.columns "
      ],
      "execution_count": 54,
      "outputs": [
        {
          "output_type": "execute_result",
          "data": {
            "text/plain": [
              "True"
            ]
          },
          "metadata": {},
          "execution_count": 54
        }
      ]
    },
    {
      "cell_type": "markdown",
      "metadata": {
        "id": "RuoEDKkqW_Fq"
      },
      "source": [
        "## 5. Kiểm tra các cột bị thiếu giá trị"
      ]
    },
    {
      "cell_type": "markdown",
      "metadata": {
        "id": "Kw5-vTh8XQHz"
      },
      "source": [
        "Những cột thiếu giá trị trong tập train: \n",
        "- Đặc trưng loại: `Gender`, `Married`, `Dependents`, `Self_Employed`\n",
        "- Đặc trưng số liên tục: `LoanAmount`, `Loan_Amount_Term`\n",
        "- Đặc trưng số rời rạc: `Credit_History`"
      ]
    },
    {
      "cell_type": "code",
      "metadata": {
        "colab": {
          "base_uri": "https://localhost:8080/"
        },
        "id": "6pKm3cjI4w4D",
        "outputId": "fd5d5824-53a7-44e0-aa41-7a0340f4f5c4"
      },
      "source": [
        "train_df.isna().sum()"
      ],
      "execution_count": 55,
      "outputs": [
        {
          "output_type": "execute_result",
          "data": {
            "text/plain": [
              "Loan_ID               0\n",
              "Gender               13\n",
              "Married               3\n",
              "Dependents           15\n",
              "Education             0\n",
              "Self_Employed        32\n",
              "ApplicantIncome       0\n",
              "CoapplicantIncome     0\n",
              "LoanAmount           22\n",
              "Loan_Amount_Term     14\n",
              "Credit_History       50\n",
              "Property_Area         0\n",
              "Loan_Status           0\n",
              "dtype: int64"
            ]
          },
          "metadata": {},
          "execution_count": 55
        }
      ]
    },
    {
      "cell_type": "markdown",
      "metadata": {
        "id": "dPVqRGAmYdy0"
      },
      "source": [
        "Những cột thiếu giá trị trong tập validation: \n",
        "- Đặc trưng loại: `Gender`, `Dependents`, `Self_Employed`\n",
        "- Đặc trưng số liên tục: `LoanAmount`, `Loan_Amount_Term`\n",
        "- Đặc trưng số rời rạc: `Credit_History`"
      ]
    },
    {
      "cell_type": "code",
      "metadata": {
        "colab": {
          "base_uri": "https://localhost:8080/"
        },
        "id": "yyioWgjd4w1w",
        "outputId": "67e95bd0-78c0-4a0e-8dfd-e637b2f9bf9a"
      },
      "source": [
        "val_df.isna().sum()"
      ],
      "execution_count": 56,
      "outputs": [
        {
          "output_type": "execute_result",
          "data": {
            "text/plain": [
              "Loan_ID               0\n",
              "Gender               11\n",
              "Married               0\n",
              "Dependents           10\n",
              "Education             0\n",
              "Self_Employed        23\n",
              "ApplicantIncome       0\n",
              "CoapplicantIncome     0\n",
              "LoanAmount            5\n",
              "Loan_Amount_Term      6\n",
              "Credit_History       29\n",
              "Property_Area         0\n",
              "Loan_Status           0\n",
              "dtype: int64"
            ]
          },
          "metadata": {},
          "execution_count": 56
        }
      ]
    },
    {
      "cell_type": "markdown",
      "metadata": {
        "id": "kjgb1_HNZImD"
      },
      "source": [
        "## 6. Xử lý dữ liệu bị thiếu (missing values)\n",
        "\n",
        "Trong bài này ta sử dụng một cách đơn giản để bổ sung các giá trị bị thiếu. Với \n",
        "- Đặc trưng loại: Bổ sung giá trị bị thiếu bằng giá trị xuất hiện nhiều nhất trong cột \n",
        "- Đặc trưng số liên tục: Bổ sung giá trị bị thiếu bằng giá trị trung bình (mean) của các giá trị trong cột\n",
        "- Đặc trưng số rời rạc: Bổ sung giá trị bị thiếu bằng giá trị xuất hiện nhiều nhất trong cột "
      ]
    },
    {
      "cell_type": "markdown",
      "metadata": {
        "id": "QdjxzLP1CMsf"
      },
      "source": [
        "**Chú ý:** Việc đổ đầy các giá trị thông qua giá trị nhiều nhất cũng như trung bình sẽ ảnh hưởng đến phân phối dữ liệu, nên trong phân tích việc này chỉ hiệu quả khi nguyên nhân thiếu hụt là `MCAR` (Missing Completely At Random) do một sự kiện đặc biệt nào đó và hoàn toàn không liên quan tới đặc trưng hiện tại cũng như các đặc trưng khác trong bộ dữ liệu.\n",
        "\n",
        "Chi tiết về thiếu dữ liệu - các nguyên nhân và giải pháp sẽ được đề cập chi tiết trong một buổi học của ProtonX."
      ]
    },
    {
      "cell_type": "markdown",
      "metadata": {
        "id": "s-a0fR3Rhsvd"
      },
      "source": [
        "### 6.1 Xử lý đặc trưng loại bị thiếu.\n",
        "Bổ sung giá trị bị thiếu bằng giá trị xuất hiện nhiều nhất trong cột"
      ]
    },
    {
      "cell_type": "markdown",
      "metadata": {
        "id": "UtVH2fW7aFGX"
      },
      "source": [
        "Ví dụ cột `Gender` ta đổ đầy các giá trị thiếu bằng giá trị xuất hiện nhiều nhất. \n",
        "\n",
        "Hàm kiểm tra giá trị xuất hiện nhiều nhất"
      ]
    },
    {
      "cell_type": "code",
      "metadata": {
        "colab": {
          "base_uri": "https://localhost:8080/",
          "height": 36
        },
        "id": "D4_3nO3E4wz7",
        "outputId": "12a31d90-cb32-4321-d62a-d14c6bb503ba"
      },
      "source": [
        "most_frequent_gender = train_df['Gender'].mode()[0]\n",
        "most_frequent_gender"
      ],
      "execution_count": 57,
      "outputs": [
        {
          "output_type": "execute_result",
          "data": {
            "text/plain": [
              "'Male'"
            ],
            "application/vnd.google.colaboratory.intrinsic+json": {
              "type": "string"
            }
          },
          "metadata": {},
          "execution_count": 57
        }
      ]
    },
    {
      "cell_type": "markdown",
      "metadata": {
        "id": "KMJdI9PXabVt"
      },
      "source": [
        "Sử dụng hàm `fillna` để đổ đầy các giá trị thiếu bằng giá trị này"
      ]
    },
    {
      "cell_type": "code",
      "metadata": {
        "id": "zo0eyhwb4wwo"
      },
      "source": [
        "train_df['Gender'] = train_df['Gender'].fillna(most_frequent_gender)"
      ],
      "execution_count": 58,
      "outputs": []
    },
    {
      "cell_type": "markdown",
      "metadata": {
        "id": "tiEC739Ca1K9"
      },
      "source": [
        "Kiểm tra lại cột `Gender` còn giá trị thiếu hay không?"
      ]
    },
    {
      "cell_type": "code",
      "metadata": {
        "colab": {
          "base_uri": "https://localhost:8080/"
        },
        "id": "G5tbxQe74wuP",
        "outputId": "71f6d67d-0a2b-404e-83e1-42e4e00a96d3"
      },
      "source": [
        "train_df['Gender'].isna().sum()"
      ],
      "execution_count": 59,
      "outputs": [
        {
          "output_type": "execute_result",
          "data": {
            "text/plain": [
              "0"
            ]
          },
          "metadata": {},
          "execution_count": 59
        }
      ]
    },
    {
      "cell_type": "markdown",
      "metadata": {
        "id": "aIOurrI8bAL-"
      },
      "source": [
        "```TODO 1:``` Đóng gói một hàm có khả năng đổ đầy thông tin cho đặc trưng loại bằng giá trị xuất hiện nhiều nhất trong cột "
      ]
    },
    {
      "cell_type": "code",
      "metadata": {
        "id": "GNrUYgFT4wr5"
      },
      "source": [
        "def fill_categorical_features(df, column_name):\n",
        "  \"\"\"\n",
        "  Đầu vào:\n",
        "    - df: \n",
        "      - Dạng: Pandas DataFrame. \n",
        "      - Ví dụ: train_df, val_df, test_df\n",
        "    - column_name: \n",
        "      - Miêu tả: Tên cột đặc trưng loại muốn đổ đầy các giá trị thiếu bằng giá trị xuất hiện nhiều nhất trong cột\n",
        "      - Điều kiện: len(column_name) > 0\n",
        "      - Ví dụ: 'Gender'\n",
        "  Đầu ra:\n",
        "    - Trả về Dataframe đã được đổ đầy thông tin trong cột\n",
        "  \"\"\"\n",
        "  # Lập trình tại đây\n",
        "  \n",
        "  # Tìm ra giá trị xuất hiện nhiều nhất trong cột\n",
        "  most_frequent_value = df[column_name].mode()[0]\n",
        "\n",
        "  df[column_name] = df[column_name].fillna(most_frequent_value)\n",
        "\n",
        "  return df"
      ],
      "execution_count": 60,
      "outputs": []
    },
    {
      "cell_type": "markdown",
      "metadata": {
        "id": "7afk4vPAePyk"
      },
      "source": [
        "```TODO 2```: Thực hiện hàm này trên các cột thiếu của tập train: `Gender`, `Married`, `Dependents`, `Self_Employed`"
      ]
    },
    {
      "cell_type": "code",
      "metadata": {
        "id": "7AtXvv43eO1H"
      },
      "source": [
        "train_df = fill_categorical_features(train_df, 'Gender')\n",
        "train_df = fill_categorical_features(train_df, 'Married')\n",
        "train_df = fill_categorical_features(train_df, 'Dependents')\n",
        "train_df = fill_categorical_features(train_df, 'Self_Employed')"
      ],
      "execution_count": 61,
      "outputs": []
    },
    {
      "cell_type": "code",
      "metadata": {
        "id": "xjpjEohobV6M",
        "colab": {
          "base_uri": "https://localhost:8080/"
        },
        "outputId": "3571abf1-0b5d-484b-f778-1932abcaf777"
      },
      "source": [
        "# TEST CODE\n",
        "columns = ['Gender', 'Married', 'Dependents', 'Self_Employed']\n",
        "for col in columns:\n",
        "  print(\"Số lượng còn thiếu ở cột {} là: {}\".format(col, train_df[col].isna().sum()))\n",
        "  print(\"Số lượng các giá trị hiện tại của cột {} là\".format(col, ))\n",
        "  print(train_df[col].value_counts())\n",
        "  print('----------------------------------------------------')"
      ],
      "execution_count": 62,
      "outputs": [
        {
          "output_type": "stream",
          "name": "stdout",
          "text": [
            "Số lượng còn thiếu ở cột Gender là: 0\n",
            "Số lượng các giá trị hiện tại của cột Gender là\n",
            "Male      502\n",
            "Female    112\n",
            "Name: Gender, dtype: int64\n",
            "----------------------------------------------------\n",
            "Số lượng còn thiếu ở cột Married là: 0\n",
            "Số lượng các giá trị hiện tại của cột Married là\n",
            "Yes    401\n",
            "No     213\n",
            "Name: Married, dtype: int64\n",
            "----------------------------------------------------\n",
            "Số lượng còn thiếu ở cột Dependents là: 0\n",
            "Số lượng các giá trị hiện tại của cột Dependents là\n",
            "0     360\n",
            "1     102\n",
            "2     101\n",
            "3+     51\n",
            "Name: Dependents, dtype: int64\n",
            "----------------------------------------------------\n",
            "Số lượng còn thiếu ở cột Self_Employed là: 0\n",
            "Số lượng các giá trị hiện tại của cột Self_Employed là\n",
            "No     532\n",
            "Yes     82\n",
            "Name: Self_Employed, dtype: int64\n",
            "----------------------------------------------------\n"
          ]
        }
      ]
    },
    {
      "cell_type": "markdown",
      "metadata": {
        "id": "cXugaPQfdXZ5"
      },
      "source": [
        "**Kết quả mong đợi:**\n",
        "\n",
        "```\n",
        "Số lượng còn thiếu ở cột Gender là: 0\n",
        "Số lượng các giá trị hiện tại của cột Gender là\n",
        "Male      502\n",
        "Female    112\n",
        "Name: Gender, dtype: int64\n",
        "----------------------------------------------------\n",
        "Số lượng còn thiếu ở cột Married là: 0\n",
        "Số lượng các giá trị hiện tại của cột Married là\n",
        "Yes    401\n",
        "No     213\n",
        "Name: Married, dtype: int64\n",
        "----------------------------------------------------\n",
        "Số lượng còn thiếu ở cột Dependents là: 0\n",
        "Số lượng các giá trị hiện tại của cột Dependents là\n",
        "0     360\n",
        "1     102\n",
        "2     101\n",
        "3+     51\n",
        "Name: Dependents, dtype: int64\n",
        "----------------------------------------------------\n",
        "Số lượng còn thiếu ở cột Self_Employed là: 0\n",
        "Số lượng các giá trị hiện tại của cột Self_Employed là\n",
        "No     532\n",
        "Yes     82\n",
        "Name: Self_Employed, dtype: int64\n",
        "----------------------------------------------------\n",
        "```"
      ]
    },
    {
      "cell_type": "markdown",
      "metadata": {
        "id": "shk0ji0IhLev"
      },
      "source": [
        "```TODO 3```: Thực hiện hàm này trên các cột thiếu của tập validation: `Gender`, `Dependents`, `Self_Employed`"
      ]
    },
    {
      "cell_type": "code",
      "metadata": {
        "id": "XF5en81hbV30"
      },
      "source": [
        "# Lập trình tại đây\n",
        "val_df = fill_categorical_features(val_df, 'Gender')\n",
        "val_df = fill_categorical_features(val_df, 'Dependents')\n",
        "val_df = fill_categorical_features(val_df, 'Self_Employed')"
      ],
      "execution_count": 63,
      "outputs": []
    },
    {
      "cell_type": "code",
      "metadata": {
        "id": "35OSl2etbV1X",
        "colab": {
          "base_uri": "https://localhost:8080/"
        },
        "outputId": "4658502a-b60f-4a7e-da0c-37e19cb3a779"
      },
      "source": [
        "# TEST CODE\n",
        "columns = ['Gender', 'Dependents', 'Self_Employed']\n",
        "for col in columns:\n",
        "  print(\"Số lượng còn thiếu ở cột {} là: {}\".format(col, val_df[col].isna().sum()))\n",
        "  print(\"Số lượng các giá trị hiện tại của cột {} là\".format(col, ))\n",
        "  print(val_df[col].value_counts())\n",
        "  print('----------------------------------------------------')"
      ],
      "execution_count": 64,
      "outputs": [
        {
          "output_type": "stream",
          "name": "stdout",
          "text": [
            "Số lượng còn thiếu ở cột Gender là: 0\n",
            "Số lượng các giá trị hiện tại của cột Gender là\n",
            "Male      297\n",
            "Female     70\n",
            "Name: Gender, dtype: int64\n",
            "----------------------------------------------------\n",
            "Số lượng còn thiếu ở cột Dependents là: 0\n",
            "Số lượng các giá trị hiện tại của cột Dependents là\n",
            "0     210\n",
            "2      59\n",
            "1      58\n",
            "3+     40\n",
            "Name: Dependents, dtype: int64\n",
            "----------------------------------------------------\n",
            "Số lượng còn thiếu ở cột Self_Employed là: 0\n",
            "Số lượng các giá trị hiện tại của cột Self_Employed là\n",
            "No     330\n",
            "Yes     37\n",
            "Name: Self_Employed, dtype: int64\n",
            "----------------------------------------------------\n"
          ]
        }
      ]
    },
    {
      "cell_type": "markdown",
      "metadata": {
        "id": "RHxpK3flhmZ7"
      },
      "source": [
        "**Kết quả mong đợi:**\n",
        "\n",
        "```\n",
        "Số lượng còn thiếu ở cột Gender là: 0\n",
        "Số lượng các giá trị hiện tại của cột Gender là\n",
        "Male      297\n",
        "Female     70\n",
        "Name: Gender, dtype: int64\n",
        "----------------------------------------------------\n",
        "Số lượng còn thiếu ở cột Dependents là: 0\n",
        "Số lượng các giá trị hiện tại của cột Dependents là\n",
        "0     210\n",
        "2      59\n",
        "1      58\n",
        "3+     40\n",
        "Name: Dependents, dtype: int64\n",
        "----------------------------------------------------\n",
        "Số lượng còn thiếu ở cột Self_Employed là: 0\n",
        "Số lượng các giá trị hiện tại của cột Self_Employed là\n",
        "No     330\n",
        "Yes     37\n",
        "Name: Self_Employed, dtype: int64\n",
        "----------------------------------------------------\n",
        "```"
      ]
    },
    {
      "cell_type": "markdown",
      "metadata": {
        "id": "k4UOjcZGh_fk"
      },
      "source": [
        "### 6.2 Xử lý đặc trưng số liên tục bị thiếu.\n",
        "Bổ sung giá trị bị thiếu bằng giá trị trung bình (mean) của các giá trị trong cột"
      ]
    },
    {
      "cell_type": "markdown",
      "metadata": {
        "id": "Xkz4r0ShiOsW"
      },
      "source": [
        "Ví dụ cột `LoanAmount` ta đổ đầy các giá trị thiếu bằng giá trị trung bình (mean) của các giá trị trong cột này\n",
        "\n",
        "Hàm tìm giá trị trung bình trong một cột"
      ]
    },
    {
      "cell_type": "code",
      "metadata": {
        "colab": {
          "base_uri": "https://localhost:8080/"
        },
        "id": "s71bWPvrbVy3",
        "outputId": "5a926b22-26a4-4977-bb4b-3a632f296282"
      },
      "source": [
        "mean_loan_amount = train_df['LoanAmount'].mean()\n",
        "mean_loan_amount"
      ],
      "execution_count": 65,
      "outputs": [
        {
          "output_type": "execute_result",
          "data": {
            "text/plain": [
              "146.41216216216216"
            ]
          },
          "metadata": {},
          "execution_count": 65
        }
      ]
    },
    {
      "cell_type": "markdown",
      "metadata": {
        "id": "m9hZXr6RimWh"
      },
      "source": [
        "Sử dụng hàm `fillna` để đổ đầy các giá trị thiếu bằng giá trị này"
      ]
    },
    {
      "cell_type": "code",
      "metadata": {
        "id": "tbkrUv7ybVwe"
      },
      "source": [
        "train_df['LoanAmount'] = train_df['LoanAmount'].fillna(mean_loan_amount)"
      ],
      "execution_count": 66,
      "outputs": []
    },
    {
      "cell_type": "markdown",
      "metadata": {
        "id": "C3QfeiYqiubR"
      },
      "source": [
        "Kiểm tra lại cột `LoanAmount` còn giá trị thiếu hay không?"
      ]
    },
    {
      "cell_type": "code",
      "metadata": {
        "id": "1B81d1BZNAje",
        "colab": {
          "base_uri": "https://localhost:8080/"
        },
        "outputId": "62102da2-dd7a-414a-cf89-a6d500b81a0e"
      },
      "source": [
        "train_df['LoanAmount'].isna().sum()"
      ],
      "execution_count": 67,
      "outputs": [
        {
          "output_type": "execute_result",
          "data": {
            "text/plain": [
              "0"
            ]
          },
          "metadata": {},
          "execution_count": 67
        }
      ]
    },
    {
      "cell_type": "markdown",
      "metadata": {
        "id": "y9tFXdV3i8Ke"
      },
      "source": [
        "```TODO 4:``` Đóng gói một hàm có khả năng đổ đầy thông tin cho đặc trưng số liên tục bằng giá trị trung bình trong cột "
      ]
    },
    {
      "cell_type": "code",
      "metadata": {
        "id": "CI18usHyiy3F"
      },
      "source": [
        "def fill_continuous_numerical_features(df, column_name):\n",
        "  \"\"\"\n",
        "  Đầu vào:\n",
        "    - df: \n",
        "      - Dạng: Pandas DataFrame. \n",
        "      - Ví dụ: train_df, val_df, test_df\n",
        "    - column_name: \n",
        "      - Miêu tả: Tên cột đặc trưng loại muốn đổ đầy các giá trị thiếu bằng bằng giá trị trung bình trong cột\n",
        "      - Điều kiện: len(column_name) > 0\n",
        "      - Ví dụ: 'LoanAmount'\n",
        "  Đầu ra:\n",
        "    - Trả về Dataframe đã được đổ đầy thông tin trong cột\n",
        "  \"\"\"\n",
        "  # Lập trình tại đây\n",
        "  \n",
        "  # Tìm ra giá trị trung bình trong cột\n",
        "  mean_value = train_df[column_name].mean()\n",
        "\n",
        "  df[column_name] = df[column_name].fillna(mean_value)\n",
        "\n",
        "  return df"
      ],
      "execution_count": 68,
      "outputs": []
    },
    {
      "cell_type": "markdown",
      "metadata": {
        "id": "lAZAVJ19jonK"
      },
      "source": [
        "```TODO 5```: Thực hiện hàm này trên các cột thiếu của tập train: `LoanAmount`, `Loan_Amount_Term`"
      ]
    },
    {
      "cell_type": "code",
      "metadata": {
        "id": "j8OT0vJhjpKt"
      },
      "source": [
        "# Lập trình tại đây\n",
        "train_df = fill_continuous_numerical_features(train_df, 'LoanAmount')\n",
        "train_df = fill_continuous_numerical_features(train_df, 'Loan_Amount_Term')"
      ],
      "execution_count": 69,
      "outputs": []
    },
    {
      "cell_type": "code",
      "metadata": {
        "id": "4xdjla2jkCPW",
        "colab": {
          "base_uri": "https://localhost:8080/"
        },
        "outputId": "f9d3ade2-e014-4ad1-c845-c391c4e5d949"
      },
      "source": [
        "# TEST CODE\n",
        "columns = ['LoanAmount', 'Loan_Amount_Term']\n",
        "for col in columns:\n",
        "  print(\"Số lượng còn thiếu ở cột {} là: {}\".format(col, train_df[col].isna().sum()))\n",
        "  print(\"Giá trị trung bình mới: {}\".format(train_df[col].mean()))\n",
        "  print('----------------------------------------------------')"
      ],
      "execution_count": 70,
      "outputs": [
        {
          "output_type": "stream",
          "name": "stdout",
          "text": [
            "Số lượng còn thiếu ở cột LoanAmount là: 0\n",
            "Giá trị trung bình mới: 146.41216216216216\n",
            "----------------------------------------------------\n",
            "Số lượng còn thiếu ở cột Loan_Amount_Term là: 0\n",
            "Giá trị trung bình mới: 342.0\n",
            "----------------------------------------------------\n"
          ]
        }
      ]
    },
    {
      "cell_type": "markdown",
      "metadata": {
        "id": "lWlsCHgYkq1d"
      },
      "source": [
        "**Kết quả mong đợi:**\n",
        "\n",
        "```\n",
        "Số lượng còn thiếu ở cột LoanAmount là: 0\n",
        "Giá trị trung bình mới: 146.41216216216213\n",
        "----------------------------------------------------\n",
        "Số lượng còn thiếu ở cột Loan_Amount_Term là: 0\n",
        "Giá trị trung bình mới: 342.0\n",
        "----------------------------------------------------\n",
        "```"
      ]
    },
    {
      "cell_type": "markdown",
      "metadata": {
        "id": "JAVEumLWlGY8"
      },
      "source": [
        "```TODO 6```: Thực hiện hàm này trên các cột thiếu của tập validation: `LoanAmount`, `Loan_Amount_Term`"
      ]
    },
    {
      "cell_type": "code",
      "metadata": {
        "id": "8B36xXlVlVQM"
      },
      "source": [
        "# Lập trình tại đây\n",
        "val_df = fill_continuous_numerical_features(val_df, 'LoanAmount')\n",
        "val_df = fill_continuous_numerical_features(val_df, 'Loan_Amount_Term')"
      ],
      "execution_count": 71,
      "outputs": []
    },
    {
      "cell_type": "code",
      "metadata": {
        "id": "uolDz_2QlYM4",
        "colab": {
          "base_uri": "https://localhost:8080/"
        },
        "outputId": "7de94ef8-e8ea-4318-8bd1-1f410bbe19d2"
      },
      "source": [
        "# TEST CODE\n",
        "columns = ['LoanAmount', 'Loan_Amount_Term']\n",
        "for col in columns:\n",
        "  print(\"Số lượng còn thiếu ở cột {} là: {}\".format(col, val_df[col].isna().sum()))\n",
        "  print(\"Giá trị trung bình mới: {}\".format(val_df[col].mean()))\n",
        "  print('----------------------------------------------------')"
      ],
      "execution_count": 72,
      "outputs": [
        {
          "output_type": "stream",
          "name": "stdout",
          "text": [
            "Số lượng còn thiếu ở cột LoanAmount là: 0\n",
            "Giá trị trung bình mới: 136.2726452610649\n",
            "----------------------------------------------------\n",
            "Số lượng còn thiếu ở cột Loan_Amount_Term là: 0\n",
            "Giá trị trung bình mới: 342.5286103542234\n",
            "----------------------------------------------------\n"
          ]
        }
      ]
    },
    {
      "cell_type": "markdown",
      "metadata": {
        "id": "Aet4MPHJlaby"
      },
      "source": [
        "**Kết quả mong đợi:**\n",
        "\n",
        "```\n",
        "Số lượng còn thiếu ở cột LoanAmount là: 0\n",
        "Giá trị trung bình mới: 136.27264526106487\n",
        "----------------------------------------------------\n",
        "Số lượng còn thiếu ở cột Loan_Amount_Term là: 0\n",
        "Giá trị trung bình mới: 342.5286103542234\n",
        "----------------------------------------------------\n",
        "```"
      ]
    },
    {
      "cell_type": "markdown",
      "metadata": {
        "id": "YSjwJXkDk1iW"
      },
      "source": [
        "### 6.3 Xử lý đặc trưng số rời rạc bị thiếu.\n",
        "Bổ sung giá trị bị thiếu bằng giá trị xuất hiện nhiều nhất trong cột. Ta có thể sử dụng lại hàm ```fill_categorical_features``` cho đặc trưng này"
      ]
    },
    {
      "cell_type": "markdown",
      "metadata": {
        "id": "2iddppOwlvOn"
      },
      "source": [
        "Thực hiện hàm này trên cột thiếu của tập train: `Credit_History`"
      ]
    },
    {
      "cell_type": "code",
      "metadata": {
        "id": "m7eKJne5kPQn"
      },
      "source": [
        "train_df = fill_categorical_features(train_df, 'Credit_History')"
      ],
      "execution_count": 73,
      "outputs": []
    },
    {
      "cell_type": "markdown",
      "metadata": {
        "id": "QFvt5g1Ql_y2"
      },
      "source": [
        "Thực hiện hàm này trên cột thiếu của tập validation: `Credit_History`"
      ]
    },
    {
      "cell_type": "code",
      "metadata": {
        "id": "-TTF2g-0l-sC"
      },
      "source": [
        "val_df = fill_categorical_features(val_df, 'Credit_History')"
      ],
      "execution_count": 74,
      "outputs": []
    },
    {
      "cell_type": "markdown",
      "metadata": {
        "id": "lmvJbvLkmpuv"
      },
      "source": [
        "## 7. Chuẩn hóa các cột"
      ]
    },
    {
      "cell_type": "markdown",
      "metadata": {
        "id": "OdUl3OlAm2RE"
      },
      "source": [
        "### 7.1 Viết hàm chuẩn hóa"
      ]
    },
    {
      "cell_type": "markdown",
      "metadata": {
        "id": "3l_KH3D4FCvb"
      },
      "source": [
        "Hàm chuẩn hóa này sẽ có thể chuẩn hóa dữ liệu theo phân phối chuẩn hoặc sử dụng minmax scale"
      ]
    },
    {
      "cell_type": "code",
      "metadata": {
        "id": "RTh3sKLbnWL8"
      },
      "source": [
        "def scaling(df, scaler, column_names, mode='train'):\n",
        "  \"\"\"\n",
        "  Đầu vào:\n",
        "    - df: \n",
        "      - Dạng: Pandas DataFrame. \n",
        "      - Ví dụ: train_df, val_df, test_df\n",
        "    - scaler: \n",
        "      - Dạng: đối tượng được tạo bởi Scaler bởi sklearn. \n",
        "      - Ví dụ: StandardScaler() hoặc MinMaxScaler()\n",
        "    - column_names: \n",
        "      - Dạng: mảng Python chứa tên các cột muốn chuẩn hóa. \n",
        "      - Ví dụ: ['LoanAmount', 'ApplicantIncome', 'CoapplicantIncome']\n",
        "      - Điều kiện: len(column_names) > 0\n",
        "    - mode: Chế độ chuẩn hóa\n",
        "      - Dạng: chuỗi Python\n",
        "      - Ví dụ: một trong 3 giá trị {'train', 'val', 'test'}\n",
        "  Đầu ra:\n",
        "    - Trả về Dataframe đã được chuẩn hóa\n",
        "  \"\"\"\n",
        "  # Nếu mode không hợp lệ thì báo lỗi\n",
        "  assert mode in ['train', 'val', 'test'], 'Mode chỉ có thể nhận 3 giá trị nằm trong {train, val, test}'\n",
        "  \n",
        "  # Truy xuất các cột\n",
        "  x = df[column_names].values\n",
        "\n",
        "  # Nếu chế độ train thì tìm các thông số của phân phối và chuẩn hóa\n",
        "  if mode == 'train':\n",
        "    x_scaled = scaler.fit_transform(x)\n",
        "  \n",
        "  # Nếu chế độ là val hoặc test thì dùng các tham số để chuẩn hóa\n",
        "  else:\n",
        "    x_scaled = scaler.transform(x)\n",
        "\n",
        "  # Tạo dataframe con cho các dữ liệu đã được chuẩn hóa\n",
        "  normalized_features = pd.DataFrame(x_scaled, columns=column_names, index = df.index)\n",
        "    \n",
        "  # Gán lại dataframe con này cho dataframe lớn ban đầu\n",
        "  df[column_names] = normalized_features\n",
        "\n",
        "  return df\n"
      ],
      "execution_count": 75,
      "outputs": []
    },
    {
      "cell_type": "markdown",
      "metadata": {
        "id": "OshDSQTXvEp1"
      },
      "source": [
        "### 7.2 Chuẩn hóa cho tập train"
      ]
    },
    {
      "cell_type": "markdown",
      "metadata": {
        "id": "7Ag1rYx_qNkE"
      },
      "source": [
        "Thực hiện chuẩn hóa theo min max cho 4 cột `LoanAmount`, `ApplicantIncome`, `CoapplicantIncome`, `Loan_Amount_Term` của tập train"
      ]
    },
    {
      "cell_type": "code",
      "metadata": {
        "id": "vSCUbWUXqXzn"
      },
      "source": [
        "from sklearn.preprocessing import MinMaxScaler\n",
        "min_max_scaler = MinMaxScaler()\n",
        "\n",
        "column_names_to_normalize =  ['LoanAmount', 'ApplicantIncome', 'CoapplicantIncome', 'Loan_Amount_Term']\n",
        "train_df = scaling(train_df, min_max_scaler, column_names_to_normalize, mode='train')"
      ],
      "execution_count": 76,
      "outputs": []
    },
    {
      "cell_type": "markdown",
      "metadata": {
        "id": "RBuRLpgnuyqK"
      },
      "source": [
        "Hiện thị các phân phối này"
      ]
    },
    {
      "cell_type": "code",
      "metadata": {
        "id": "vOqhWhb6ux9s"
      },
      "source": [
        "def display_distribution(df, features):\n",
        "  plt.figure(figsize=(12,28*4))\n",
        "  gs = gridspec.GridSpec(28, 1)\n",
        "  for i, cn in enumerate(features):\n",
        "      ax = plt.subplot(gs[i])\n",
        "      sns.distplot(df[cn][df.Loan_Status == 'Y'], bins=50)\n",
        "      sns.distplot(df[cn][df.Loan_Status == 'N'], bins=50)\n",
        "      ax.set_xlabel('')\n",
        "      ax.set_title('histogram of feature: ' + str(cn))\n",
        "  plt.show()"
      ],
      "execution_count": 77,
      "outputs": []
    },
    {
      "cell_type": "markdown",
      "metadata": {
        "id": "DVSDmD_6N6Xf"
      },
      "source": [
        "Bạn có thể thắc mắc tại sao lại không sử dụng chuẩn hóa về phân phối chuẩn đơn vị (StandardScaler) thì trong trường hợp này các giá trị ví dụ `LoanAmount` đều là số dương cho nên chúng ta sẽ không ưu tiên sử dụng phân phối này - phân phối này tạo ra những `giá trị âm` bên trái trung bình 0. Có thể dùng phân phối `LogNormal` để thay thế."
      ]
    },
    {
      "cell_type": "code",
      "metadata": {
        "id": "eCG_DUUyvMN3",
        "colab": {
          "base_uri": "https://localhost:8080/",
          "height": 838
        },
        "outputId": "72c8dc19-02e7-4658-b406-c9d26ab0d5a7"
      },
      "source": [
        "columns_to_display = ['LoanAmount', 'ApplicantIncome', 'CoapplicantIncome']\n",
        "display_distribution(train_df, columns_to_display)"
      ],
      "execution_count": 78,
      "outputs": [
        {
          "output_type": "stream",
          "name": "stderr",
          "text": [
            "/usr/local/lib/python3.7/dist-packages/seaborn/distributions.py:2619: FutureWarning: `distplot` is a deprecated function and will be removed in a future version. Please adapt your code to use either `displot` (a figure-level function with similar flexibility) or `histplot` (an axes-level function for histograms).\n",
            "  warnings.warn(msg, FutureWarning)\n",
            "/usr/local/lib/python3.7/dist-packages/seaborn/distributions.py:2619: FutureWarning: `distplot` is a deprecated function and will be removed in a future version. Please adapt your code to use either `displot` (a figure-level function with similar flexibility) or `histplot` (an axes-level function for histograms).\n",
            "  warnings.warn(msg, FutureWarning)\n",
            "/usr/local/lib/python3.7/dist-packages/seaborn/distributions.py:2619: FutureWarning: `distplot` is a deprecated function and will be removed in a future version. Please adapt your code to use either `displot` (a figure-level function with similar flexibility) or `histplot` (an axes-level function for histograms).\n",
            "  warnings.warn(msg, FutureWarning)\n",
            "/usr/local/lib/python3.7/dist-packages/seaborn/distributions.py:2619: FutureWarning: `distplot` is a deprecated function and will be removed in a future version. Please adapt your code to use either `displot` (a figure-level function with similar flexibility) or `histplot` (an axes-level function for histograms).\n",
            "  warnings.warn(msg, FutureWarning)\n",
            "/usr/local/lib/python3.7/dist-packages/seaborn/distributions.py:2619: FutureWarning: `distplot` is a deprecated function and will be removed in a future version. Please adapt your code to use either `displot` (a figure-level function with similar flexibility) or `histplot` (an axes-level function for histograms).\n",
            "  warnings.warn(msg, FutureWarning)\n",
            "/usr/local/lib/python3.7/dist-packages/seaborn/distributions.py:2619: FutureWarning: `distplot` is a deprecated function and will be removed in a future version. Please adapt your code to use either `displot` (a figure-level function with similar flexibility) or `histplot` (an axes-level function for histograms).\n",
            "  warnings.warn(msg, FutureWarning)\n"
          ]
        },
        {
          "output_type": "display_data",
          "data": {
            "text/plain": [
              "<Figure size 864x8064 with 3 Axes>"
            ],
            "image/png": "[encoded data removed]"
          },
          "metadata": {
            "needs_background": "light"
          }
        }
      ]
    },
    {
      "cell_type": "markdown",
      "metadata": {
        "id": "HVkCU3Krwd-x"
      },
      "source": [
        "### 7.3 Chuẩn hóa cho tập validation"
      ]
    },
    {
      "cell_type": "markdown",
      "metadata": {
        "id": "NkiKBDGOwkV4"
      },
      "source": [
        "`TODO 7`: Sử dụng tham số min max của tập train để chuẩn hóa cho 4 cột `Loan_Amount_Term`, `LoanAmount`, `ApplicantIncome`, `CoapplicantIncome` của tập validation"
      ]
    },
    {
      "cell_type": "code",
      "metadata": {
        "id": "D38ey1w9vzJY"
      },
      "source": [
        "column_names_to_normalize =  ['LoanAmount', 'ApplicantIncome', 'CoapplicantIncome', 'Loan_Amount_Term']\n",
        "\n",
        "val_df = scaling(val_df, min_max_scaler, column_names_to_normalize, mode='val')"
      ],
      "execution_count": 79,
      "outputs": []
    },
    {
      "cell_type": "code",
      "metadata": {
        "colab": {
          "base_uri": "https://localhost:8080/"
        },
        "id": "NrXXq5kexDkX",
        "outputId": "f469f112-f17c-4336-a3c5-4cfc31a9adf8"
      },
      "source": [
        "val_df['LoanAmount'].mean()"
      ],
      "execution_count": 80,
      "outputs": [
        {
          "output_type": "execute_result",
          "data": {
            "text/plain": [
              "0.1841861725919897"
            ]
          },
          "metadata": {},
          "execution_count": 80
        }
      ]
    },
    {
      "cell_type": "code",
      "metadata": {
        "id": "2S4TCaVPw88R",
        "colab": {
          "base_uri": "https://localhost:8080/"
        },
        "outputId": "e3e112c9-b8a2-4134-f7e7-22589b78890b"
      },
      "source": [
        "# TEST CODE\n",
        "# Lập trình tại đây\n",
        "columns = ['LoanAmount', 'ApplicantIncome', 'CoapplicantIncome', 'Loan_Amount_Term']\n",
        "for col in columns:\n",
        "  print(\"Giá trị trung bình của cột {} mới là : {}\".format(col, val_df[col].mean()))"
      ],
      "execution_count": 81,
      "outputs": [
        {
          "output_type": "stream",
          "name": "stdout",
          "text": [
            "Giá trị trung bình của cột LoanAmount mới là : 0.1841861725919897\n",
            "Giá trị trung bình của cột ApplicantIncome mới là : 0.05758317198566323\n",
            "Giá trị trung bình của cột CoapplicantIncome mới là : 0.037669562403718757\n",
            "Giá trị trung bình của cột Loan_Amount_Term mới là : 0.7062577144321013\n"
          ]
        }
      ]
    },
    {
      "cell_type": "markdown",
      "metadata": {
        "id": "7J0XgzDfxfmC"
      },
      "source": [
        "**Kết quả mong đợi:**\n",
        "\n",
        "```\n",
        "Giá trị trung bình của cột LoanAmount mới là : 0.18418617259198974\n",
        "Giá trị trung bình của cột ApplicantIncome mới là : 0.05758317198566323\n",
        "Giá trị trung bình của cột CoapplicantIncome mới là : 0.037669562403718757\n",
        "Giá trị trung bình của cột Loan_Amount_Term mới là : 0.7062577144321035\n",
        "```"
      ]
    },
    {
      "cell_type": "markdown",
      "metadata": {
        "id": "7crd3__yylby"
      },
      "source": [
        "## 8. Số hóa các đặc trưng loại"
      ]
    },
    {
      "cell_type": "markdown",
      "metadata": {
        "id": "W65A0Au30Lpr"
      },
      "source": [
        "Danh sách các cột đặc trưng loại.\n",
        "- Gender\n",
        "- Married\n",
        "- Dependents\n",
        "- Education\n",
        "- Self_Employed\n",
        "- Property_Area\n",
        "- Loan_Status"
      ]
    },
    {
      "cell_type": "markdown",
      "metadata": {
        "id": "BJSzYJVd0b5D"
      },
      "source": [
        "### 8.1 Định nghĩa danh sách chuyển đặc trưng loại thành số tương ứng"
      ]
    },
    {
      "cell_type": "markdown",
      "metadata": {
        "id": "4zwB9NpE0giu"
      },
      "source": [
        "Ta định nghĩa một từ điển lồng trong từ điển định nghĩa những giá trị tương ứng khi ta số hóa.\n",
        "\n",
        "Ví dụ:  \n",
        "- Cột `Gender` các giá trị có thể là `Male` và `Female` ta sẽ chuyển thành `0` và `1`\n",
        "- Cột `Dependents` các giá trị có thể là chuỗi `'0'`, `'1'`, `'2'`, `'3+'` ta chuyển thành số `0`, `1`, `2`, `3`"
      ]
    },
    {
      "cell_type": "code",
      "metadata": {
        "id": "qJJq1S-1yh0Y"
      },
      "source": [
        "categorical_to_number = {\n",
        "    'Gender': {\n",
        "        'Male': 0,\n",
        "        'Female': 1, \n",
        "    },\n",
        "    'Married': {\n",
        "        'Yes': 1, \n",
        "        'No': 0\n",
        "    },\n",
        "    'Dependents': {\n",
        "      '0': 0,\n",
        "      '1': 1,\n",
        "      '2': 2,\n",
        "      '3+': 3,\n",
        "    }, \n",
        "    'Education': {\n",
        "        'Not Graduate': 0,\n",
        "        'Graduate': 1,\n",
        "    },\n",
        "    'Self_Employed': {\n",
        "        'No': 0,\n",
        "        'Yes': 1, \n",
        "    },\n",
        "    'Property_Area': {\n",
        "        'Rural': 0,\n",
        "        'Urban': 1, \n",
        "        'Semiurban': 2, \n",
        "    },\n",
        "    'Loan_Status': {\n",
        "        'N': 0,\n",
        "        'Y': 1, \n",
        "    }\n",
        "\n",
        "}"
      ],
      "execution_count": 82,
      "outputs": []
    },
    {
      "cell_type": "markdown",
      "metadata": {
        "id": "BEjGHcDq2PDw"
      },
      "source": [
        "### 8.2 Tiến hành chuyển đặc trưng loại thành số trên tập train"
      ]
    },
    {
      "cell_type": "markdown",
      "metadata": {
        "id": "3ixgCNW42X8G"
      },
      "source": [
        "Hàm để chuyển một cột từ loại thành số. Ví dụ với cột `Gender`\n",
        "\n",
        "```train_df['Gender'].map( {'Male': 0, 'Female': 1} ).astype(int)```"
      ]
    },
    {
      "cell_type": "markdown",
      "metadata": {
        "id": "FOTy5IjW1n1J"
      },
      "source": [
        "Thay vì chạy hàm này trên từng cột thì ta `lặp` qua từng cột tập `train` và sử dụng hàm này"
      ]
    },
    {
      "cell_type": "code",
      "metadata": {
        "id": "hWuyAKaY1YQ7"
      },
      "source": [
        "for col in categorical_to_number:\n",
        "  alternative_values = categorical_to_number[col]\n",
        "  train_df[col] =  train_df[col].map( alternative_values ).astype(int)"
      ],
      "execution_count": 83,
      "outputs": []
    },
    {
      "cell_type": "markdown",
      "metadata": {
        "id": "Ch22KR_12DS6"
      },
      "source": [
        "Giờ ta có thể kiểm tra tất cả các cột đã được số hóa giá trị"
      ]
    },
    {
      "cell_type": "code",
      "metadata": {
        "id": "BCcnv_nO2Cum",
        "colab": {
          "base_uri": "https://localhost:8080/",
          "height": 270
        },
        "outputId": "35d4ef4c-c7b9-4ddd-9dd9-934b2e4f42f9"
      },
      "source": [
        "train_df.head()"
      ],
      "execution_count": 84,
      "outputs": [
        {
          "output_type": "execute_result",
          "data": {
            "text/plain": [
              "    Loan_ID  Gender  Married  Dependents  Education  Self_Employed  \\\n",
              "0  LP001002       0        0           0          1              0   \n",
              "1  LP001003       0        1           1          1              0   \n",
              "2  LP001005       0        1           0          1              1   \n",
              "3  LP001006       0        1           0          0              0   \n",
              "4  LP001008       0        0           0          1              0   \n",
              "\n",
              "   ApplicantIncome  CoapplicantIncome  LoanAmount  Loan_Amount_Term  \\\n",
              "0         0.070489           0.000000    0.198860           0.74359   \n",
              "1         0.054830           0.036192    0.172214           0.74359   \n",
              "2         0.035250           0.000000    0.082489           0.74359   \n",
              "3         0.030093           0.056592    0.160637           0.74359   \n",
              "4         0.072356           0.000000    0.191027           0.74359   \n",
              "\n",
              "   Credit_History  Property_Area  Loan_Status  \n",
              "0             1.0              1            1  \n",
              "1             1.0              0            0  \n",
              "2             1.0              1            1  \n",
              "3             1.0              1            1  \n",
              "4             1.0              1            1  "
            ],
            "text/html": [
              "\n",
              "  <div id=\"df-3f19ff1a-6ff4-4513-b73c-c87c1617257f\">\n",
              "    <div class=\"colab-df-container\">\n",
              "      <div>\n",
              "<style scoped>\n",
              "    .dataframe tbody tr th:only-of-type {\n",
              "        vertical-align: middle;\n",
              "    }\n",
              "\n",
              "    .dataframe tbody tr th {\n",
              "        vertical-align: top;\n",
              "    }\n",
              "\n",
              "    .dataframe thead th {\n",
              "        text-align: right;\n",
              "    }\n",
              "</style>\n",
              "<table border=\"1\" class=\"dataframe\">\n",
              "  <thead>\n",
              "    <tr style=\"text-align: right;\">\n",
              "      <th></th>\n",
              "      <th>Loan_ID</th>\n",
              "      <th>Gender</th>\n",
              "      <th>Married</th>\n",
              "      <th>Dependents</th>\n",
              "      <th>Education</th>\n",
              "      <th>Self_Employed</th>\n",
              "      <th>ApplicantIncome</th>\n",
              "      <th>CoapplicantIncome</th>\n",
              "      <th>LoanAmount</th>\n",
              "      <th>Loan_Amount_Term</th>\n",
              "      <th>Credit_History</th>\n",
              "      <th>Property_Area</th>\n",
              "      <th>Loan_Status</th>\n",
              "    </tr>\n",
              "  </thead>\n",
              "  <tbody>\n",
              "    <tr>\n",
              "      <th>0</th>\n",
              "      <td>LP001002</td>\n",
              "      <td>0</td>\n",
              "      <td>0</td>\n",
              "      <td>0</td>\n",
              "      <td>1</td>\n",
              "      <td>0</td>\n",
              "      <td>0.070489</td>\n",
              "      <td>0.000000</td>\n",
              "      <td>0.198860</td>\n",
              "      <td>0.74359</td>\n",
              "      <td>1.0</td>\n",
              "      <td>1</td>\n",
              "      <td>1</td>\n",
              "    </tr>\n",
              "    <tr>\n",
              "      <th>1</th>\n",
              "      <td>LP001003</td>\n",
              "      <td>0</td>\n",
              "      <td>1</td>\n",
              "      <td>1</td>\n",
              "      <td>1</td>\n",
              "      <td>0</td>\n",
              "      <td>0.054830</td>\n",
              "      <td>0.036192</td>\n",
              "      <td>0.172214</td>\n",
              "      <td>0.74359</td>\n",
              "      <td>1.0</td>\n",
              "      <td>0</td>\n",
              "      <td>0</td>\n",
              "    </tr>\n",
              "    <tr>\n",
              "      <th>2</th>\n",
              "      <td>LP001005</td>\n",
              "      <td>0</td>\n",
              "      <td>1</td>\n",
              "      <td>0</td>\n",
              "      <td>1</td>\n",
              "      <td>1</td>\n",
              "      <td>0.035250</td>\n",
              "      <td>0.000000</td>\n",
              "      <td>0.082489</td>\n",
              "      <td>0.74359</td>\n",
              "      <td>1.0</td>\n",
              "      <td>1</td>\n",
              "      <td>1</td>\n",
              "    </tr>\n",
              "    <tr>\n",
              "      <th>3</th>\n",
              "      <td>LP001006</td>\n",
              "      <td>0</td>\n",
              "      <td>1</td>\n",
              "      <td>0</td>\n",
              "      <td>0</td>\n",
              "      <td>0</td>\n",
              "      <td>0.030093</td>\n",
              "      <td>0.056592</td>\n",
              "      <td>0.160637</td>\n",
              "      <td>0.74359</td>\n",
              "      <td>1.0</td>\n",
              "      <td>1</td>\n",
              "      <td>1</td>\n",
              "    </tr>\n",
              "    <tr>\n",
              "      <th>4</th>\n",
              "      <td>LP001008</td>\n",
              "      <td>0</td>\n",
              "      <td>0</td>\n",
              "      <td>0</td>\n",
              "      <td>1</td>\n",
              "      <td>0</td>\n",
              "      <td>0.072356</td>\n",
              "      <td>0.000000</td>\n",
              "      <td>0.191027</td>\n",
              "      <td>0.74359</td>\n",
              "      <td>1.0</td>\n",
              "      <td>1</td>\n",
              "      <td>1</td>\n",
              "    </tr>\n",
              "  </tbody>\n",
              "</table>\n",
              "</div>\n",
              "      <button class=\"colab-df-convert\" onclick=\"convertToInteractive('df-3f19ff1a-6ff4-4513-b73c-c87c1617257f')\"\n",
              "              title=\"Convert this dataframe to an interactive table.\"\n",
              "              style=\"display:none;\">\n",
              "        \n",
              "  <svg xmlns=\"http://www.w3.org/2000/svg\" height=\"24px\"viewBox=\"0 0 24 24\"\n",
              "       width=\"24px\">\n",
              "    <path d=\"M0 0h24v24H0V0z\" fill=\"none\"/>\n",
              "    <path d=\"M18.56 5.44l.94 2.06.94-2.06 2.06-.94-2.06-.94-.94-2.06-.94 2.06-2.06.94zm-11 1L8.5 8.5l.94-2.06 2.06-.94-2.06-.94L8.5 2.5l-.94 2.06-2.06.94zm10 10l.94 2.06.94-2.06 2.06-.94-2.06-.94-.94-2.06-.94 2.06-2.06.94z\"/><path d=\"M17.41 7.96l-1.37-1.37c-.4-.4-.92-.59-1.43-.59-.52 0-1.04.2-1.43.59L10.3 9.45l-7.72 7.72c-.78.78-.78 2.05 0 2.83L4 21.41c.39.39.9.59 1.41.59.51 0 1.02-.2 1.41-.59l7.78-7.78 2.81-2.81c.8-.78.8-2.07 0-2.86zM5.41 20L4 18.59l7.72-7.72 1.47 1.35L5.41 20z\"/>\n",
              "  </svg>\n",
              "      </button>\n",
              "      \n",
              "  <style>\n",
              "    .colab-df-container {\n",
              "      display:flex;\n",
              "      flex-wrap:wrap;\n",
              "      gap: 12px;\n",
              "    }\n",
              "\n",
              "    .colab-df-convert {\n",
              "      background-color: #E8F0FE;\n",
              "      border: none;\n",
              "      border-radius: 50%;\n",
              "      cursor: pointer;\n",
              "      display: none;\n",
              "      fill: #1967D2;\n",
              "      height: 32px;\n",
              "      padding: 0 0 0 0;\n",
              "      width: 32px;\n",
              "    }\n",
              "\n",
              "    .colab-df-convert:hover {\n",
              "      background-color: #E2EBFA;\n",
              "      box-shadow: 0px 1px 2px rgba(60, 64, 67, 0.3), 0px 1px 3px 1px rgba(60, 64, 67, 0.15);\n",
              "      fill: #174EA6;\n",
              "    }\n",
              "\n",
              "    [theme=dark] .colab-df-convert {\n",
              "      background-color: #3B4455;\n",
              "      fill: #D2E3FC;\n",
              "    }\n",
              "\n",
              "    [theme=dark] .colab-df-convert:hover {\n",
              "      background-color: #434B5C;\n",
              "      box-shadow: 0px 1px 3px 1px rgba(0, 0, 0, 0.15);\n",
              "      filter: drop-shadow(0px 1px 2px rgba(0, 0, 0, 0.3));\n",
              "      fill: #FFFFFF;\n",
              "    }\n",
              "  </style>\n",
              "\n",
              "      <script>\n",
              "        const buttonEl =\n",
              "          document.querySelector('#df-3f19ff1a-6ff4-4513-b73c-c87c1617257f button.colab-df-convert');\n",
              "        buttonEl.style.display =\n",
              "          google.colab.kernel.accessAllowed ? 'block' : 'none';\n",
              "\n",
              "        async function convertToInteractive(key) {\n",
              "          const element = document.querySelector('#df-3f19ff1a-6ff4-4513-b73c-c87c1617257f');\n",
              "          const dataTable =\n",
              "            await google.colab.kernel.invokeFunction('convertToInteractive',\n",
              "                                                     [key], {});\n",
              "          if (!dataTable) return;\n",
              "\n",
              "          const docLinkHtml = 'Like what you see? Visit the ' +\n",
              "            '<a target=\"_blank\" href=https://colab.research.google.com/notebooks/data_table.ipynb>data table notebook</a>'\n",
              "            + ' to learn more about interactive tables.';\n",
              "          element.innerHTML = '';\n",
              "          dataTable['output_type'] = 'display_data';\n",
              "          await google.colab.output.renderOutput(dataTable, element);\n",
              "          const docLink = document.createElement('div');\n",
              "          docLink.innerHTML = docLinkHtml;\n",
              "          element.appendChild(docLink);\n",
              "        }\n",
              "      </script>\n",
              "    </div>\n",
              "  </div>\n",
              "  "
            ]
          },
          "metadata": {},
          "execution_count": 84
        }
      ]
    },
    {
      "cell_type": "markdown",
      "metadata": {
        "id": "Uxvssu2k2Vhf"
      },
      "source": [
        "### 8.3 Tiến hành chuyển đặc trưng loại thành số trên tập validation"
      ]
    },
    {
      "cell_type": "markdown",
      "metadata": {
        "id": "bUwa7nnz25HY"
      },
      "source": [
        "`TODO 8`: Số hóa các cột tương tự với tập validation, sử dụng từ điển `categorical_to_number` bên trên"
      ]
    },
    {
      "cell_type": "code",
      "metadata": {
        "id": "7w22oD192Hgw"
      },
      "source": [
        "for col in categorical_to_number:\n",
        "  alternative_values = categorical_to_number[col]\n",
        "  val_df[col] = val_df[col].map(alternative_values).astype(int)"
      ],
      "execution_count": 86,
      "outputs": []
    },
    {
      "cell_type": "code",
      "metadata": {
        "id": "QQtgshTO3Gl4",
        "colab": {
          "base_uri": "https://localhost:8080/"
        },
        "outputId": "04230488-050e-4b7d-bc93-702830fef038"
      },
      "source": [
        "# TEST CODE\n",
        "columns = ['Gender', 'Married', 'Dependents', 'Education', 'Self_Employed', 'Property_Area', 'Loan_Status']\n",
        "for col in columns:\n",
        "  print(\"Cột {} có kiểu mới là: {}\".format(col, val_df[col].dtype))"
      ],
      "execution_count": 87,
      "outputs": [
        {
          "output_type": "stream",
          "name": "stdout",
          "text": [
            "Cột Gender có kiểu mới là: int64\n",
            "Cột Married có kiểu mới là: int64\n",
            "Cột Dependents có kiểu mới là: int64\n",
            "Cột Education có kiểu mới là: int64\n",
            "Cột Self_Employed có kiểu mới là: int64\n",
            "Cột Property_Area có kiểu mới là: int64\n",
            "Cột Loan_Status có kiểu mới là: int64\n"
          ]
        }
      ]
    },
    {
      "cell_type": "markdown",
      "metadata": {
        "id": "B2zlZZ5T3vO9"
      },
      "source": [
        "**Kết quả mong đợi:**\n",
        "\n",
        "```\n",
        "Cột Gender có kiểu mới là: int64\n",
        "Cột Married có kiểu mới là: int64\n",
        "Cột Dependents có kiểu mới là: int64\n",
        "Cột Education có kiểu mới là: int64\n",
        "Cột Self_Employed có kiểu mới là: int64\n",
        "Cột Property_Area có kiểu mới là: int64\n",
        "Cột Loan_Status có kiểu mới là: int64\n",
        "```"
      ]
    },
    {
      "cell_type": "markdown",
      "metadata": {
        "id": "y40A8GNt4eBQ"
      },
      "source": [
        "## 9. Xóa cột "
      ]
    },
    {
      "cell_type": "markdown",
      "metadata": {
        "id": "iD0B6IPv4i47"
      },
      "source": [
        "### 9.1 Trên tập train Xóa cột `Loan_ID`. Sử dụng cột `Loan_Status` làm nhãn"
      ]
    },
    {
      "cell_type": "code",
      "metadata": {
        "id": "wp0Aee784t7c"
      },
      "source": [
        "train_Y = train_df['Loan_Status']\n",
        "train_X = train_df.drop(['Loan_ID', 'Loan_Status'], axis=1)"
      ],
      "execution_count": 88,
      "outputs": []
    },
    {
      "cell_type": "markdown",
      "metadata": {
        "id": "QnrmcAuk4s8T"
      },
      "source": [
        "### 9.2 Trên tập validation Xóa cột `Loan_ID`. Sử dụng cột `Loan_Status` làm nhãn"
      ]
    },
    {
      "cell_type": "code",
      "metadata": {
        "id": "WK87V4JC56FO"
      },
      "source": [
        "val_Y = val_df['Loan_Status']\n",
        "val_X = val_df.drop(['Loan_ID', 'Loan_Status'], axis=1)"
      ],
      "execution_count": 89,
      "outputs": []
    },
    {
      "cell_type": "markdown",
      "metadata": {
        "id": "3VsajB3d-z1f"
      },
      "source": [
        "## 10. Hiển thị ma trận tương quan"
      ]
    },
    {
      "cell_type": "markdown",
      "metadata": {
        "id": "FtpFvkREKc0e"
      },
      "source": [
        "### 10.1 Hệ số tương quan"
      ]
    },
    {
      "cell_type": "markdown",
      "metadata": {
        "id": "zTB3EjqmIJGO"
      },
      "source": [
        "Hệ số tương quan là một chỉ số đo lường của một số loại tương quan, nghĩa là mối liên hệ thống kê giữa hai biến số. "
      ]
    },
    {
      "cell_type": "markdown",
      "metadata": {
        "id": "OUKaN3E_G2iy"
      },
      "source": [
        "$$r =\\frac{ \\sum_{i=1}^{n}(x_i-\\bar{x})(y_i-\\bar{y}) }{\n",
        "        \\sqrt{\\sum_{i=1}^{n}(x_i-\\bar{x})^2}\\sqrt{\\sum_{i=1}^{n}(y_i-\\bar{y})^2}}\n",
        "$$\n"
      ]
    },
    {
      "cell_type": "markdown",
      "metadata": {
        "id": "uUguPASpIRWL"
      },
      "source": [
        "$\\bar{x}$: Trung bình các giá trị $x$ \\\n",
        "$\\bar{y}$: Trung bình các giá trị $y$ \\\n",
        "$r \\in [-1, 1]$"
      ]
    },
    {
      "cell_type": "markdown",
      "metadata": {
        "id": "vI0s1sl_Iyox"
      },
      "source": [
        "Nhận xét:\n",
        "- Khi mối tương quan này nhỏ hơn 0, đồng nghĩa mối quan hệ nghịch biến, khi biến này tăng thì biến kia giảm và ngược lại\n",
        "- Khi mối tương quan này lớn hơn 0, đồng nghĩa mối quan hệ đồng biến, khi biến này tăng thì biến kia tăng và khi biến này giảm thì biến kia giảm\n",
        "- Khi mối tương quan này bằng 0, 2 biến không có quan hệ với nhau."
      ]
    },
    {
      "cell_type": "markdown",
      "metadata": {
        "id": "Heiv_tkLBWcO"
      },
      "source": [
        "### 10.2 Tương quan trên tập train"
      ]
    },
    {
      "cell_type": "markdown",
      "metadata": {
        "id": "JSlB0LdQKgxZ"
      },
      "source": [
        "Hiển thị ma trận tương quan. Ma trận này hiển thị tất cả các giá trị tương quan giữa các cột dữ liệu với nhau. Trong thực tế, việc hiển thị này thường để xác định các cặp đặc trưng tương quan mạnh với nhau từ đó đưa ra quyết định `không sử dụng` một trong 2 đặc trưng để xây dựng mô hình."
      ]
    },
    {
      "cell_type": "code",
      "metadata": {
        "colab": {
          "base_uri": "https://localhost:8080/",
          "height": 480
        },
        "id": "TXSR1HT6-5ID",
        "outputId": "4d7847f3-0322-4d76-b84f-e8a2d9a26302"
      },
      "source": [
        "train_df.corr().style.background_gradient(cmap='coolwarm').set_precision(2)"
      ],
      "execution_count": 90,
      "outputs": [
        {
          "output_type": "stream",
          "name": "stderr",
          "text": [
            "/usr/local/lib/python3.7/dist-packages/ipykernel_launcher.py:1: FutureWarning: this method is deprecated in favour of `Styler.format(precision=..)`\n",
            "  \"\"\"Entry point for launching an IPython kernel.\n"
          ]
        },
        {
          "output_type": "execute_result",
          "data": {
            "text/plain": [
              "<pandas.io.formats.style.Styler at 0x7feda64140d0>"
            ],
            "text/html": [
              "<style type=\"text/css\">\n",
              "#T_1a2d9_row0_col0, #T_1a2d9_row1_col1, #T_1a2d9_row2_col2, #T_1a2d9_row3_col3, #T_1a2d9_row4_col4, #T_1a2d9_row5_col5, #T_1a2d9_row6_col6, #T_1a2d9_row7_col7, #T_1a2d9_row8_col8, #T_1a2d9_row9_col9, #T_1a2d9_row10_col10, #T_1a2d9_row11_col11 {\n",
              "  background-color: #b40426;\n",
              "  color: #f1f1f1;\n",
              "}\n",
              "#T_1a2d9_row0_col1, #T_1a2d9_row0_col2, #T_1a2d9_row0_col7, #T_1a2d9_row1_col0, #T_1a2d9_row1_col8, #T_1a2d9_row2_col3, #T_1a2d9_row2_col8, #T_1a2d9_row2_col9, #T_1a2d9_row5_col6, #T_1a2d9_row6_col5, #T_1a2d9_row6_col11, #T_1a2d9_row7_col10, #T_1a2d9_row8_col4 {\n",
              "  background-color: #3b4cc0;\n",
              "  color: #f1f1f1;\n",
              "}\n",
              "#T_1a2d9_row0_col3, #T_1a2d9_row9_col7 {\n",
              "  background-color: #5875e1;\n",
              "  color: #f1f1f1;\n",
              "}\n",
              "#T_1a2d9_row0_col4, #T_1a2d9_row9_col4 {\n",
              "  background-color: #445acc;\n",
              "  color: #f1f1f1;\n",
              "}\n",
              "#T_1a2d9_row0_col5, #T_1a2d9_row4_col11, #T_1a2d9_row5_col11, #T_1a2d9_row8_col6, #T_1a2d9_row11_col6 {\n",
              "  background-color: #4a63d3;\n",
              "  color: #f1f1f1;\n",
              "}\n",
              "#T_1a2d9_row0_col6, #T_1a2d9_row0_col9, #T_1a2d9_row2_col10, #T_1a2d9_row11_col4 {\n",
              "  background-color: #4358cb;\n",
              "  color: #f1f1f1;\n",
              "}\n",
              "#T_1a2d9_row0_col8 {\n",
              "  background-color: #6c8ff1;\n",
              "  color: #f1f1f1;\n",
              "}\n",
              "#T_1a2d9_row0_col10, #T_1a2d9_row11_col3 {\n",
              "  background-color: #6485ec;\n",
              "  color: #f1f1f1;\n",
              "}\n",
              "#T_1a2d9_row0_col11, #T_1a2d9_row1_col4, #T_1a2d9_row1_col10, #T_1a2d9_row4_col9, #T_1a2d9_row6_col8, #T_1a2d9_row7_col9, #T_1a2d9_row8_col9, #T_1a2d9_row8_col11 {\n",
              "  background-color: #455cce;\n",
              "  color: #f1f1f1;\n",
              "}\n",
              "#T_1a2d9_row1_col2 {\n",
              "  background-color: #cad8ef;\n",
              "  color: #000000;\n",
              "}\n",
              "#T_1a2d9_row1_col3, #T_1a2d9_row3_col4 {\n",
              "  background-color: #465ecf;\n",
              "  color: #f1f1f1;\n",
              "}\n",
              "#T_1a2d9_row1_col5, #T_1a2d9_row10_col2 {\n",
              "  background-color: #6a8bef;\n",
              "  color: #f1f1f1;\n",
              "}\n",
              "#T_1a2d9_row1_col6, #T_1a2d9_row6_col2 {\n",
              "  background-color: #7295f4;\n",
              "  color: #f1f1f1;\n",
              "}\n",
              "#T_1a2d9_row1_col7 {\n",
              "  background-color: #85a8fc;\n",
              "  color: #f1f1f1;\n",
              "}\n",
              "#T_1a2d9_row1_col9, #T_1a2d9_row5_col8, #T_1a2d9_row6_col9 {\n",
              "  background-color: #4961d2;\n",
              "  color: #f1f1f1;\n",
              "}\n",
              "#T_1a2d9_row1_col11, #T_1a2d9_row7_col4 {\n",
              "  background-color: #6788ee;\n",
              "  color: #f1f1f1;\n",
              "}\n",
              "#T_1a2d9_row2_col0, #T_1a2d9_row3_col11 {\n",
              "  background-color: #6687ed;\n",
              "  color: #f1f1f1;\n",
              "}\n",
              "#T_1a2d9_row2_col1 {\n",
              "  background-color: #e0dbd8;\n",
              "  color: #000000;\n",
              "}\n",
              "#T_1a2d9_row2_col4, #T_1a2d9_row9_col5, #T_1a2d9_row10_col5, #T_1a2d9_row10_col6 {\n",
              "  background-color: #5572df;\n",
              "  color: #f1f1f1;\n",
              "}\n",
              "#T_1a2d9_row2_col5 {\n",
              "  background-color: #7ea1fa;\n",
              "  color: #f1f1f1;\n",
              "}\n",
              "#T_1a2d9_row2_col6, #T_1a2d9_row8_col7 {\n",
              "  background-color: #6384eb;\n",
              "  color: #f1f1f1;\n",
              "}\n",
              "#T_1a2d9_row2_col7 {\n",
              "  background-color: #8badfd;\n",
              "  color: #000000;\n",
              "}\n",
              "#T_1a2d9_row2_col11, #T_1a2d9_row4_col3, #T_1a2d9_row8_col5, #T_1a2d9_row11_col7 {\n",
              "  background-color: #4e68d8;\n",
              "  color: #f1f1f1;\n",
              "}\n",
              "#T_1a2d9_row3_col0 {\n",
              "  background-color: #9ebeff;\n",
              "  color: #000000;\n",
              "}\n",
              "#T_1a2d9_row3_col1, #T_1a2d9_row9_col0 {\n",
              "  background-color: #90b2fe;\n",
              "  color: #000000;\n",
              "}\n",
              "#T_1a2d9_row3_col2, #T_1a2d9_row11_col5 {\n",
              "  background-color: #5977e3;\n",
              "  color: #f1f1f1;\n",
              "}\n",
              "#T_1a2d9_row3_col5 {\n",
              "  background-color: #86a9fc;\n",
              "  color: #f1f1f1;\n",
              "}\n",
              "#T_1a2d9_row3_col6, #T_1a2d9_row3_col8, #T_1a2d9_row11_col10 {\n",
              "  background-color: #6e90f2;\n",
              "  color: #f1f1f1;\n",
              "}\n",
              "#T_1a2d9_row3_col7, #T_1a2d9_row5_col2 {\n",
              "  background-color: #8caffe;\n",
              "  color: #000000;\n",
              "}\n",
              "#T_1a2d9_row3_col9, #T_1a2d9_row6_col3, #T_1a2d9_row9_col2 {\n",
              "  background-color: #5d7ce6;\n",
              "  color: #f1f1f1;\n",
              "}\n",
              "#T_1a2d9_row3_col10, #T_1a2d9_row4_col6, #T_1a2d9_row9_col8 {\n",
              "  background-color: #5673e0;\n",
              "  color: #f1f1f1;\n",
              "}\n",
              "#T_1a2d9_row4_col0, #T_1a2d9_row6_col7 {\n",
              "  background-color: #93b5fe;\n",
              "  color: #000000;\n",
              "}\n",
              "#T_1a2d9_row4_col1, #T_1a2d9_row7_col6, #T_1a2d9_row10_col1 {\n",
              "  background-color: #94b6ff;\n",
              "  color: #000000;\n",
              "}\n",
              "#T_1a2d9_row4_col2 {\n",
              "  background-color: #7a9df8;\n",
              "  color: #f1f1f1;\n",
              "}\n",
              "#T_1a2d9_row4_col5 {\n",
              "  background-color: #81a4fb;\n",
              "  color: #f1f1f1;\n",
              "}\n",
              "#T_1a2d9_row4_col7 {\n",
              "  background-color: #7b9ff9;\n",
              "  color: #f1f1f1;\n",
              "}\n",
              "#T_1a2d9_row4_col8, #T_1a2d9_row8_col2, #T_1a2d9_row9_col10 {\n",
              "  background-color: #4c66d6;\n",
              "  color: #f1f1f1;\n",
              "}\n",
              "#T_1a2d9_row4_col10, #T_1a2d9_row5_col9, #T_1a2d9_row7_col11 {\n",
              "  background-color: #4055c8;\n",
              "  color: #f1f1f1;\n",
              "}\n",
              "#T_1a2d9_row5_col0 {\n",
              "  background-color: #84a7fc;\n",
              "  color: #f1f1f1;\n",
              "}\n",
              "#T_1a2d9_row5_col1 {\n",
              "  background-color: #a1c0ff;\n",
              "  color: #000000;\n",
              "}\n",
              "#T_1a2d9_row5_col3, #T_1a2d9_row10_col11 {\n",
              "  background-color: #7699f6;\n",
              "  color: #f1f1f1;\n",
              "}\n",
              "#T_1a2d9_row5_col4, #T_1a2d9_row11_col2 {\n",
              "  background-color: #6b8df0;\n",
              "  color: #f1f1f1;\n",
              "}\n",
              "#T_1a2d9_row5_col7 {\n",
              "  background-color: #f2c9b4;\n",
              "  color: #000000;\n",
              "}\n",
              "#T_1a2d9_row5_col10, #T_1a2d9_row6_col10 {\n",
              "  background-color: #3d50c3;\n",
              "  color: #f1f1f1;\n",
              "}\n",
              "#T_1a2d9_row6_col0 {\n",
              "  background-color: #7da0f9;\n",
              "  color: #f1f1f1;\n",
              "}\n",
              "#T_1a2d9_row6_col1, #T_1a2d9_row8_col0 {\n",
              "  background-color: #a6c4fe;\n",
              "  color: #000000;\n",
              "}\n",
              "#T_1a2d9_row6_col4 {\n",
              "  background-color: #3f53c6;\n",
              "  color: #f1f1f1;\n",
              "}\n",
              "#T_1a2d9_row7_col0 {\n",
              "  background-color: #779af7;\n",
              "  color: #f1f1f1;\n",
              "}\n",
              "#T_1a2d9_row7_col1 {\n",
              "  background-color: #b7cff9;\n",
              "  color: #000000;\n",
              "}\n",
              "#T_1a2d9_row7_col2 {\n",
              "  background-color: #9abbff;\n",
              "  color: #000000;\n",
              "}\n",
              "#T_1a2d9_row7_col3 {\n",
              "  background-color: #80a3fa;\n",
              "  color: #f1f1f1;\n",
              "}\n",
              "#T_1a2d9_row7_col5 {\n",
              "  background-color: #f3c8b2;\n",
              "  color: #000000;\n",
              "}\n",
              "#T_1a2d9_row7_col8, #T_1a2d9_row8_col3 {\n",
              "  background-color: #6282ea;\n",
              "  color: #f1f1f1;\n",
              "}\n",
              "#T_1a2d9_row8_col1 {\n",
              "  background-color: #799cf8;\n",
              "  color: #f1f1f1;\n",
              "}\n",
              "#T_1a2d9_row8_col10 {\n",
              "  background-color: #485fd1;\n",
              "  color: #f1f1f1;\n",
              "}\n",
              "#T_1a2d9_row9_col1 {\n",
              "  background-color: #96b7ff;\n",
              "  color: #000000;\n",
              "}\n",
              "#T_1a2d9_row9_col3 {\n",
              "  background-color: #6180e9;\n",
              "  color: #f1f1f1;\n",
              "}\n",
              "#T_1a2d9_row9_col6, #T_1a2d9_row10_col3 {\n",
              "  background-color: #5e7de7;\n",
              "  color: #f1f1f1;\n",
              "}\n",
              "#T_1a2d9_row9_col11 {\n",
              "  background-color: #ecd3c5;\n",
              "  color: #000000;\n",
              "}\n",
              "#T_1a2d9_row10_col0 {\n",
              "  background-color: #aec9fc;\n",
              "  color: #000000;\n",
              "}\n",
              "#T_1a2d9_row10_col4 {\n",
              "  background-color: #4257c9;\n",
              "  color: #f1f1f1;\n",
              "}\n",
              "#T_1a2d9_row10_col7, #T_1a2d9_row10_col9, #T_1a2d9_row11_col8 {\n",
              "  background-color: #506bda;\n",
              "  color: #f1f1f1;\n",
              "}\n",
              "#T_1a2d9_row10_col8 {\n",
              "  background-color: #5b7ae5;\n",
              "  color: #f1f1f1;\n",
              "}\n",
              "#T_1a2d9_row11_col0 {\n",
              "  background-color: #8fb1fe;\n",
              "  color: #000000;\n",
              "}\n",
              "#T_1a2d9_row11_col1 {\n",
              "  background-color: #aac7fd;\n",
              "  color: #000000;\n",
              "}\n",
              "#T_1a2d9_row11_col9 {\n",
              "  background-color: #ead4c8;\n",
              "  color: #000000;\n",
              "}\n",
              "</style>\n",
              "<table id=\"T_1a2d9_\" class=\"dataframe\">\n",
              "  <thead>\n",
              "    <tr>\n",
              "      <th class=\"blank level0\" >&nbsp;</th>\n",
              "      <th class=\"col_heading level0 col0\" >Gender</th>\n",
              "      <th class=\"col_heading level0 col1\" >Married</th>\n",
              "      <th class=\"col_heading level0 col2\" >Dependents</th>\n",
              "      <th class=\"col_heading level0 col3\" >Education</th>\n",
              "      <th class=\"col_heading level0 col4\" >Self_Employed</th>\n",
              "      <th class=\"col_heading level0 col5\" >ApplicantIncome</th>\n",
              "      <th class=\"col_heading level0 col6\" >CoapplicantIncome</th>\n",
              "      <th class=\"col_heading level0 col7\" >LoanAmount</th>\n",
              "      <th class=\"col_heading level0 col8\" >Loan_Amount_Term</th>\n",
              "      <th class=\"col_heading level0 col9\" >Credit_History</th>\n",
              "      <th class=\"col_heading level0 col10\" >Property_Area</th>\n",
              "      <th class=\"col_heading level0 col11\" >Loan_Status</th>\n",
              "    </tr>\n",
              "  </thead>\n",
              "  <tbody>\n",
              "    <tr>\n",
              "      <th id=\"T_1a2d9_level0_row0\" class=\"row_heading level0 row0\" >Gender</th>\n",
              "      <td id=\"T_1a2d9_row0_col0\" class=\"data row0 col0\" >1.00</td>\n",
              "      <td id=\"T_1a2d9_row0_col1\" class=\"data row0 col1\" >-0.36</td>\n",
              "      <td id=\"T_1a2d9_row0_col2\" class=\"data row0 col2\" >-0.17</td>\n",
              "      <td id=\"T_1a2d9_row0_col3\" class=\"data row0 col3\" >0.05</td>\n",
              "      <td id=\"T_1a2d9_row0_col4\" class=\"data row0 col4\" >0.00</td>\n",
              "      <td id=\"T_1a2d9_row0_col5\" class=\"data row0 col5\" >-0.06</td>\n",
              "      <td id=\"T_1a2d9_row0_col6\" class=\"data row0 col6\" >-0.08</td>\n",
              "      <td id=\"T_1a2d9_row0_col7\" class=\"data row0 col7\" >-0.11</td>\n",
              "      <td id=\"T_1a2d9_row0_col8\" class=\"data row0 col8\" >0.07</td>\n",
              "      <td id=\"T_1a2d9_row0_col9\" class=\"data row0 col9\" >-0.01</td>\n",
              "      <td id=\"T_1a2d9_row0_col10\" class=\"data row0 col10\" >0.11</td>\n",
              "      <td id=\"T_1a2d9_row0_col11\" class=\"data row0 col11\" >-0.02</td>\n",
              "    </tr>\n",
              "    <tr>\n",
              "      <th id=\"T_1a2d9_level0_row1\" class=\"row_heading level0 row1\" >Married</th>\n",
              "      <td id=\"T_1a2d9_row1_col0\" class=\"data row1 col0\" >-0.36</td>\n",
              "      <td id=\"T_1a2d9_row1_col1\" class=\"data row1 col1\" >1.00</td>\n",
              "      <td id=\"T_1a2d9_row1_col2\" class=\"data row1 col2\" >0.33</td>\n",
              "      <td id=\"T_1a2d9_row1_col3\" class=\"data row1 col3\" >-0.01</td>\n",
              "      <td id=\"T_1a2d9_row1_col4\" class=\"data row1 col4\" >0.00</td>\n",
              "      <td id=\"T_1a2d9_row1_col5\" class=\"data row1 col5\" >0.05</td>\n",
              "      <td id=\"T_1a2d9_row1_col6\" class=\"data row1 col6\" >0.08</td>\n",
              "      <td id=\"T_1a2d9_row1_col7\" class=\"data row1 col7\" >0.15</td>\n",
              "      <td id=\"T_1a2d9_row1_col8\" class=\"data row1 col8\" >-0.10</td>\n",
              "      <td id=\"T_1a2d9_row1_col9\" class=\"data row1 col9\" >0.01</td>\n",
              "      <td id=\"T_1a2d9_row1_col10\" class=\"data row1 col10\" >0.01</td>\n",
              "      <td id=\"T_1a2d9_row1_col11\" class=\"data row1 col11\" >0.09</td>\n",
              "    </tr>\n",
              "    <tr>\n",
              "      <th id=\"T_1a2d9_level0_row2\" class=\"row_heading level0 row2\" >Dependents</th>\n",
              "      <td id=\"T_1a2d9_row2_col0\" class=\"data row2 col0\" >-0.17</td>\n",
              "      <td id=\"T_1a2d9_row2_col1\" class=\"data row2 col1\" >0.33</td>\n",
              "      <td id=\"T_1a2d9_row2_col2\" class=\"data row2 col2\" >1.00</td>\n",
              "      <td id=\"T_1a2d9_row2_col3\" class=\"data row2 col3\" >-0.06</td>\n",
              "      <td id=\"T_1a2d9_row2_col4\" class=\"data row2 col4\" >0.06</td>\n",
              "      <td id=\"T_1a2d9_row2_col5\" class=\"data row2 col5\" >0.12</td>\n",
              "      <td id=\"T_1a2d9_row2_col6\" class=\"data row2 col6\" >0.03</td>\n",
              "      <td id=\"T_1a2d9_row2_col7\" class=\"data row2 col7\" >0.16</td>\n",
              "      <td id=\"T_1a2d9_row2_col8\" class=\"data row2 col8\" >-0.10</td>\n",
              "      <td id=\"T_1a2d9_row2_col9\" class=\"data row2 col9\" >-0.04</td>\n",
              "      <td id=\"T_1a2d9_row2_col10\" class=\"data row2 col10\" >0.00</td>\n",
              "      <td id=\"T_1a2d9_row2_col11\" class=\"data row2 col11\" >0.01</td>\n",
              "    </tr>\n",
              "    <tr>\n",
              "      <th id=\"T_1a2d9_level0_row3\" class=\"row_heading level0 row3\" >Education</th>\n",
              "      <td id=\"T_1a2d9_row3_col0\" class=\"data row3 col0\" >0.05</td>\n",
              "      <td id=\"T_1a2d9_row3_col1\" class=\"data row3 col1\" >-0.01</td>\n",
              "      <td id=\"T_1a2d9_row3_col2\" class=\"data row3 col2\" >-0.06</td>\n",
              "      <td id=\"T_1a2d9_row3_col3\" class=\"data row3 col3\" >1.00</td>\n",
              "      <td id=\"T_1a2d9_row3_col4\" class=\"data row3 col4\" >0.01</td>\n",
              "      <td id=\"T_1a2d9_row3_col5\" class=\"data row3 col5\" >0.14</td>\n",
              "      <td id=\"T_1a2d9_row3_col6\" class=\"data row3 col6\" >0.06</td>\n",
              "      <td id=\"T_1a2d9_row3_col7\" class=\"data row3 col7\" >0.17</td>\n",
              "      <td id=\"T_1a2d9_row3_col8\" class=\"data row3 col8\" >0.08</td>\n",
              "      <td id=\"T_1a2d9_row3_col9\" class=\"data row3 col9\" >0.07</td>\n",
              "      <td id=\"T_1a2d9_row3_col10\" class=\"data row3 col10\" >0.07</td>\n",
              "      <td id=\"T_1a2d9_row3_col11\" class=\"data row3 col11\" >0.09</td>\n",
              "    </tr>\n",
              "    <tr>\n",
              "      <th id=\"T_1a2d9_level0_row4\" class=\"row_heading level0 row4\" >Self_Employed</th>\n",
              "      <td id=\"T_1a2d9_row4_col0\" class=\"data row4 col0\" >0.00</td>\n",
              "      <td id=\"T_1a2d9_row4_col1\" class=\"data row4 col1\" >0.00</td>\n",
              "      <td id=\"T_1a2d9_row4_col2\" class=\"data row4 col2\" >0.06</td>\n",
              "      <td id=\"T_1a2d9_row4_col3\" class=\"data row4 col3\" >0.01</td>\n",
              "      <td id=\"T_1a2d9_row4_col4\" class=\"data row4 col4\" >1.00</td>\n",
              "      <td id=\"T_1a2d9_row4_col5\" class=\"data row4 col5\" >0.13</td>\n",
              "      <td id=\"T_1a2d9_row4_col6\" class=\"data row4 col6\" >-0.02</td>\n",
              "      <td id=\"T_1a2d9_row4_col7\" class=\"data row4 col7\" >0.12</td>\n",
              "      <td id=\"T_1a2d9_row4_col8\" class=\"data row4 col8\" >-0.03</td>\n",
              "      <td id=\"T_1a2d9_row4_col9\" class=\"data row4 col9\" >-0.00</td>\n",
              "      <td id=\"T_1a2d9_row4_col10\" class=\"data row4 col10\" >-0.01</td>\n",
              "      <td id=\"T_1a2d9_row4_col11\" class=\"data row4 col11\" >-0.00</td>\n",
              "    </tr>\n",
              "    <tr>\n",
              "      <th id=\"T_1a2d9_level0_row5\" class=\"row_heading level0 row5\" >ApplicantIncome</th>\n",
              "      <td id=\"T_1a2d9_row5_col0\" class=\"data row5 col0\" >-0.06</td>\n",
              "      <td id=\"T_1a2d9_row5_col1\" class=\"data row5 col1\" >0.05</td>\n",
              "      <td id=\"T_1a2d9_row5_col2\" class=\"data row5 col2\" >0.12</td>\n",
              "      <td id=\"T_1a2d9_row5_col3\" class=\"data row5 col3\" >0.14</td>\n",
              "      <td id=\"T_1a2d9_row5_col4\" class=\"data row5 col4\" >0.13</td>\n",
              "      <td id=\"T_1a2d9_row5_col5\" class=\"data row5 col5\" >1.00</td>\n",
              "      <td id=\"T_1a2d9_row5_col6\" class=\"data row5 col6\" >-0.12</td>\n",
              "      <td id=\"T_1a2d9_row5_col7\" class=\"data row5 col7\" >0.57</td>\n",
              "      <td id=\"T_1a2d9_row5_col8\" class=\"data row5 col8\" >-0.05</td>\n",
              "      <td id=\"T_1a2d9_row5_col9\" class=\"data row5 col9\" >-0.02</td>\n",
              "      <td id=\"T_1a2d9_row5_col10\" class=\"data row5 col10\" >-0.02</td>\n",
              "      <td id=\"T_1a2d9_row5_col11\" class=\"data row5 col11\" >-0.00</td>\n",
              "    </tr>\n",
              "    <tr>\n",
              "      <th id=\"T_1a2d9_level0_row6\" class=\"row_heading level0 row6\" >CoapplicantIncome</th>\n",
              "      <td id=\"T_1a2d9_row6_col0\" class=\"data row6 col0\" >-0.08</td>\n",
              "      <td id=\"T_1a2d9_row6_col1\" class=\"data row6 col1\" >0.08</td>\n",
              "      <td id=\"T_1a2d9_row6_col2\" class=\"data row6 col2\" >0.03</td>\n",
              "      <td id=\"T_1a2d9_row6_col3\" class=\"data row6 col3\" >0.06</td>\n",
              "      <td id=\"T_1a2d9_row6_col4\" class=\"data row6 col4\" >-0.02</td>\n",
              "      <td id=\"T_1a2d9_row6_col5\" class=\"data row6 col5\" >-0.12</td>\n",
              "      <td id=\"T_1a2d9_row6_col6\" class=\"data row6 col6\" >1.00</td>\n",
              "      <td id=\"T_1a2d9_row6_col7\" class=\"data row6 col7\" >0.19</td>\n",
              "      <td id=\"T_1a2d9_row6_col8\" class=\"data row6 col8\" >-0.06</td>\n",
              "      <td id=\"T_1a2d9_row6_col9\" class=\"data row6 col9\" >0.01</td>\n",
              "      <td id=\"T_1a2d9_row6_col10\" class=\"data row6 col10\" >-0.02</td>\n",
              "      <td id=\"T_1a2d9_row6_col11\" class=\"data row6 col11\" >-0.06</td>\n",
              "    </tr>\n",
              "    <tr>\n",
              "      <th id=\"T_1a2d9_level0_row7\" class=\"row_heading level0 row7\" >LoanAmount</th>\n",
              "      <td id=\"T_1a2d9_row7_col0\" class=\"data row7 col0\" >-0.11</td>\n",
              "      <td id=\"T_1a2d9_row7_col1\" class=\"data row7 col1\" >0.15</td>\n",
              "      <td id=\"T_1a2d9_row7_col2\" class=\"data row7 col2\" >0.16</td>\n",
              "      <td id=\"T_1a2d9_row7_col3\" class=\"data row7 col3\" >0.17</td>\n",
              "      <td id=\"T_1a2d9_row7_col4\" class=\"data row7 col4\" >0.12</td>\n",
              "      <td id=\"T_1a2d9_row7_col5\" class=\"data row7 col5\" >0.57</td>\n",
              "      <td id=\"T_1a2d9_row7_col6\" class=\"data row7 col6\" >0.19</td>\n",
              "      <td id=\"T_1a2d9_row7_col7\" class=\"data row7 col7\" >1.00</td>\n",
              "      <td id=\"T_1a2d9_row7_col8\" class=\"data row7 col8\" >0.04</td>\n",
              "      <td id=\"T_1a2d9_row7_col9\" class=\"data row7 col9\" >-0.00</td>\n",
              "      <td id=\"T_1a2d9_row7_col10\" class=\"data row7 col10\" >-0.03</td>\n",
              "      <td id=\"T_1a2d9_row7_col11\" class=\"data row7 col11\" >-0.04</td>\n",
              "    </tr>\n",
              "    <tr>\n",
              "      <th id=\"T_1a2d9_level0_row8\" class=\"row_heading level0 row8\" >Loan_Amount_Term</th>\n",
              "      <td id=\"T_1a2d9_row8_col0\" class=\"data row8 col0\" >0.07</td>\n",
              "      <td id=\"T_1a2d9_row8_col1\" class=\"data row8 col1\" >-0.10</td>\n",
              "      <td id=\"T_1a2d9_row8_col2\" class=\"data row8 col2\" >-0.10</td>\n",
              "      <td id=\"T_1a2d9_row8_col3\" class=\"data row8 col3\" >0.08</td>\n",
              "      <td id=\"T_1a2d9_row8_col4\" class=\"data row8 col4\" >-0.03</td>\n",
              "      <td id=\"T_1a2d9_row8_col5\" class=\"data row8 col5\" >-0.05</td>\n",
              "      <td id=\"T_1a2d9_row8_col6\" class=\"data row8 col6\" >-0.06</td>\n",
              "      <td id=\"T_1a2d9_row8_col7\" class=\"data row8 col7\" >0.04</td>\n",
              "      <td id=\"T_1a2d9_row8_col8\" class=\"data row8 col8\" >1.00</td>\n",
              "      <td id=\"T_1a2d9_row8_col9\" class=\"data row8 col9\" >0.00</td>\n",
              "      <td id=\"T_1a2d9_row8_col10\" class=\"data row8 col10\" >0.02</td>\n",
              "      <td id=\"T_1a2d9_row8_col11\" class=\"data row8 col11\" >-0.02</td>\n",
              "    </tr>\n",
              "    <tr>\n",
              "      <th id=\"T_1a2d9_level0_row9\" class=\"row_heading level0 row9\" >Credit_History</th>\n",
              "      <td id=\"T_1a2d9_row9_col0\" class=\"data row9 col0\" >-0.01</td>\n",
              "      <td id=\"T_1a2d9_row9_col1\" class=\"data row9 col1\" >0.01</td>\n",
              "      <td id=\"T_1a2d9_row9_col2\" class=\"data row9 col2\" >-0.04</td>\n",
              "      <td id=\"T_1a2d9_row9_col3\" class=\"data row9 col3\" >0.07</td>\n",
              "      <td id=\"T_1a2d9_row9_col4\" class=\"data row9 col4\" >-0.00</td>\n",
              "      <td id=\"T_1a2d9_row9_col5\" class=\"data row9 col5\" >-0.02</td>\n",
              "      <td id=\"T_1a2d9_row9_col6\" class=\"data row9 col6\" >0.01</td>\n",
              "      <td id=\"T_1a2d9_row9_col7\" class=\"data row9 col7\" >-0.00</td>\n",
              "      <td id=\"T_1a2d9_row9_col8\" class=\"data row9 col8\" >0.00</td>\n",
              "      <td id=\"T_1a2d9_row9_col9\" class=\"data row9 col9\" >1.00</td>\n",
              "      <td id=\"T_1a2d9_row9_col10\" class=\"data row9 col10\" >0.03</td>\n",
              "      <td id=\"T_1a2d9_row9_col11\" class=\"data row9 col11\" >0.54</td>\n",
              "    </tr>\n",
              "    <tr>\n",
              "      <th id=\"T_1a2d9_level0_row10\" class=\"row_heading level0 row10\" >Property_Area</th>\n",
              "      <td id=\"T_1a2d9_row10_col0\" class=\"data row10 col0\" >0.11</td>\n",
              "      <td id=\"T_1a2d9_row10_col1\" class=\"data row10 col1\" >0.01</td>\n",
              "      <td id=\"T_1a2d9_row10_col2\" class=\"data row10 col2\" >0.00</td>\n",
              "      <td id=\"T_1a2d9_row10_col3\" class=\"data row10 col3\" >0.07</td>\n",
              "      <td id=\"T_1a2d9_row10_col4\" class=\"data row10 col4\" >-0.01</td>\n",
              "      <td id=\"T_1a2d9_row10_col5\" class=\"data row10 col5\" >-0.02</td>\n",
              "      <td id=\"T_1a2d9_row10_col6\" class=\"data row10 col6\" >-0.02</td>\n",
              "      <td id=\"T_1a2d9_row10_col7\" class=\"data row10 col7\" >-0.03</td>\n",
              "      <td id=\"T_1a2d9_row10_col8\" class=\"data row10 col8\" >0.02</td>\n",
              "      <td id=\"T_1a2d9_row10_col9\" class=\"data row10 col9\" >0.03</td>\n",
              "      <td id=\"T_1a2d9_row10_col10\" class=\"data row10 col10\" >1.00</td>\n",
              "      <td id=\"T_1a2d9_row10_col11\" class=\"data row10 col11\" >0.14</td>\n",
              "    </tr>\n",
              "    <tr>\n",
              "      <th id=\"T_1a2d9_level0_row11\" class=\"row_heading level0 row11\" >Loan_Status</th>\n",
              "      <td id=\"T_1a2d9_row11_col0\" class=\"data row11 col0\" >-0.02</td>\n",
              "      <td id=\"T_1a2d9_row11_col1\" class=\"data row11 col1\" >0.09</td>\n",
              "      <td id=\"T_1a2d9_row11_col2\" class=\"data row11 col2\" >0.01</td>\n",
              "      <td id=\"T_1a2d9_row11_col3\" class=\"data row11 col3\" >0.09</td>\n",
              "      <td id=\"T_1a2d9_row11_col4\" class=\"data row11 col4\" >-0.00</td>\n",
              "      <td id=\"T_1a2d9_row11_col5\" class=\"data row11 col5\" >-0.00</td>\n",
              "      <td id=\"T_1a2d9_row11_col6\" class=\"data row11 col6\" >-0.06</td>\n",
              "      <td id=\"T_1a2d9_row11_col7\" class=\"data row11 col7\" >-0.04</td>\n",
              "      <td id=\"T_1a2d9_row11_col8\" class=\"data row11 col8\" >-0.02</td>\n",
              "      <td id=\"T_1a2d9_row11_col9\" class=\"data row11 col9\" >0.54</td>\n",
              "      <td id=\"T_1a2d9_row11_col10\" class=\"data row11 col10\" >0.14</td>\n",
              "      <td id=\"T_1a2d9_row11_col11\" class=\"data row11 col11\" >1.00</td>\n",
              "    </tr>\n",
              "  </tbody>\n",
              "</table>\n"
            ]
          },
          "metadata": {},
          "execution_count": 90
        }
      ]
    },
    {
      "cell_type": "markdown",
      "metadata": {
        "id": "bc2gefkuAl6X"
      },
      "source": [
        "### Phân tích:\n",
        "  - Với tập train có sự tương quan giữa số lượng vay (LoanAmount) và thu nhập người vay (ApplicantIncome). Tuy nhiên sự tương quan này chưa quá lớn để bỏ một trong 2 đặc trưng.\n",
        "  - Lịch sử vay (Credit_History) có sự tương quan tới khả năng được vay. Điều này hoàn toàn hợp lý\n",
        "\n",
        "### Quyết định\n",
        "  - Giữ nguyên tất cả những đặc trưng cho việc training"
      ]
    },
    {
      "cell_type": "markdown",
      "metadata": {
        "id": "9-vB6LkfBZMx"
      },
      "source": [
        "### 10.3 Tương quan trên tập Validation"
      ]
    },
    {
      "cell_type": "markdown",
      "metadata": {
        "id": "Fx-mQs9DBcvz"
      },
      "source": [
        "Bạn hay tự đưa ra quan sát cá nhân của mình. (Đây không phải bài tập)"
      ]
    },
    {
      "cell_type": "code",
      "metadata": {
        "colab": {
          "base_uri": "https://localhost:8080/",
          "height": 480
        },
        "id": "nTPj9PdS_Jel",
        "outputId": "17fb453d-0b06-457a-9a41-b98043297e04"
      },
      "source": [
        "val_df.corr().style.background_gradient(cmap='coolwarm').set_precision(2)"
      ],
      "execution_count": 91,
      "outputs": [
        {
          "output_type": "stream",
          "name": "stderr",
          "text": [
            "/usr/local/lib/python3.7/dist-packages/ipykernel_launcher.py:1: FutureWarning: this method is deprecated in favour of `Styler.format(precision=..)`\n",
            "  \"\"\"Entry point for launching an IPython kernel.\n"
          ]
        },
        {
          "output_type": "execute_result",
          "data": {
            "text/plain": [
              "<pandas.io.formats.style.Styler at 0x7feda6f08910>"
            ],
            "text/html": [
              "<style type=\"text/css\">\n",
              "#T_c347b_row0_col0, #T_c347b_row1_col1, #T_c347b_row2_col2, #T_c347b_row3_col3, #T_c347b_row4_col4, #T_c347b_row5_col5, #T_c347b_row6_col6, #T_c347b_row7_col7, #T_c347b_row8_col8, #T_c347b_row9_col9, #T_c347b_row10_col10, #T_c347b_row11_col11 {\n",
              "  background-color: #b40426;\n",
              "  color: #f1f1f1;\n",
              "}\n",
              "#T_c347b_row0_col1, #T_c347b_row0_col7, #T_c347b_row1_col0, #T_c347b_row2_col3, #T_c347b_row3_col2, #T_c347b_row4_col10, #T_c347b_row5_col6, #T_c347b_row6_col5, #T_c347b_row6_col9, #T_c347b_row8_col11, #T_c347b_row10_col4, #T_c347b_row11_col8 {\n",
              "  background-color: #3b4cc0;\n",
              "  color: #f1f1f1;\n",
              "}\n",
              "#T_c347b_row0_col2, #T_c347b_row9_col8 {\n",
              "  background-color: #455cce;\n",
              "  color: #f1f1f1;\n",
              "}\n",
              "#T_c347b_row0_col3, #T_c347b_row6_col0 {\n",
              "  background-color: #6788ee;\n",
              "  color: #f1f1f1;\n",
              "}\n",
              "#T_c347b_row0_col4, #T_c347b_row10_col7 {\n",
              "  background-color: #485fd1;\n",
              "  color: #f1f1f1;\n",
              "}\n",
              "#T_c347b_row0_col5, #T_c347b_row6_col10, #T_c347b_row7_col9 {\n",
              "  background-color: #465ecf;\n",
              "  color: #f1f1f1;\n",
              "}\n",
              "#T_c347b_row0_col6, #T_c347b_row0_col9 {\n",
              "  background-color: #4257c9;\n",
              "  color: #f1f1f1;\n",
              "}\n",
              "#T_c347b_row0_col8, #T_c347b_row2_col0, #T_c347b_row4_col7, #T_c347b_row11_col2 {\n",
              "  background-color: #6687ed;\n",
              "  color: #f1f1f1;\n",
              "}\n",
              "#T_c347b_row0_col10, #T_c347b_row1_col11, #T_c347b_row3_col1, #T_c347b_row5_col11, #T_c347b_row7_col8 {\n",
              "  background-color: #7093f3;\n",
              "  color: #f1f1f1;\n",
              "}\n",
              "#T_c347b_row0_col11, #T_c347b_row2_col8 {\n",
              "  background-color: #4358cb;\n",
              "  color: #f1f1f1;\n",
              "}\n",
              "#T_c347b_row1_col2 {\n",
              "  background-color: #cbd8ee;\n",
              "  color: #000000;\n",
              "}\n",
              "#T_c347b_row1_col3, #T_c347b_row6_col2, #T_c347b_row7_col11 {\n",
              "  background-color: #506bda;\n",
              "  color: #f1f1f1;\n",
              "}\n",
              "#T_c347b_row1_col4 {\n",
              "  background-color: #6485ec;\n",
              "  color: #f1f1f1;\n",
              "}\n",
              "#T_c347b_row1_col5, #T_c347b_row4_col9, #T_c347b_row5_col9 {\n",
              "  background-color: #688aef;\n",
              "  color: #f1f1f1;\n",
              "}\n",
              "#T_c347b_row1_col6 {\n",
              "  background-color: #6282ea;\n",
              "  color: #f1f1f1;\n",
              "}\n",
              "#T_c347b_row1_col7, #T_c347b_row8_col1, #T_c347b_row9_col1 {\n",
              "  background-color: #89acfd;\n",
              "  color: #000000;\n",
              "}\n",
              "#T_c347b_row1_col8, #T_c347b_row3_col4 {\n",
              "  background-color: #5e7de7;\n",
              "  color: #f1f1f1;\n",
              "}\n",
              "#T_c347b_row1_col9, #T_c347b_row4_col2 {\n",
              "  background-color: #5673e0;\n",
              "  color: #f1f1f1;\n",
              "}\n",
              "#T_c347b_row1_col10, #T_c347b_row2_col4, #T_c347b_row8_col6, #T_c347b_row11_col6 {\n",
              "  background-color: #5572df;\n",
              "  color: #f1f1f1;\n",
              "}\n",
              "#T_c347b_row2_col1 {\n",
              "  background-color: #dbdcde;\n",
              "  color: #000000;\n",
              "}\n",
              "#T_c347b_row2_col5 {\n",
              "  background-color: #84a7fc;\n",
              "  color: #f1f1f1;\n",
              "}\n",
              "#T_c347b_row2_col6, #T_c347b_row10_col9 {\n",
              "  background-color: #4a63d3;\n",
              "  color: #f1f1f1;\n",
              "}\n",
              "#T_c347b_row2_col7, #T_c347b_row9_col4, #T_c347b_row10_col1 {\n",
              "  background-color: #799cf8;\n",
              "  color: #f1f1f1;\n",
              "}\n",
              "#T_c347b_row2_col9 {\n",
              "  background-color: #3c4ec2;\n",
              "  color: #f1f1f1;\n",
              "}\n",
              "#T_c347b_row2_col10, #T_c347b_row4_col3 {\n",
              "  background-color: #6180e9;\n",
              "  color: #f1f1f1;\n",
              "}\n",
              "#T_c347b_row2_col11, #T_c347b_row5_col8, #T_c347b_row8_col10 {\n",
              "  background-color: #5a78e4;\n",
              "  color: #f1f1f1;\n",
              "}\n",
              "#T_c347b_row3_col0, #T_c347b_row5_col2, #T_c347b_row5_col3, #T_c347b_row6_col1, #T_c347b_row7_col6 {\n",
              "  background-color: #88abfd;\n",
              "  color: #000000;\n",
              "}\n",
              "#T_c347b_row3_col5, #T_c347b_row11_col4 {\n",
              "  background-color: #82a6fb;\n",
              "  color: #f1f1f1;\n",
              "}\n",
              "#T_c347b_row3_col6, #T_c347b_row7_col0 {\n",
              "  background-color: #6a8bef;\n",
              "  color: #f1f1f1;\n",
              "}\n",
              "#T_c347b_row3_col7 {\n",
              "  background-color: #80a3fa;\n",
              "  color: #f1f1f1;\n",
              "}\n",
              "#T_c347b_row3_col8 {\n",
              "  background-color: #4055c8;\n",
              "  color: #f1f1f1;\n",
              "}\n",
              "#T_c347b_row3_col9, #T_c347b_row3_col10 {\n",
              "  background-color: #5875e1;\n",
              "  color: #f1f1f1;\n",
              "}\n",
              "#T_c347b_row3_col11, #T_c347b_row10_col2 {\n",
              "  background-color: #6384eb;\n",
              "  color: #f1f1f1;\n",
              "}\n",
              "#T_c347b_row4_col0, #T_c347b_row9_col3 {\n",
              "  background-color: #6b8df0;\n",
              "  color: #f1f1f1;\n",
              "}\n",
              "#T_c347b_row4_col1, #T_c347b_row7_col2 {\n",
              "  background-color: #86a9fc;\n",
              "  color: #f1f1f1;\n",
              "}\n",
              "#T_c347b_row4_col5, #T_c347b_row6_col3, #T_c347b_row11_col0 {\n",
              "  background-color: #6f92f3;\n",
              "  color: #f1f1f1;\n",
              "}\n",
              "#T_c347b_row4_col6, #T_c347b_row10_col8 {\n",
              "  background-color: #516ddb;\n",
              "  color: #f1f1f1;\n",
              "}\n",
              "#T_c347b_row4_col8, #T_c347b_row9_col7 {\n",
              "  background-color: #4b64d5;\n",
              "  color: #f1f1f1;\n",
              "}\n",
              "#T_c347b_row4_col11 {\n",
              "  background-color: #7a9df8;\n",
              "  color: #f1f1f1;\n",
              "}\n",
              "#T_c347b_row5_col0, #T_c347b_row8_col7 {\n",
              "  background-color: #6c8ff1;\n",
              "  color: #f1f1f1;\n",
              "}\n",
              "#T_c347b_row5_col1, #T_c347b_row7_col3 {\n",
              "  background-color: #8db0fe;\n",
              "  color: #000000;\n",
              "}\n",
              "#T_c347b_row5_col4 {\n",
              "  background-color: #7295f4;\n",
              "  color: #f1f1f1;\n",
              "}\n",
              "#T_c347b_row5_col7 {\n",
              "  background-color: #e3d9d3;\n",
              "  color: #000000;\n",
              "}\n",
              "#T_c347b_row5_col10, #T_c347b_row8_col5 {\n",
              "  background-color: #5f7fe8;\n",
              "  color: #f1f1f1;\n",
              "}\n",
              "#T_c347b_row6_col4, #T_c347b_row7_col10, #T_c347b_row8_col4 {\n",
              "  background-color: #5470de;\n",
              "  color: #f1f1f1;\n",
              "}\n",
              "#T_c347b_row6_col7 {\n",
              "  background-color: #7ea1fa;\n",
              "  color: #f1f1f1;\n",
              "}\n",
              "#T_c347b_row6_col8, #T_c347b_row6_col11, #T_c347b_row8_col2, #T_c347b_row9_col2 {\n",
              "  background-color: #4f69d9;\n",
              "  color: #f1f1f1;\n",
              "}\n",
              "#T_c347b_row7_col1 {\n",
              "  background-color: #b1cbfc;\n",
              "  color: #000000;\n",
              "}\n",
              "#T_c347b_row7_col4 {\n",
              "  background-color: #7396f5;\n",
              "  color: #f1f1f1;\n",
              "}\n",
              "#T_c347b_row7_col5 {\n",
              "  background-color: #e7d7ce;\n",
              "  color: #000000;\n",
              "}\n",
              "#T_c347b_row8_col0 {\n",
              "  background-color: #90b2fe;\n",
              "  color: #000000;\n",
              "}\n",
              "#T_c347b_row8_col3, #T_c347b_row11_col7 {\n",
              "  background-color: #4c66d6;\n",
              "  color: #f1f1f1;\n",
              "}\n",
              "#T_c347b_row8_col9 {\n",
              "  background-color: #3d50c3;\n",
              "  color: #f1f1f1;\n",
              "}\n",
              "#T_c347b_row9_col0, #T_c347b_row9_col5, #T_c347b_row11_col5 {\n",
              "  background-color: #7699f6;\n",
              "  color: #f1f1f1;\n",
              "}\n",
              "#T_c347b_row9_col6 {\n",
              "  background-color: #4961d2;\n",
              "  color: #f1f1f1;\n",
              "}\n",
              "#T_c347b_row9_col10 {\n",
              "  background-color: #5b7ae5;\n",
              "  color: #f1f1f1;\n",
              "}\n",
              "#T_c347b_row9_col11 {\n",
              "  background-color: #e46e56;\n",
              "  color: #f1f1f1;\n",
              "}\n",
              "#T_c347b_row10_col0 {\n",
              "  background-color: #93b5fe;\n",
              "  color: #000000;\n",
              "}\n",
              "#T_c347b_row10_col3 {\n",
              "  background-color: #5977e3;\n",
              "  color: #f1f1f1;\n",
              "}\n",
              "#T_c347b_row10_col5 {\n",
              "  background-color: #5d7ce6;\n",
              "  color: #f1f1f1;\n",
              "}\n",
              "#T_c347b_row10_col6 {\n",
              "  background-color: #445acc;\n",
              "  color: #f1f1f1;\n",
              "}\n",
              "#T_c347b_row10_col11 {\n",
              "  background-color: #7597f6;\n",
              "  color: #f1f1f1;\n",
              "}\n",
              "#T_c347b_row11_col1 {\n",
              "  background-color: #9abbff;\n",
              "  color: #000000;\n",
              "}\n",
              "#T_c347b_row11_col3 {\n",
              "  background-color: #6e90f2;\n",
              "  color: #f1f1f1;\n",
              "}\n",
              "#T_c347b_row11_col9 {\n",
              "  background-color: #e57058;\n",
              "  color: #f1f1f1;\n",
              "}\n",
              "#T_c347b_row11_col10 {\n",
              "  background-color: #7da0f9;\n",
              "  color: #f1f1f1;\n",
              "}\n",
              "</style>\n",
              "<table id=\"T_c347b_\" class=\"dataframe\">\n",
              "  <thead>\n",
              "    <tr>\n",
              "      <th class=\"blank level0\" >&nbsp;</th>\n",
              "      <th class=\"col_heading level0 col0\" >Gender</th>\n",
              "      <th class=\"col_heading level0 col1\" >Married</th>\n",
              "      <th class=\"col_heading level0 col2\" >Dependents</th>\n",
              "      <th class=\"col_heading level0 col3\" >Education</th>\n",
              "      <th class=\"col_heading level0 col4\" >Self_Employed</th>\n",
              "      <th class=\"col_heading level0 col5\" >ApplicantIncome</th>\n",
              "      <th class=\"col_heading level0 col6\" >CoapplicantIncome</th>\n",
              "      <th class=\"col_heading level0 col7\" >LoanAmount</th>\n",
              "      <th class=\"col_heading level0 col8\" >Loan_Amount_Term</th>\n",
              "      <th class=\"col_heading level0 col9\" >Credit_History</th>\n",
              "      <th class=\"col_heading level0 col10\" >Property_Area</th>\n",
              "      <th class=\"col_heading level0 col11\" >Loan_Status</th>\n",
              "    </tr>\n",
              "  </thead>\n",
              "  <tbody>\n",
              "    <tr>\n",
              "      <th id=\"T_c347b_level0_row0\" class=\"row_heading level0 row0\" >Gender</th>\n",
              "      <td id=\"T_c347b_row0_col0\" class=\"data row0 col0\" >1.00</td>\n",
              "      <td id=\"T_c347b_row0_col1\" class=\"data row0 col1\" >-0.27</td>\n",
              "      <td id=\"T_c347b_row0_col2\" class=\"data row0 col2\" >-0.09</td>\n",
              "      <td id=\"T_c347b_row0_col3\" class=\"data row0 col3\" >0.03</td>\n",
              "      <td id=\"T_c347b_row0_col4\" class=\"data row0 col4\" >-0.07</td>\n",
              "      <td id=\"T_c347b_row0_col5\" class=\"data row0 col5\" >-0.06</td>\n",
              "      <td id=\"T_c347b_row0_col6\" class=\"data row0 col6\" >-0.08</td>\n",
              "      <td id=\"T_c347b_row0_col7\" class=\"data row0 col7\" >-0.07</td>\n",
              "      <td id=\"T_c347b_row0_col8\" class=\"data row0 col8\" >0.06</td>\n",
              "      <td id=\"T_c347b_row0_col9\" class=\"data row0 col9\" >-0.03</td>\n",
              "      <td id=\"T_c347b_row0_col10\" class=\"data row0 col10\" >0.07</td>\n",
              "      <td id=\"T_c347b_row0_col11\" class=\"data row0 col11\" >-0.06</td>\n",
              "    </tr>\n",
              "    <tr>\n",
              "      <th id=\"T_c347b_level0_row1\" class=\"row_heading level0 row1\" >Married</th>\n",
              "      <td id=\"T_c347b_row1_col0\" class=\"data row1 col0\" >-0.27</td>\n",
              "      <td id=\"T_c347b_row1_col1\" class=\"data row1 col1\" >1.00</td>\n",
              "      <td id=\"T_c347b_row1_col2\" class=\"data row1 col2\" >0.36</td>\n",
              "      <td id=\"T_c347b_row1_col3\" class=\"data row1 col3\" >-0.05</td>\n",
              "      <td id=\"T_c347b_row1_col4\" class=\"data row1 col4\" >0.03</td>\n",
              "      <td id=\"T_c347b_row1_col5\" class=\"data row1 col5\" >0.05</td>\n",
              "      <td id=\"T_c347b_row1_col6\" class=\"data row1 col6\" >0.03</td>\n",
              "      <td id=\"T_c347b_row1_col7\" class=\"data row1 col7\" >0.18</td>\n",
              "      <td id=\"T_c347b_row1_col8\" class=\"data row1 col8\" >0.04</td>\n",
              "      <td id=\"T_c347b_row1_col9\" class=\"data row1 col9\" >0.04</td>\n",
              "      <td id=\"T_c347b_row1_col10\" class=\"data row1 col10\" >-0.02</td>\n",
              "      <td id=\"T_c347b_row1_col11\" class=\"data row1 col11\" >0.10</td>\n",
              "    </tr>\n",
              "    <tr>\n",
              "      <th id=\"T_c347b_level0_row2\" class=\"row_heading level0 row2\" >Dependents</th>\n",
              "      <td id=\"T_c347b_row2_col0\" class=\"data row2 col0\" >-0.09</td>\n",
              "      <td id=\"T_c347b_row2_col1\" class=\"data row2 col1\" >0.36</td>\n",
              "      <td id=\"T_c347b_row2_col2\" class=\"data row2 col2\" >1.00</td>\n",
              "      <td id=\"T_c347b_row2_col3\" class=\"data row2 col3\" >-0.13</td>\n",
              "      <td id=\"T_c347b_row2_col4\" class=\"data row2 col4\" >-0.02</td>\n",
              "      <td id=\"T_c347b_row2_col5\" class=\"data row2 col5\" >0.14</td>\n",
              "      <td id=\"T_c347b_row2_col6\" class=\"data row2 col6\" >-0.05</td>\n",
              "      <td id=\"T_c347b_row2_col7\" class=\"data row2 col7\" >0.13</td>\n",
              "      <td id=\"T_c347b_row2_col8\" class=\"data row2 col8\" >-0.05</td>\n",
              "      <td id=\"T_c347b_row2_col9\" class=\"data row2 col9\" >-0.05</td>\n",
              "      <td id=\"T_c347b_row2_col10\" class=\"data row2 col10\" >0.02</td>\n",
              "      <td id=\"T_c347b_row2_col11\" class=\"data row2 col11\" >0.03</td>\n",
              "    </tr>\n",
              "    <tr>\n",
              "      <th id=\"T_c347b_level0_row3\" class=\"row_heading level0 row3\" >Education</th>\n",
              "      <td id=\"T_c347b_row3_col0\" class=\"data row3 col0\" >0.03</td>\n",
              "      <td id=\"T_c347b_row3_col1\" class=\"data row3 col1\" >-0.05</td>\n",
              "      <td id=\"T_c347b_row3_col2\" class=\"data row3 col2\" >-0.13</td>\n",
              "      <td id=\"T_c347b_row3_col3\" class=\"data row3 col3\" >1.00</td>\n",
              "      <td id=\"T_c347b_row3_col4\" class=\"data row3 col4\" >0.01</td>\n",
              "      <td id=\"T_c347b_row3_col5\" class=\"data row3 col5\" >0.14</td>\n",
              "      <td id=\"T_c347b_row3_col6\" class=\"data row3 col6\" >0.06</td>\n",
              "      <td id=\"T_c347b_row3_col7\" class=\"data row3 col7\" >0.16</td>\n",
              "      <td id=\"T_c347b_row3_col8\" class=\"data row3 col8\" >-0.06</td>\n",
              "      <td id=\"T_c347b_row3_col9\" class=\"data row3 col9\" >0.04</td>\n",
              "      <td id=\"T_c347b_row3_col10\" class=\"data row3 col10\" >-0.02</td>\n",
              "      <td id=\"T_c347b_row3_col11\" class=\"data row3 col11\" >0.05</td>\n",
              "    </tr>\n",
              "    <tr>\n",
              "      <th id=\"T_c347b_level0_row4\" class=\"row_heading level0 row4\" >Self_Employed</th>\n",
              "      <td id=\"T_c347b_row4_col0\" class=\"data row4 col0\" >-0.07</td>\n",
              "      <td id=\"T_c347b_row4_col1\" class=\"data row4 col1\" >0.03</td>\n",
              "      <td id=\"T_c347b_row4_col2\" class=\"data row4 col2\" >-0.02</td>\n",
              "      <td id=\"T_c347b_row4_col3\" class=\"data row4 col3\" >0.01</td>\n",
              "      <td id=\"T_c347b_row4_col4\" class=\"data row4 col4\" >1.00</td>\n",
              "      <td id=\"T_c347b_row4_col5\" class=\"data row4 col5\" >0.07</td>\n",
              "      <td id=\"T_c347b_row4_col6\" class=\"data row4 col6\" >-0.03</td>\n",
              "      <td id=\"T_c347b_row4_col7\" class=\"data row4 col7\" >0.08</td>\n",
              "      <td id=\"T_c347b_row4_col8\" class=\"data row4 col8\" >-0.03</td>\n",
              "      <td id=\"T_c347b_row4_col9\" class=\"data row4 col9\" >0.10</td>\n",
              "      <td id=\"T_c347b_row4_col10\" class=\"data row4 col10\" >-0.12</td>\n",
              "      <td id=\"T_c347b_row4_col11\" class=\"data row4 col11\" >0.13</td>\n",
              "    </tr>\n",
              "    <tr>\n",
              "      <th id=\"T_c347b_level0_row5\" class=\"row_heading level0 row5\" >ApplicantIncome</th>\n",
              "      <td id=\"T_c347b_row5_col0\" class=\"data row5 col0\" >-0.06</td>\n",
              "      <td id=\"T_c347b_row5_col1\" class=\"data row5 col1\" >0.05</td>\n",
              "      <td id=\"T_c347b_row5_col2\" class=\"data row5 col2\" >0.14</td>\n",
              "      <td id=\"T_c347b_row5_col3\" class=\"data row5 col3\" >0.14</td>\n",
              "      <td id=\"T_c347b_row5_col4\" class=\"data row5 col4\" >0.07</td>\n",
              "      <td id=\"T_c347b_row5_col5\" class=\"data row5 col5\" >1.00</td>\n",
              "      <td id=\"T_c347b_row5_col6\" class=\"data row5 col6\" >-0.11</td>\n",
              "      <td id=\"T_c347b_row5_col7\" class=\"data row5 col7\" >0.49</td>\n",
              "      <td id=\"T_c347b_row5_col8\" class=\"data row5 col8\" >0.02</td>\n",
              "      <td id=\"T_c347b_row5_col9\" class=\"data row5 col9\" >0.09</td>\n",
              "      <td id=\"T_c347b_row5_col10\" class=\"data row5 col10\" >0.01</td>\n",
              "      <td id=\"T_c347b_row5_col11\" class=\"data row5 col11\" >0.10</td>\n",
              "    </tr>\n",
              "    <tr>\n",
              "      <th id=\"T_c347b_level0_row6\" class=\"row_heading level0 row6\" >CoapplicantIncome</th>\n",
              "      <td id=\"T_c347b_row6_col0\" class=\"data row6 col0\" >-0.08</td>\n",
              "      <td id=\"T_c347b_row6_col1\" class=\"data row6 col1\" >0.03</td>\n",
              "      <td id=\"T_c347b_row6_col2\" class=\"data row6 col2\" >-0.05</td>\n",
              "      <td id=\"T_c347b_row6_col3\" class=\"data row6 col3\" >0.06</td>\n",
              "      <td id=\"T_c347b_row6_col4\" class=\"data row6 col4\" >-0.03</td>\n",
              "      <td id=\"T_c347b_row6_col5\" class=\"data row6 col5\" >-0.11</td>\n",
              "      <td id=\"T_c347b_row6_col6\" class=\"data row6 col6\" >1.00</td>\n",
              "      <td id=\"T_c347b_row6_col7\" class=\"data row6 col7\" >0.15</td>\n",
              "      <td id=\"T_c347b_row6_col8\" class=\"data row6 col8\" >-0.01</td>\n",
              "      <td id=\"T_c347b_row6_col9\" class=\"data row6 col9\" >-0.06</td>\n",
              "      <td id=\"T_c347b_row6_col10\" class=\"data row6 col10\" >-0.08</td>\n",
              "      <td id=\"T_c347b_row6_col11\" class=\"data row6 col11\" >-0.01</td>\n",
              "    </tr>\n",
              "    <tr>\n",
              "      <th id=\"T_c347b_level0_row7\" class=\"row_heading level0 row7\" >LoanAmount</th>\n",
              "      <td id=\"T_c347b_row7_col0\" class=\"data row7 col0\" >-0.07</td>\n",
              "      <td id=\"T_c347b_row7_col1\" class=\"data row7 col1\" >0.18</td>\n",
              "      <td id=\"T_c347b_row7_col2\" class=\"data row7 col2\" >0.13</td>\n",
              "      <td id=\"T_c347b_row7_col3\" class=\"data row7 col3\" >0.16</td>\n",
              "      <td id=\"T_c347b_row7_col4\" class=\"data row7 col4\" >0.08</td>\n",
              "      <td id=\"T_c347b_row7_col5\" class=\"data row7 col5\" >0.49</td>\n",
              "      <td id=\"T_c347b_row7_col6\" class=\"data row7 col6\" >0.15</td>\n",
              "      <td id=\"T_c347b_row7_col7\" class=\"data row7 col7\" >1.00</td>\n",
              "      <td id=\"T_c347b_row7_col8\" class=\"data row7 col8\" >0.10</td>\n",
              "      <td id=\"T_c347b_row7_col9\" class=\"data row7 col9\" >-0.01</td>\n",
              "      <td id=\"T_c347b_row7_col10\" class=\"data row7 col10\" >-0.03</td>\n",
              "      <td id=\"T_c347b_row7_col11\" class=\"data row7 col11\" >-0.01</td>\n",
              "    </tr>\n",
              "    <tr>\n",
              "      <th id=\"T_c347b_level0_row8\" class=\"row_heading level0 row8\" >Loan_Amount_Term</th>\n",
              "      <td id=\"T_c347b_row8_col0\" class=\"data row8 col0\" >0.06</td>\n",
              "      <td id=\"T_c347b_row8_col1\" class=\"data row8 col1\" >0.04</td>\n",
              "      <td id=\"T_c347b_row8_col2\" class=\"data row8 col2\" >-0.05</td>\n",
              "      <td id=\"T_c347b_row8_col3\" class=\"data row8 col3\" >-0.06</td>\n",
              "      <td id=\"T_c347b_row8_col4\" class=\"data row8 col4\" >-0.03</td>\n",
              "      <td id=\"T_c347b_row8_col5\" class=\"data row8 col5\" >0.02</td>\n",
              "      <td id=\"T_c347b_row8_col6\" class=\"data row8 col6\" >-0.01</td>\n",
              "      <td id=\"T_c347b_row8_col7\" class=\"data row8 col7\" >0.10</td>\n",
              "      <td id=\"T_c347b_row8_col8\" class=\"data row8 col8\" >1.00</td>\n",
              "      <td id=\"T_c347b_row8_col9\" class=\"data row8 col9\" >-0.05</td>\n",
              "      <td id=\"T_c347b_row8_col10\" class=\"data row8 col10\" >-0.01</td>\n",
              "      <td id=\"T_c347b_row8_col11\" class=\"data row8 col11\" >-0.09</td>\n",
              "    </tr>\n",
              "    <tr>\n",
              "      <th id=\"T_c347b_level0_row9\" class=\"row_heading level0 row9\" >Credit_History</th>\n",
              "      <td id=\"T_c347b_row9_col0\" class=\"data row9 col0\" >-0.03</td>\n",
              "      <td id=\"T_c347b_row9_col1\" class=\"data row9 col1\" >0.04</td>\n",
              "      <td id=\"T_c347b_row9_col2\" class=\"data row9 col2\" >-0.05</td>\n",
              "      <td id=\"T_c347b_row9_col3\" class=\"data row9 col3\" >0.04</td>\n",
              "      <td id=\"T_c347b_row9_col4\" class=\"data row9 col4\" >0.10</td>\n",
              "      <td id=\"T_c347b_row9_col5\" class=\"data row9 col5\" >0.09</td>\n",
              "      <td id=\"T_c347b_row9_col6\" class=\"data row9 col6\" >-0.06</td>\n",
              "      <td id=\"T_c347b_row9_col7\" class=\"data row9 col7\" >-0.01</td>\n",
              "      <td id=\"T_c347b_row9_col8\" class=\"data row9 col8\" >-0.05</td>\n",
              "      <td id=\"T_c347b_row9_col9\" class=\"data row9 col9\" >1.00</td>\n",
              "      <td id=\"T_c347b_row9_col10\" class=\"data row9 col10\" >-0.00</td>\n",
              "      <td id=\"T_c347b_row9_col11\" class=\"data row9 col11\" >0.83</td>\n",
              "    </tr>\n",
              "    <tr>\n",
              "      <th id=\"T_c347b_level0_row10\" class=\"row_heading level0 row10\" >Property_Area</th>\n",
              "      <td id=\"T_c347b_row10_col0\" class=\"data row10 col0\" >0.07</td>\n",
              "      <td id=\"T_c347b_row10_col1\" class=\"data row10 col1\" >-0.02</td>\n",
              "      <td id=\"T_c347b_row10_col2\" class=\"data row10 col2\" >0.02</td>\n",
              "      <td id=\"T_c347b_row10_col3\" class=\"data row10 col3\" >-0.02</td>\n",
              "      <td id=\"T_c347b_row10_col4\" class=\"data row10 col4\" >-0.12</td>\n",
              "      <td id=\"T_c347b_row10_col5\" class=\"data row10 col5\" >0.01</td>\n",
              "      <td id=\"T_c347b_row10_col6\" class=\"data row10 col6\" >-0.08</td>\n",
              "      <td id=\"T_c347b_row10_col7\" class=\"data row10 col7\" >-0.03</td>\n",
              "      <td id=\"T_c347b_row10_col8\" class=\"data row10 col8\" >-0.01</td>\n",
              "      <td id=\"T_c347b_row10_col9\" class=\"data row10 col9\" >-0.00</td>\n",
              "      <td id=\"T_c347b_row10_col10\" class=\"data row10 col10\" >1.00</td>\n",
              "      <td id=\"T_c347b_row10_col11\" class=\"data row10 col11\" >0.11</td>\n",
              "    </tr>\n",
              "    <tr>\n",
              "      <th id=\"T_c347b_level0_row11\" class=\"row_heading level0 row11\" >Loan_Status</th>\n",
              "      <td id=\"T_c347b_row11_col0\" class=\"data row11 col0\" >-0.06</td>\n",
              "      <td id=\"T_c347b_row11_col1\" class=\"data row11 col1\" >0.10</td>\n",
              "      <td id=\"T_c347b_row11_col2\" class=\"data row11 col2\" >0.03</td>\n",
              "      <td id=\"T_c347b_row11_col3\" class=\"data row11 col3\" >0.05</td>\n",
              "      <td id=\"T_c347b_row11_col4\" class=\"data row11 col4\" >0.13</td>\n",
              "      <td id=\"T_c347b_row11_col5\" class=\"data row11 col5\" >0.10</td>\n",
              "      <td id=\"T_c347b_row11_col6\" class=\"data row11 col6\" >-0.01</td>\n",
              "      <td id=\"T_c347b_row11_col7\" class=\"data row11 col7\" >-0.01</td>\n",
              "      <td id=\"T_c347b_row11_col8\" class=\"data row11 col8\" >-0.09</td>\n",
              "      <td id=\"T_c347b_row11_col9\" class=\"data row11 col9\" >0.83</td>\n",
              "      <td id=\"T_c347b_row11_col10\" class=\"data row11 col10\" >0.11</td>\n",
              "      <td id=\"T_c347b_row11_col11\" class=\"data row11 col11\" >1.00</td>\n",
              "    </tr>\n",
              "  </tbody>\n",
              "</table>\n"
            ]
          },
          "metadata": {},
          "execution_count": 91
        }
      ]
    },
    {
      "cell_type": "markdown",
      "metadata": {
        "id": "pbFZMCGZ30wi"
      },
      "source": [
        "## 11. Tiến hành xây dựng mô hình Logistic bằng Tensorflow"
      ]
    },
    {
      "cell_type": "code",
      "metadata": {
        "id": "WfHAPaEn39Ti"
      },
      "source": [
        "import tensorflow as tf\n",
        "from tensorflow.keras.models import Sequential\n",
        "\n",
        "from tensorflow.keras.layers import Dense\n",
        "from tensorflow.keras.optimizers import SGD"
      ],
      "execution_count": 92,
      "outputs": []
    },
    {
      "cell_type": "markdown",
      "metadata": {
        "id": "wJ9h5ME6HJE0"
      },
      "source": [
        "```TODO 9```: Xây dựng mô hình Logistic"
      ]
    },
    {
      "cell_type": "code",
      "metadata": {
        "id": "hMF3jvhn3Nyg"
      },
      "source": [
        "def create_model(input_shape):\n",
        "  \"\"\"\n",
        "  Đầu vào:\n",
        "    - input_shape: \n",
        "      - Dạng: Tuple. \n",
        "      - Ví dụ: (20, )\n",
        "  Đầu ra:\n",
        "    - model\n",
        "      - Sequential model\n",
        "  \"\"\"\n",
        "  # Lập trình tại đây\n",
        "  # Tạo sequential model \n",
        "  model = Sequential()\n",
        "\n",
        "  # Thêm lớp Dense với đầu ra là 1 kèm theo activation là sigmoid. chiều đầu vào là tham số input_shape\n",
        "  model.add(Dense(1, activation='sigmoid', input_shape=input_shape))\n",
        "  \n",
        "\n",
        "  # Trả về model\n",
        "  return model\n"
      ],
      "execution_count": 93,
      "outputs": []
    },
    {
      "cell_type": "code",
      "metadata": {
        "id": "LoATlTo88o-a",
        "colab": {
          "base_uri": "https://localhost:8080/"
        },
        "outputId": "c1d26b9e-5240-47b3-d54c-6e777b4838db"
      },
      "source": [
        "# TEST CODE\n",
        "test_input_shape = (train_X.shape[1], )\n",
        "test_model = create_model(input_shape=test_input_shape)\n",
        "test_model.summary()"
      ],
      "execution_count": 94,
      "outputs": [
        {
          "output_type": "stream",
          "name": "stdout",
          "text": [
            "Model: \"sequential\"\n",
            "_________________________________________________________________\n",
            " Layer (type)                Output Shape              Param #   \n",
            "=================================================================\n",
            " dense (Dense)               (None, 1)                 12        \n",
            "                                                                 \n",
            "=================================================================\n",
            "Total params: 12\n",
            "Trainable params: 12\n",
            "Non-trainable params: 0\n",
            "_________________________________________________________________\n"
          ]
        }
      ]
    },
    {
      "cell_type": "markdown",
      "metadata": {
        "id": "utYCq3Oa81FB"
      },
      "source": [
        "**Kết quả mong đợi:**\n",
        "\n",
        "```\n",
        "_________________________________________________________________\n",
        "Layer (type)                 Output Shape              Param #   \n",
        "=================================================================\n",
        "dense_2 (Dense)              (None, 1)                 12        \n",
        "=================================================================\n",
        "Total params: 12\n",
        "Trainable params: 12\n",
        "Non-trainable params: 0\n",
        "_________________________________________________________________\n",
        "```"
      ]
    },
    {
      "cell_type": "code",
      "metadata": {
        "id": "Vu9SWweO7MVl"
      },
      "source": [
        "# Khởi tạo mô hình\n",
        "learning_rate = 0.01\n",
        "input_shape = (train_X.shape[1], )\n",
        "model = create_model(input_shape=input_shape)"
      ],
      "execution_count": 95,
      "outputs": []
    },
    {
      "cell_type": "code",
      "metadata": {
        "id": "CNTkcHx57i2y"
      },
      "source": [
        "# Tạo optimizer sgd với tốc độ học là tham số learning_rate của hàm\n",
        "sgd = SGD(learning_rate)\n",
        "\n",
        "model.compile(sgd, loss='binary_crossentropy', metrics=['acc'])"
      ],
      "execution_count": 96,
      "outputs": []
    },
    {
      "cell_type": "code",
      "metadata": {
        "id": "G1pWg1oQ8aFl",
        "colab": {
          "base_uri": "https://localhost:8080/"
        },
        "outputId": "906e591a-b828-42eb-c5d4-f74b3032d215"
      },
      "source": [
        "model.fit(train_X, train_Y, epochs=200, verbose=2, validation_data=(val_X, val_Y))"
      ],
      "execution_count": 97,
      "outputs": [
        {
          "output_type": "stream",
          "name": "stdout",
          "text": [
            "Epoch 1/200\n",
            "20/20 - 1s - loss: 0.6980 - acc: 0.6026 - val_loss: 0.6300 - val_acc: 0.6594 - 799ms/epoch - 40ms/step\n",
            "Epoch 2/200\n",
            "20/20 - 0s - loss: 0.6896 - acc: 0.6091 - val_loss: 0.6205 - val_acc: 0.6703 - 72ms/epoch - 4ms/step\n",
            "Epoch 3/200\n",
            "20/20 - 0s - loss: 0.6838 - acc: 0.6140 - val_loss: 0.6112 - val_acc: 0.6757 - 66ms/epoch - 3ms/step\n",
            "Epoch 4/200\n",
            "20/20 - 0s - loss: 0.6784 - acc: 0.6140 - val_loss: 0.6027 - val_acc: 0.6785 - 67ms/epoch - 3ms/step\n",
            "Epoch 5/200\n",
            "20/20 - 0s - loss: 0.6730 - acc: 0.6156 - val_loss: 0.5950 - val_acc: 0.6785 - 63ms/epoch - 3ms/step\n",
            "Epoch 6/200\n",
            "20/20 - 0s - loss: 0.6685 - acc: 0.6221 - val_loss: 0.5881 - val_acc: 0.6894 - 81ms/epoch - 4ms/step\n",
            "Epoch 7/200\n",
            "20/20 - 0s - loss: 0.6642 - acc: 0.6401 - val_loss: 0.5819 - val_acc: 0.7166 - 65ms/epoch - 3ms/step\n",
            "Epoch 8/200\n",
            "20/20 - 0s - loss: 0.6598 - acc: 0.6564 - val_loss: 0.5743 - val_acc: 0.7493 - 65ms/epoch - 3ms/step\n",
            "Epoch 9/200\n",
            "20/20 - 0s - loss: 0.6560 - acc: 0.6678 - val_loss: 0.5679 - val_acc: 0.7520 - 73ms/epoch - 4ms/step\n",
            "Epoch 10/200\n",
            "20/20 - 0s - loss: 0.6523 - acc: 0.6678 - val_loss: 0.5616 - val_acc: 0.7602 - 71ms/epoch - 4ms/step\n",
            "Epoch 11/200\n",
            "20/20 - 0s - loss: 0.6488 - acc: 0.6661 - val_loss: 0.5569 - val_acc: 0.7684 - 68ms/epoch - 3ms/step\n",
            "Epoch 12/200\n",
            "20/20 - 0s - loss: 0.6453 - acc: 0.6661 - val_loss: 0.5520 - val_acc: 0.7738 - 65ms/epoch - 3ms/step\n",
            "Epoch 13/200\n",
            "20/20 - 0s - loss: 0.6422 - acc: 0.6645 - val_loss: 0.5463 - val_acc: 0.7766 - 69ms/epoch - 3ms/step\n",
            "Epoch 14/200\n",
            "20/20 - 0s - loss: 0.6390 - acc: 0.6596 - val_loss: 0.5435 - val_acc: 0.7766 - 64ms/epoch - 3ms/step\n",
            "Epoch 15/200\n",
            "20/20 - 0s - loss: 0.6362 - acc: 0.6596 - val_loss: 0.5388 - val_acc: 0.7793 - 70ms/epoch - 3ms/step\n",
            "Epoch 16/200\n",
            "20/20 - 0s - loss: 0.6335 - acc: 0.6612 - val_loss: 0.5350 - val_acc: 0.7847 - 78ms/epoch - 4ms/step\n",
            "Epoch 17/200\n",
            "20/20 - 0s - loss: 0.6307 - acc: 0.6612 - val_loss: 0.5309 - val_acc: 0.7875 - 63ms/epoch - 3ms/step\n",
            "Epoch 18/200\n",
            "20/20 - 0s - loss: 0.6281 - acc: 0.6612 - val_loss: 0.5274 - val_acc: 0.7875 - 80ms/epoch - 4ms/step\n",
            "Epoch 19/200\n",
            "20/20 - 0s - loss: 0.6255 - acc: 0.6629 - val_loss: 0.5258 - val_acc: 0.7902 - 66ms/epoch - 3ms/step\n",
            "Epoch 20/200\n",
            "20/20 - 0s - loss: 0.6233 - acc: 0.6645 - val_loss: 0.5234 - val_acc: 0.7929 - 65ms/epoch - 3ms/step\n",
            "Epoch 21/200\n",
            "20/20 - 0s - loss: 0.6210 - acc: 0.6645 - val_loss: 0.5195 - val_acc: 0.7984 - 68ms/epoch - 3ms/step\n",
            "Epoch 22/200\n",
            "20/20 - 0s - loss: 0.6187 - acc: 0.6710 - val_loss: 0.5179 - val_acc: 0.7984 - 64ms/epoch - 3ms/step\n",
            "Epoch 23/200\n",
            "20/20 - 0s - loss: 0.6162 - acc: 0.6726 - val_loss: 0.5142 - val_acc: 0.8011 - 68ms/epoch - 3ms/step\n",
            "Epoch 24/200\n",
            "20/20 - 0s - loss: 0.6143 - acc: 0.6759 - val_loss: 0.5104 - val_acc: 0.7929 - 62ms/epoch - 3ms/step\n",
            "Epoch 25/200\n",
            "20/20 - 0s - loss: 0.6120 - acc: 0.6759 - val_loss: 0.5073 - val_acc: 0.7984 - 68ms/epoch - 3ms/step\n",
            "Epoch 26/200\n",
            "20/20 - 0s - loss: 0.6100 - acc: 0.6808 - val_loss: 0.5050 - val_acc: 0.8011 - 66ms/epoch - 3ms/step\n",
            "Epoch 27/200\n",
            "20/20 - 0s - loss: 0.6082 - acc: 0.6808 - val_loss: 0.5028 - val_acc: 0.8011 - 69ms/epoch - 3ms/step\n",
            "Epoch 28/200\n",
            "20/20 - 0s - loss: 0.6060 - acc: 0.6824 - val_loss: 0.5020 - val_acc: 0.8011 - 62ms/epoch - 3ms/step\n",
            "Epoch 29/200\n",
            "20/20 - 0s - loss: 0.6041 - acc: 0.6824 - val_loss: 0.4995 - val_acc: 0.8038 - 64ms/epoch - 3ms/step\n",
            "Epoch 30/200\n",
            "20/20 - 0s - loss: 0.6022 - acc: 0.6889 - val_loss: 0.4959 - val_acc: 0.8093 - 70ms/epoch - 4ms/step\n",
            "Epoch 31/200\n",
            "20/20 - 0s - loss: 0.6005 - acc: 0.6873 - val_loss: 0.4927 - val_acc: 0.8120 - 70ms/epoch - 4ms/step\n",
            "Epoch 32/200\n",
            "20/20 - 0s - loss: 0.5988 - acc: 0.6938 - val_loss: 0.4898 - val_acc: 0.8147 - 75ms/epoch - 4ms/step\n",
            "Epoch 33/200\n",
            "20/20 - 0s - loss: 0.5971 - acc: 0.7020 - val_loss: 0.4892 - val_acc: 0.8147 - 68ms/epoch - 3ms/step\n",
            "Epoch 34/200\n",
            "20/20 - 0s - loss: 0.5956 - acc: 0.7020 - val_loss: 0.4872 - val_acc: 0.8174 - 67ms/epoch - 3ms/step\n",
            "Epoch 35/200\n",
            "20/20 - 0s - loss: 0.5939 - acc: 0.7003 - val_loss: 0.4849 - val_acc: 0.8202 - 64ms/epoch - 3ms/step\n",
            "Epoch 36/200\n",
            "20/20 - 0s - loss: 0.5924 - acc: 0.7020 - val_loss: 0.4827 - val_acc: 0.8202 - 63ms/epoch - 3ms/step\n",
            "Epoch 37/200\n",
            "20/20 - 0s - loss: 0.5910 - acc: 0.7036 - val_loss: 0.4813 - val_acc: 0.8202 - 64ms/epoch - 3ms/step\n",
            "Epoch 38/200\n",
            "20/20 - 0s - loss: 0.5896 - acc: 0.7020 - val_loss: 0.4791 - val_acc: 0.8202 - 69ms/epoch - 3ms/step\n",
            "Epoch 39/200\n",
            "20/20 - 0s - loss: 0.5881 - acc: 0.7020 - val_loss: 0.4778 - val_acc: 0.8202 - 65ms/epoch - 3ms/step\n",
            "Epoch 40/200\n",
            "20/20 - 0s - loss: 0.5866 - acc: 0.7052 - val_loss: 0.4760 - val_acc: 0.8202 - 65ms/epoch - 3ms/step\n",
            "Epoch 41/200\n",
            "20/20 - 0s - loss: 0.5853 - acc: 0.7052 - val_loss: 0.4745 - val_acc: 0.8202 - 63ms/epoch - 3ms/step\n",
            "Epoch 42/200\n",
            "20/20 - 0s - loss: 0.5839 - acc: 0.7052 - val_loss: 0.4726 - val_acc: 0.8202 - 68ms/epoch - 3ms/step\n",
            "Epoch 43/200\n",
            "20/20 - 0s - loss: 0.5826 - acc: 0.7052 - val_loss: 0.4712 - val_acc: 0.8202 - 73ms/epoch - 4ms/step\n",
            "Epoch 44/200\n",
            "20/20 - 0s - loss: 0.5814 - acc: 0.7068 - val_loss: 0.4707 - val_acc: 0.8256 - 72ms/epoch - 4ms/step\n",
            "Epoch 45/200\n",
            "20/20 - 0s - loss: 0.5802 - acc: 0.7101 - val_loss: 0.4693 - val_acc: 0.8256 - 65ms/epoch - 3ms/step\n",
            "Epoch 46/200\n",
            "20/20 - 0s - loss: 0.5789 - acc: 0.7117 - val_loss: 0.4669 - val_acc: 0.8256 - 72ms/epoch - 4ms/step\n",
            "Epoch 47/200\n",
            "20/20 - 0s - loss: 0.5777 - acc: 0.7117 - val_loss: 0.4665 - val_acc: 0.8256 - 72ms/epoch - 4ms/step\n",
            "Epoch 48/200\n",
            "20/20 - 0s - loss: 0.5766 - acc: 0.7150 - val_loss: 0.4659 - val_acc: 0.8256 - 62ms/epoch - 3ms/step\n",
            "Epoch 49/200\n",
            "20/20 - 0s - loss: 0.5755 - acc: 0.7150 - val_loss: 0.4638 - val_acc: 0.8256 - 67ms/epoch - 3ms/step\n",
            "Epoch 50/200\n",
            "20/20 - 0s - loss: 0.5744 - acc: 0.7166 - val_loss: 0.4615 - val_acc: 0.8256 - 68ms/epoch - 3ms/step\n",
            "Epoch 51/200\n",
            "20/20 - 0s - loss: 0.5733 - acc: 0.7166 - val_loss: 0.4595 - val_acc: 0.8256 - 69ms/epoch - 3ms/step\n",
            "Epoch 52/200\n",
            "20/20 - 0s - loss: 0.5723 - acc: 0.7166 - val_loss: 0.4580 - val_acc: 0.8256 - 62ms/epoch - 3ms/step\n",
            "Epoch 53/200\n",
            "20/20 - 0s - loss: 0.5713 - acc: 0.7166 - val_loss: 0.4555 - val_acc: 0.8256 - 63ms/epoch - 3ms/step\n",
            "Epoch 54/200\n",
            "20/20 - 0s - loss: 0.5703 - acc: 0.7166 - val_loss: 0.4537 - val_acc: 0.8256 - 65ms/epoch - 3ms/step\n",
            "Epoch 55/200\n",
            "20/20 - 0s - loss: 0.5693 - acc: 0.7166 - val_loss: 0.4528 - val_acc: 0.8283 - 62ms/epoch - 3ms/step\n",
            "Epoch 56/200\n",
            "20/20 - 0s - loss: 0.5682 - acc: 0.7166 - val_loss: 0.4518 - val_acc: 0.8283 - 68ms/epoch - 3ms/step\n",
            "Epoch 57/200\n",
            "20/20 - 0s - loss: 0.5673 - acc: 0.7166 - val_loss: 0.4499 - val_acc: 0.8283 - 80ms/epoch - 4ms/step\n",
            "Epoch 58/200\n",
            "20/20 - 0s - loss: 0.5665 - acc: 0.7166 - val_loss: 0.4491 - val_acc: 0.8283 - 70ms/epoch - 4ms/step\n",
            "Epoch 59/200\n",
            "20/20 - 0s - loss: 0.5655 - acc: 0.7166 - val_loss: 0.4469 - val_acc: 0.8311 - 81ms/epoch - 4ms/step\n",
            "Epoch 60/200\n",
            "20/20 - 0s - loss: 0.5647 - acc: 0.7166 - val_loss: 0.4456 - val_acc: 0.8311 - 73ms/epoch - 4ms/step\n",
            "Epoch 61/200\n",
            "20/20 - 0s - loss: 0.5638 - acc: 0.7166 - val_loss: 0.4448 - val_acc: 0.8311 - 63ms/epoch - 3ms/step\n",
            "Epoch 62/200\n",
            "20/20 - 0s - loss: 0.5630 - acc: 0.7182 - val_loss: 0.4432 - val_acc: 0.8311 - 67ms/epoch - 3ms/step\n",
            "Epoch 63/200\n",
            "20/20 - 0s - loss: 0.5619 - acc: 0.7182 - val_loss: 0.4421 - val_acc: 0.8311 - 68ms/epoch - 3ms/step\n",
            "Epoch 64/200\n",
            "20/20 - 0s - loss: 0.5612 - acc: 0.7199 - val_loss: 0.4418 - val_acc: 0.8338 - 67ms/epoch - 3ms/step\n",
            "Epoch 65/200\n",
            "20/20 - 0s - loss: 0.5603 - acc: 0.7231 - val_loss: 0.4407 - val_acc: 0.8365 - 73ms/epoch - 4ms/step\n",
            "Epoch 66/200\n",
            "20/20 - 0s - loss: 0.5596 - acc: 0.7264 - val_loss: 0.4402 - val_acc: 0.8392 - 64ms/epoch - 3ms/step\n",
            "Epoch 67/200\n",
            "20/20 - 0s - loss: 0.5587 - acc: 0.7280 - val_loss: 0.4382 - val_acc: 0.8392 - 64ms/epoch - 3ms/step\n",
            "Epoch 68/200\n",
            "20/20 - 0s - loss: 0.5579 - acc: 0.7280 - val_loss: 0.4370 - val_acc: 0.8420 - 64ms/epoch - 3ms/step\n",
            "Epoch 69/200\n",
            "20/20 - 0s - loss: 0.5570 - acc: 0.7280 - val_loss: 0.4362 - val_acc: 0.8474 - 65ms/epoch - 3ms/step\n",
            "Epoch 70/200\n",
            "20/20 - 0s - loss: 0.5564 - acc: 0.7280 - val_loss: 0.4340 - val_acc: 0.8501 - 70ms/epoch - 3ms/step\n",
            "Epoch 71/200\n",
            "20/20 - 0s - loss: 0.5555 - acc: 0.7296 - val_loss: 0.4325 - val_acc: 0.8529 - 63ms/epoch - 3ms/step\n",
            "Epoch 72/200\n",
            "20/20 - 0s - loss: 0.5548 - acc: 0.7313 - val_loss: 0.4308 - val_acc: 0.8529 - 73ms/epoch - 4ms/step\n",
            "Epoch 73/200\n",
            "20/20 - 0s - loss: 0.5541 - acc: 0.7280 - val_loss: 0.4307 - val_acc: 0.8583 - 111ms/epoch - 6ms/step\n",
            "Epoch 74/200\n",
            "20/20 - 0s - loss: 0.5535 - acc: 0.7313 - val_loss: 0.4298 - val_acc: 0.8610 - 64ms/epoch - 3ms/step\n",
            "Epoch 75/200\n",
            "20/20 - 0s - loss: 0.5526 - acc: 0.7313 - val_loss: 0.4292 - val_acc: 0.8610 - 63ms/epoch - 3ms/step\n",
            "Epoch 76/200\n",
            "20/20 - 0s - loss: 0.5518 - acc: 0.7313 - val_loss: 0.4291 - val_acc: 0.8610 - 71ms/epoch - 4ms/step\n",
            "Epoch 77/200\n",
            "20/20 - 0s - loss: 0.5511 - acc: 0.7313 - val_loss: 0.4272 - val_acc: 0.8610 - 64ms/epoch - 3ms/step\n",
            "Epoch 78/200\n",
            "20/20 - 0s - loss: 0.5506 - acc: 0.7313 - val_loss: 0.4259 - val_acc: 0.8610 - 68ms/epoch - 3ms/step\n",
            "Epoch 79/200\n",
            "20/20 - 0s - loss: 0.5499 - acc: 0.7313 - val_loss: 0.4260 - val_acc: 0.8638 - 69ms/epoch - 3ms/step\n",
            "Epoch 80/200\n",
            "20/20 - 0s - loss: 0.5492 - acc: 0.7362 - val_loss: 0.4258 - val_acc: 0.8665 - 67ms/epoch - 3ms/step\n",
            "Epoch 81/200\n",
            "20/20 - 0s - loss: 0.5485 - acc: 0.7362 - val_loss: 0.4251 - val_acc: 0.8665 - 70ms/epoch - 3ms/step\n",
            "Epoch 82/200\n",
            "20/20 - 0s - loss: 0.5481 - acc: 0.7362 - val_loss: 0.4237 - val_acc: 0.8665 - 69ms/epoch - 3ms/step\n",
            "Epoch 83/200\n",
            "20/20 - 0s - loss: 0.5473 - acc: 0.7362 - val_loss: 0.4221 - val_acc: 0.8665 - 74ms/epoch - 4ms/step\n",
            "Epoch 84/200\n",
            "20/20 - 0s - loss: 0.5467 - acc: 0.7362 - val_loss: 0.4206 - val_acc: 0.8665 - 70ms/epoch - 4ms/step\n",
            "Epoch 85/200\n",
            "20/20 - 0s - loss: 0.5460 - acc: 0.7362 - val_loss: 0.4192 - val_acc: 0.8665 - 69ms/epoch - 3ms/step\n",
            "Epoch 86/200\n",
            "20/20 - 0s - loss: 0.5455 - acc: 0.7362 - val_loss: 0.4173 - val_acc: 0.8665 - 65ms/epoch - 3ms/step\n",
            "Epoch 87/200\n",
            "20/20 - 0s - loss: 0.5449 - acc: 0.7362 - val_loss: 0.4187 - val_acc: 0.8665 - 67ms/epoch - 3ms/step\n",
            "Epoch 88/200\n",
            "20/20 - 0s - loss: 0.5441 - acc: 0.7378 - val_loss: 0.4178 - val_acc: 0.8665 - 71ms/epoch - 4ms/step\n",
            "Epoch 89/200\n",
            "20/20 - 0s - loss: 0.5435 - acc: 0.7378 - val_loss: 0.4195 - val_acc: 0.8719 - 63ms/epoch - 3ms/step\n",
            "Epoch 90/200\n",
            "20/20 - 0s - loss: 0.5429 - acc: 0.7476 - val_loss: 0.4184 - val_acc: 0.8719 - 70ms/epoch - 3ms/step\n",
            "Epoch 91/200\n",
            "20/20 - 0s - loss: 0.5424 - acc: 0.7492 - val_loss: 0.4157 - val_acc: 0.8719 - 61ms/epoch - 3ms/step\n",
            "Epoch 92/200\n",
            "20/20 - 0s - loss: 0.5418 - acc: 0.7492 - val_loss: 0.4138 - val_acc: 0.8719 - 65ms/epoch - 3ms/step\n",
            "Epoch 93/200\n",
            "20/20 - 0s - loss: 0.5412 - acc: 0.7476 - val_loss: 0.4144 - val_acc: 0.8719 - 69ms/epoch - 3ms/step\n",
            "Epoch 94/200\n",
            "20/20 - 0s - loss: 0.5407 - acc: 0.7492 - val_loss: 0.4130 - val_acc: 0.8719 - 65ms/epoch - 3ms/step\n",
            "Epoch 95/200\n",
            "20/20 - 0s - loss: 0.5401 - acc: 0.7508 - val_loss: 0.4128 - val_acc: 0.8774 - 63ms/epoch - 3ms/step\n",
            "Epoch 96/200\n",
            "20/20 - 0s - loss: 0.5396 - acc: 0.7508 - val_loss: 0.4101 - val_acc: 0.8774 - 66ms/epoch - 3ms/step\n",
            "Epoch 97/200\n",
            "20/20 - 0s - loss: 0.5391 - acc: 0.7508 - val_loss: 0.4090 - val_acc: 0.8774 - 68ms/epoch - 3ms/step\n",
            "Epoch 98/200\n",
            "20/20 - 0s - loss: 0.5386 - acc: 0.7508 - val_loss: 0.4073 - val_acc: 0.8801 - 62ms/epoch - 3ms/step\n",
            "Epoch 99/200\n",
            "20/20 - 0s - loss: 0.5380 - acc: 0.7508 - val_loss: 0.4073 - val_acc: 0.8801 - 72ms/epoch - 4ms/step\n",
            "Epoch 100/200\n",
            "20/20 - 0s - loss: 0.5376 - acc: 0.7508 - val_loss: 0.4068 - val_acc: 0.8828 - 78ms/epoch - 4ms/step\n",
            "Epoch 101/200\n",
            "20/20 - 0s - loss: 0.5371 - acc: 0.7557 - val_loss: 0.4065 - val_acc: 0.8883 - 66ms/epoch - 3ms/step\n",
            "Epoch 102/200\n",
            "20/20 - 0s - loss: 0.5365 - acc: 0.7557 - val_loss: 0.4060 - val_acc: 0.8883 - 69ms/epoch - 3ms/step\n",
            "Epoch 103/200\n",
            "20/20 - 0s - loss: 0.5359 - acc: 0.7573 - val_loss: 0.4039 - val_acc: 0.8883 - 68ms/epoch - 3ms/step\n",
            "Epoch 104/200\n",
            "20/20 - 0s - loss: 0.5354 - acc: 0.7606 - val_loss: 0.4030 - val_acc: 0.8910 - 65ms/epoch - 3ms/step\n",
            "Epoch 105/200\n",
            "20/20 - 0s - loss: 0.5350 - acc: 0.7573 - val_loss: 0.4025 - val_acc: 0.8910 - 69ms/epoch - 3ms/step\n",
            "Epoch 106/200\n",
            "20/20 - 0s - loss: 0.5345 - acc: 0.7622 - val_loss: 0.4016 - val_acc: 0.8910 - 64ms/epoch - 3ms/step\n",
            "Epoch 107/200\n",
            "20/20 - 0s - loss: 0.5340 - acc: 0.7671 - val_loss: 0.4001 - val_acc: 0.8910 - 64ms/epoch - 3ms/step\n",
            "Epoch 108/200\n",
            "20/20 - 0s - loss: 0.5335 - acc: 0.7655 - val_loss: 0.4002 - val_acc: 0.8910 - 64ms/epoch - 3ms/step\n",
            "Epoch 109/200\n",
            "20/20 - 0s - loss: 0.5331 - acc: 0.7720 - val_loss: 0.3995 - val_acc: 0.8937 - 62ms/epoch - 3ms/step\n",
            "Epoch 110/200\n",
            "20/20 - 0s - loss: 0.5326 - acc: 0.7736 - val_loss: 0.3976 - val_acc: 0.8910 - 64ms/epoch - 3ms/step\n",
            "Epoch 111/200\n",
            "20/20 - 0s - loss: 0.5321 - acc: 0.7736 - val_loss: 0.3972 - val_acc: 0.8965 - 74ms/epoch - 4ms/step\n",
            "Epoch 112/200\n",
            "20/20 - 0s - loss: 0.5317 - acc: 0.7752 - val_loss: 0.3961 - val_acc: 0.8965 - 62ms/epoch - 3ms/step\n",
            "Epoch 113/200\n",
            "20/20 - 0s - loss: 0.5313 - acc: 0.7720 - val_loss: 0.3969 - val_acc: 0.9074 - 68ms/epoch - 3ms/step\n",
            "Epoch 114/200\n",
            "20/20 - 0s - loss: 0.5309 - acc: 0.7769 - val_loss: 0.3959 - val_acc: 0.9101 - 79ms/epoch - 4ms/step\n",
            "Epoch 115/200\n",
            "20/20 - 0s - loss: 0.5303 - acc: 0.7818 - val_loss: 0.3949 - val_acc: 0.9128 - 67ms/epoch - 3ms/step\n",
            "Epoch 116/200\n",
            "20/20 - 0s - loss: 0.5299 - acc: 0.7818 - val_loss: 0.3946 - val_acc: 0.9128 - 66ms/epoch - 3ms/step\n",
            "Epoch 117/200\n",
            "20/20 - 0s - loss: 0.5295 - acc: 0.7850 - val_loss: 0.3938 - val_acc: 0.9155 - 70ms/epoch - 3ms/step\n",
            "Epoch 118/200\n",
            "20/20 - 0s - loss: 0.5290 - acc: 0.7850 - val_loss: 0.3934 - val_acc: 0.9183 - 73ms/epoch - 4ms/step\n",
            "Epoch 119/200\n",
            "20/20 - 0s - loss: 0.5286 - acc: 0.7866 - val_loss: 0.3922 - val_acc: 0.9183 - 63ms/epoch - 3ms/step\n",
            "Epoch 120/200\n",
            "20/20 - 0s - loss: 0.5282 - acc: 0.7883 - val_loss: 0.3921 - val_acc: 0.9183 - 67ms/epoch - 3ms/step\n",
            "Epoch 121/200\n",
            "20/20 - 0s - loss: 0.5278 - acc: 0.7883 - val_loss: 0.3910 - val_acc: 0.9183 - 68ms/epoch - 3ms/step\n",
            "Epoch 122/200\n",
            "20/20 - 0s - loss: 0.5274 - acc: 0.7850 - val_loss: 0.3909 - val_acc: 0.9210 - 66ms/epoch - 3ms/step\n",
            "Epoch 123/200\n",
            "20/20 - 0s - loss: 0.5271 - acc: 0.7883 - val_loss: 0.3904 - val_acc: 0.9210 - 61ms/epoch - 3ms/step\n",
            "Epoch 124/200\n",
            "20/20 - 0s - loss: 0.5268 - acc: 0.7932 - val_loss: 0.3913 - val_acc: 0.9237 - 66ms/epoch - 3ms/step\n",
            "Epoch 125/200\n",
            "20/20 - 0s - loss: 0.5263 - acc: 0.7948 - val_loss: 0.3897 - val_acc: 0.9237 - 74ms/epoch - 4ms/step\n",
            "Epoch 126/200\n",
            "20/20 - 0s - loss: 0.5259 - acc: 0.7980 - val_loss: 0.3881 - val_acc: 0.9237 - 63ms/epoch - 3ms/step\n",
            "Epoch 127/200\n",
            "20/20 - 0s - loss: 0.5255 - acc: 0.7980 - val_loss: 0.3869 - val_acc: 0.9237 - 62ms/epoch - 3ms/step\n",
            "Epoch 128/200\n",
            "20/20 - 0s - loss: 0.5251 - acc: 0.7980 - val_loss: 0.3886 - val_acc: 0.9292 - 69ms/epoch - 3ms/step\n",
            "Epoch 129/200\n",
            "20/20 - 0s - loss: 0.5247 - acc: 0.7997 - val_loss: 0.3878 - val_acc: 0.9292 - 69ms/epoch - 3ms/step\n",
            "Epoch 130/200\n",
            "20/20 - 0s - loss: 0.5243 - acc: 0.7997 - val_loss: 0.3872 - val_acc: 0.9292 - 69ms/epoch - 3ms/step\n",
            "Epoch 131/200\n",
            "20/20 - 0s - loss: 0.5239 - acc: 0.7997 - val_loss: 0.3861 - val_acc: 0.9292 - 70ms/epoch - 3ms/step\n",
            "Epoch 132/200\n",
            "20/20 - 0s - loss: 0.5235 - acc: 0.8013 - val_loss: 0.3852 - val_acc: 0.9292 - 64ms/epoch - 3ms/step\n",
            "Epoch 133/200\n",
            "20/20 - 0s - loss: 0.5231 - acc: 0.8029 - val_loss: 0.3863 - val_acc: 0.9292 - 61ms/epoch - 3ms/step\n",
            "Epoch 134/200\n",
            "20/20 - 0s - loss: 0.5227 - acc: 0.8046 - val_loss: 0.3869 - val_acc: 0.9346 - 68ms/epoch - 3ms/step\n",
            "Epoch 135/200\n",
            "20/20 - 0s - loss: 0.5224 - acc: 0.8046 - val_loss: 0.3867 - val_acc: 0.9346 - 67ms/epoch - 3ms/step\n",
            "Epoch 136/200\n",
            "20/20 - 0s - loss: 0.5220 - acc: 0.8046 - val_loss: 0.3869 - val_acc: 0.9373 - 68ms/epoch - 3ms/step\n",
            "Epoch 137/200\n",
            "20/20 - 0s - loss: 0.5217 - acc: 0.8046 - val_loss: 0.3861 - val_acc: 0.9401 - 65ms/epoch - 3ms/step\n",
            "Epoch 138/200\n",
            "20/20 - 0s - loss: 0.5213 - acc: 0.8046 - val_loss: 0.3844 - val_acc: 0.9373 - 62ms/epoch - 3ms/step\n",
            "Epoch 139/200\n",
            "20/20 - 0s - loss: 0.5210 - acc: 0.8046 - val_loss: 0.3827 - val_acc: 0.9346 - 61ms/epoch - 3ms/step\n",
            "Epoch 140/200\n",
            "20/20 - 0s - loss: 0.5206 - acc: 0.8046 - val_loss: 0.3821 - val_acc: 0.9346 - 63ms/epoch - 3ms/step\n",
            "Epoch 141/200\n",
            "20/20 - 0s - loss: 0.5203 - acc: 0.8062 - val_loss: 0.3820 - val_acc: 0.9401 - 62ms/epoch - 3ms/step\n",
            "Epoch 142/200\n",
            "20/20 - 0s - loss: 0.5199 - acc: 0.8062 - val_loss: 0.3820 - val_acc: 0.9401 - 73ms/epoch - 4ms/step\n",
            "Epoch 143/200\n",
            "20/20 - 0s - loss: 0.5195 - acc: 0.8062 - val_loss: 0.3803 - val_acc: 0.9401 - 64ms/epoch - 3ms/step\n",
            "Epoch 144/200\n",
            "20/20 - 0s - loss: 0.5192 - acc: 0.8062 - val_loss: 0.3797 - val_acc: 0.9455 - 68ms/epoch - 3ms/step\n",
            "Epoch 145/200\n",
            "20/20 - 0s - loss: 0.5189 - acc: 0.8062 - val_loss: 0.3796 - val_acc: 0.9455 - 76ms/epoch - 4ms/step\n",
            "Epoch 146/200\n",
            "20/20 - 0s - loss: 0.5185 - acc: 0.8062 - val_loss: 0.3784 - val_acc: 0.9455 - 75ms/epoch - 4ms/step\n",
            "Epoch 147/200\n",
            "20/20 - 0s - loss: 0.5182 - acc: 0.8062 - val_loss: 0.3776 - val_acc: 0.9455 - 68ms/epoch - 3ms/step\n",
            "Epoch 148/200\n",
            "20/20 - 0s - loss: 0.5178 - acc: 0.8062 - val_loss: 0.3766 - val_acc: 0.9455 - 61ms/epoch - 3ms/step\n",
            "Epoch 149/200\n",
            "20/20 - 0s - loss: 0.5175 - acc: 0.8062 - val_loss: 0.3761 - val_acc: 0.9455 - 61ms/epoch - 3ms/step\n",
            "Epoch 150/200\n",
            "20/20 - 0s - loss: 0.5172 - acc: 0.8046 - val_loss: 0.3762 - val_acc: 0.9455 - 63ms/epoch - 3ms/step\n",
            "Epoch 151/200\n",
            "20/20 - 0s - loss: 0.5169 - acc: 0.8078 - val_loss: 0.3759 - val_acc: 0.9455 - 67ms/epoch - 3ms/step\n",
            "Epoch 152/200\n",
            "20/20 - 0s - loss: 0.5166 - acc: 0.8062 - val_loss: 0.3770 - val_acc: 0.9455 - 62ms/epoch - 3ms/step\n",
            "Epoch 153/200\n",
            "20/20 - 0s - loss: 0.5163 - acc: 0.8078 - val_loss: 0.3766 - val_acc: 0.9455 - 63ms/epoch - 3ms/step\n",
            "Epoch 154/200\n",
            "20/20 - 0s - loss: 0.5161 - acc: 0.8078 - val_loss: 0.3753 - val_acc: 0.9455 - 70ms/epoch - 3ms/step\n",
            "Epoch 155/200\n",
            "20/20 - 0s - loss: 0.5157 - acc: 0.8078 - val_loss: 0.3729 - val_acc: 0.9455 - 69ms/epoch - 3ms/step\n",
            "Epoch 156/200\n",
            "20/20 - 0s - loss: 0.5155 - acc: 0.8078 - val_loss: 0.3729 - val_acc: 0.9455 - 70ms/epoch - 4ms/step\n",
            "Epoch 157/200\n",
            "20/20 - 0s - loss: 0.5151 - acc: 0.8078 - val_loss: 0.3726 - val_acc: 0.9482 - 69ms/epoch - 3ms/step\n",
            "Epoch 158/200\n",
            "20/20 - 0s - loss: 0.5148 - acc: 0.8078 - val_loss: 0.3725 - val_acc: 0.9482 - 73ms/epoch - 4ms/step\n",
            "Epoch 159/200\n",
            "20/20 - 0s - loss: 0.5145 - acc: 0.8078 - val_loss: 0.3706 - val_acc: 0.9482 - 75ms/epoch - 4ms/step\n",
            "Epoch 160/200\n",
            "20/20 - 0s - loss: 0.5142 - acc: 0.8078 - val_loss: 0.3690 - val_acc: 0.9482 - 73ms/epoch - 4ms/step\n",
            "Epoch 161/200\n",
            "20/20 - 0s - loss: 0.5139 - acc: 0.8078 - val_loss: 0.3698 - val_acc: 0.9482 - 63ms/epoch - 3ms/step\n",
            "Epoch 162/200\n",
            "20/20 - 0s - loss: 0.5136 - acc: 0.8078 - val_loss: 0.3708 - val_acc: 0.9455 - 69ms/epoch - 3ms/step\n",
            "Epoch 163/200\n",
            "20/20 - 0s - loss: 0.5134 - acc: 0.8094 - val_loss: 0.3691 - val_acc: 0.9455 - 69ms/epoch - 3ms/step\n",
            "Epoch 164/200\n",
            "20/20 - 0s - loss: 0.5132 - acc: 0.8094 - val_loss: 0.3678 - val_acc: 0.9455 - 68ms/epoch - 3ms/step\n",
            "Epoch 165/200\n",
            "20/20 - 0s - loss: 0.5127 - acc: 0.8094 - val_loss: 0.3668 - val_acc: 0.9482 - 70ms/epoch - 3ms/step\n",
            "Epoch 166/200\n",
            "20/20 - 0s - loss: 0.5125 - acc: 0.8094 - val_loss: 0.3669 - val_acc: 0.9455 - 71ms/epoch - 4ms/step\n",
            "Epoch 167/200\n",
            "20/20 - 0s - loss: 0.5122 - acc: 0.8094 - val_loss: 0.3672 - val_acc: 0.9455 - 63ms/epoch - 3ms/step\n",
            "Epoch 168/200\n",
            "20/20 - 0s - loss: 0.5119 - acc: 0.8094 - val_loss: 0.3673 - val_acc: 0.9455 - 70ms/epoch - 3ms/step\n",
            "Epoch 169/200\n",
            "20/20 - 0s - loss: 0.5116 - acc: 0.8111 - val_loss: 0.3668 - val_acc: 0.9455 - 79ms/epoch - 4ms/step\n",
            "Epoch 170/200\n",
            "20/20 - 0s - loss: 0.5113 - acc: 0.8111 - val_loss: 0.3650 - val_acc: 0.9455 - 68ms/epoch - 3ms/step\n",
            "Epoch 171/200\n",
            "20/20 - 0s - loss: 0.5111 - acc: 0.8111 - val_loss: 0.3643 - val_acc: 0.9455 - 64ms/epoch - 3ms/step\n",
            "Epoch 172/200\n",
            "20/20 - 0s - loss: 0.5108 - acc: 0.8094 - val_loss: 0.3648 - val_acc: 0.9455 - 64ms/epoch - 3ms/step\n",
            "Epoch 173/200\n",
            "20/20 - 0s - loss: 0.5105 - acc: 0.8111 - val_loss: 0.3655 - val_acc: 0.9455 - 72ms/epoch - 4ms/step\n",
            "Epoch 174/200\n",
            "20/20 - 0s - loss: 0.5102 - acc: 0.8111 - val_loss: 0.3661 - val_acc: 0.9455 - 63ms/epoch - 3ms/step\n",
            "Epoch 175/200\n",
            "20/20 - 0s - loss: 0.5101 - acc: 0.8111 - val_loss: 0.3660 - val_acc: 0.9455 - 67ms/epoch - 3ms/step\n",
            "Epoch 176/200\n",
            "20/20 - 0s - loss: 0.5098 - acc: 0.8111 - val_loss: 0.3657 - val_acc: 0.9455 - 63ms/epoch - 3ms/step\n",
            "Epoch 177/200\n",
            "20/20 - 0s - loss: 0.5096 - acc: 0.8111 - val_loss: 0.3645 - val_acc: 0.9455 - 73ms/epoch - 4ms/step\n",
            "Epoch 178/200\n",
            "20/20 - 0s - loss: 0.5093 - acc: 0.8111 - val_loss: 0.3633 - val_acc: 0.9455 - 70ms/epoch - 3ms/step\n",
            "Epoch 179/200\n",
            "20/20 - 0s - loss: 0.5090 - acc: 0.8111 - val_loss: 0.3617 - val_acc: 0.9455 - 62ms/epoch - 3ms/step\n",
            "Epoch 180/200\n",
            "20/20 - 0s - loss: 0.5088 - acc: 0.8111 - val_loss: 0.3611 - val_acc: 0.9455 - 71ms/epoch - 4ms/step\n",
            "Epoch 181/200\n",
            "20/20 - 0s - loss: 0.5086 - acc: 0.8111 - val_loss: 0.3612 - val_acc: 0.9455 - 68ms/epoch - 3ms/step\n",
            "Epoch 182/200\n",
            "20/20 - 0s - loss: 0.5083 - acc: 0.8111 - val_loss: 0.3616 - val_acc: 0.9455 - 65ms/epoch - 3ms/step\n",
            "Epoch 183/200\n",
            "20/20 - 0s - loss: 0.5080 - acc: 0.8111 - val_loss: 0.3612 - val_acc: 0.9455 - 70ms/epoch - 4ms/step\n",
            "Epoch 184/200\n",
            "20/20 - 0s - loss: 0.5079 - acc: 0.8111 - val_loss: 0.3630 - val_acc: 0.9455 - 71ms/epoch - 4ms/step\n",
            "Epoch 185/200\n",
            "20/20 - 0s - loss: 0.5076 - acc: 0.8111 - val_loss: 0.3625 - val_acc: 0.9455 - 77ms/epoch - 4ms/step\n",
            "Epoch 186/200\n",
            "20/20 - 0s - loss: 0.5075 - acc: 0.8111 - val_loss: 0.3633 - val_acc: 0.9455 - 75ms/epoch - 4ms/step\n",
            "Epoch 187/200\n",
            "20/20 - 0s - loss: 0.5072 - acc: 0.8094 - val_loss: 0.3632 - val_acc: 0.9455 - 64ms/epoch - 3ms/step\n",
            "Epoch 188/200\n",
            "20/20 - 0s - loss: 0.5069 - acc: 0.8094 - val_loss: 0.3625 - val_acc: 0.9455 - 63ms/epoch - 3ms/step\n",
            "Epoch 189/200\n",
            "20/20 - 0s - loss: 0.5068 - acc: 0.8094 - val_loss: 0.3623 - val_acc: 0.9455 - 64ms/epoch - 3ms/step\n",
            "Epoch 190/200\n",
            "20/20 - 0s - loss: 0.5065 - acc: 0.8094 - val_loss: 0.3616 - val_acc: 0.9455 - 68ms/epoch - 3ms/step\n",
            "Epoch 191/200\n",
            "20/20 - 0s - loss: 0.5063 - acc: 0.8111 - val_loss: 0.3600 - val_acc: 0.9455 - 69ms/epoch - 3ms/step\n",
            "Epoch 192/200\n",
            "20/20 - 0s - loss: 0.5060 - acc: 0.8094 - val_loss: 0.3582 - val_acc: 0.9455 - 69ms/epoch - 3ms/step\n",
            "Epoch 193/200\n",
            "20/20 - 0s - loss: 0.5058 - acc: 0.8111 - val_loss: 0.3579 - val_acc: 0.9455 - 75ms/epoch - 4ms/step\n",
            "Epoch 194/200\n",
            "20/20 - 0s - loss: 0.5056 - acc: 0.8094 - val_loss: 0.3589 - val_acc: 0.9455 - 61ms/epoch - 3ms/step\n",
            "Epoch 195/200\n",
            "20/20 - 0s - loss: 0.5054 - acc: 0.8094 - val_loss: 0.3586 - val_acc: 0.9455 - 76ms/epoch - 4ms/step\n",
            "Epoch 196/200\n",
            "20/20 - 0s - loss: 0.5051 - acc: 0.8094 - val_loss: 0.3566 - val_acc: 0.9455 - 64ms/epoch - 3ms/step\n",
            "Epoch 197/200\n",
            "20/20 - 0s - loss: 0.5049 - acc: 0.8111 - val_loss: 0.3568 - val_acc: 0.9455 - 76ms/epoch - 4ms/step\n",
            "Epoch 198/200\n",
            "20/20 - 0s - loss: 0.5047 - acc: 0.8094 - val_loss: 0.3570 - val_acc: 0.9455 - 63ms/epoch - 3ms/step\n",
            "Epoch 199/200\n",
            "20/20 - 0s - loss: 0.5045 - acc: 0.8094 - val_loss: 0.3558 - val_acc: 0.9455 - 70ms/epoch - 3ms/step\n",
            "Epoch 200/200\n",
            "20/20 - 0s - loss: 0.5042 - acc: 0.8094 - val_loss: 0.3564 - val_acc: 0.9455 - 69ms/epoch - 3ms/step\n"
          ]
        },
        {
          "output_type": "execute_result",
          "data": {
            "text/plain": [
              "<keras.callbacks.History at 0x7feda6e223d0>"
            ]
          },
          "metadata": {},
          "execution_count": 97
        }
      ]
    },
    {
      "cell_type": "markdown",
      "metadata": {
        "id": "DcbP5aDVHWFi"
      },
      "source": [
        "**Kết quả mong đợi:** Kết quả này là tương đối tuy nhiên mong muốn mô hình sẽ có độ chính xác trên tập validation hơn 90%\n",
        "\n",
        "```\n",
        "Epoch 197/200\n",
        "20/20 - 0s - loss: 0.5038 - acc: 0.8046 - val_loss: 0.3587 - val_acc: 0.9455\n",
        "Epoch 198/200\n",
        "20/20 - 0s - loss: 0.5035 - acc: 0.8062 - val_loss: 0.3593 - val_acc: 0.9455\n",
        "Epoch 199/200\n",
        "20/20 - 0s - loss: 0.5033 - acc: 0.8078 - val_loss: 0.3581 - val_acc: 0.9455\n",
        "Epoch 200/200\n",
        "20/20 - 0s - loss: 0.5031 - acc: 0.8078 - val_loss: 0.3573 - val_acc: 0.9455\n",
        "```"
      ]
    },
    {
      "cell_type": "markdown",
      "metadata": {
        "id": "HxdUZ54xCHaj"
      },
      "source": [
        "### 12. Đánh giá chất lượng mô hình - Nâng cao - tham khảo thêm\n",
        "\n",
        "Các chỉ số này sẽ được giảng dạy chi tiết trong các bài học tiếp theo. Mục đích của phần này cho chúng ta thấy vấn đề mất cân bằng dữ liệu.\n",
        "\n",
        "Đọc thêm về các chỉ số này [tại đây](https://classroom.google.com/c/Mzg3NDIzMjExOTQ5/m/NDMzNjkzMzAyNjA2/details)"
      ]
    },
    {
      "cell_type": "markdown",
      "metadata": {
        "id": "IE1eCJcWNqNc"
      },
      "source": [
        "### 12.1 Tính Precision, Recall và F1 Score \n",
        "Thực hiện trên cả nhãn Positive và Negative"
      ]
    },
    {
      "cell_type": "code",
      "metadata": {
        "colab": {
          "base_uri": "https://localhost:8080/"
        },
        "id": "tV16z7J308A7",
        "outputId": "92a72a43-6ed9-4da4-f560-fac4bb3fc495"
      },
      "source": [
        "y_pred = (model.predict(val_X) >= 0.5).astype(int)\n",
        "\n",
        "target_names = ['NO', 'YES']\n",
        "\n",
        "from sklearn.metrics import classification_report\n",
        "print(classification_report(\n",
        "    val_Y, y_pred, target_names=target_names\n",
        "))\n",
        "\n",
        "y_pred.shape"
      ],
      "execution_count": 98,
      "outputs": [
        {
          "output_type": "stream",
          "name": "stdout",
          "text": [
            "12/12 [==============================] - 0s 2ms/step\n",
            "              precision    recall  f1-score   support\n",
            "\n",
            "          NO       0.98      0.75      0.85        77\n",
            "         YES       0.94      1.00      0.97       290\n",
            "\n",
            "    accuracy                           0.95       367\n",
            "   macro avg       0.96      0.87      0.91       367\n",
            "weighted avg       0.95      0.95      0.94       367\n",
            "\n"
          ]
        },
        {
          "output_type": "execute_result",
          "data": {
            "text/plain": [
              "(367, 1)"
            ]
          },
          "metadata": {},
          "execution_count": 98
        }
      ]
    },
    {
      "cell_type": "code",
      "metadata": {
        "id": "Qv25WgPN2cd8"
      },
      "source": [
        "from sklearn.metrics import confusion_matrix\n",
        "TN, FP, FN, TP = confusion_matrix(val_Y, y_pred).ravel()"
      ],
      "execution_count": 99,
      "outputs": []
    },
    {
      "cell_type": "code",
      "metadata": {
        "colab": {
          "base_uri": "https://localhost:8080/"
        },
        "id": "OsWaC2joHyYZ",
        "outputId": "676ac874-f7a0-49b7-9d30-71cd2ca85080"
      },
      "source": [
        "TP, FP, TN, FN"
      ],
      "execution_count": 100,
      "outputs": [
        {
          "output_type": "execute_result",
          "data": {
            "text/plain": [
              "(289, 19, 58, 1)"
            ]
          },
          "metadata": {},
          "execution_count": 100
        }
      ]
    },
    {
      "cell_type": "code",
      "metadata": {
        "colab": {
          "base_uri": "https://localhost:8080/"
        },
        "id": "wfaBOJ6f2emG",
        "outputId": "aea1665d-3046-4b16-c8f2-6be6598bfa83"
      },
      "source": [
        "# Positive Precision\n",
        "\n",
        "TP / (TP + FP)"
      ],
      "execution_count": 101,
      "outputs": [
        {
          "output_type": "execute_result",
          "data": {
            "text/plain": [
              "0.9383116883116883"
            ]
          },
          "metadata": {},
          "execution_count": 101
        }
      ]
    },
    {
      "cell_type": "code",
      "metadata": {
        "colab": {
          "base_uri": "https://localhost:8080/"
        },
        "id": "eGk-2fcP2lzD",
        "outputId": "f42f1468-3eea-43a2-e5ec-ada07b68145a"
      },
      "source": [
        "# Positive Recall\n",
        "\n",
        "TP / (TP + FN)"
      ],
      "execution_count": 102,
      "outputs": [
        {
          "output_type": "execute_result",
          "data": {
            "text/plain": [
              "0.996551724137931"
            ]
          },
          "metadata": {},
          "execution_count": 102
        }
      ]
    },
    {
      "cell_type": "code",
      "metadata": {
        "colab": {
          "base_uri": "https://localhost:8080/"
        },
        "id": "GenQOiIt2tjz",
        "outputId": "4795aef7-56a6-4985-9ac1-be81b0808e1b"
      },
      "source": [
        "# Negative Precision\n",
        "\n",
        "TN / (TN + FN)"
      ],
      "execution_count": 103,
      "outputs": [
        {
          "output_type": "execute_result",
          "data": {
            "text/plain": [
              "0.9830508474576272"
            ]
          },
          "metadata": {},
          "execution_count": 103
        }
      ]
    },
    {
      "cell_type": "code",
      "metadata": {
        "colab": {
          "base_uri": "https://localhost:8080/"
        },
        "id": "5BGmbinG26xa",
        "outputId": "2698ef20-3759-4d60-f8f4-0b2cd6d62eb3"
      },
      "source": [
        "# Negative Recall\n",
        "\n",
        "TN / (TN + FP)"
      ],
      "execution_count": 104,
      "outputs": [
        {
          "output_type": "execute_result",
          "data": {
            "text/plain": [
              "0.7532467532467533"
            ]
          },
          "metadata": {},
          "execution_count": 104
        }
      ]
    },
    {
      "cell_type": "markdown",
      "metadata": {
        "id": "TqeXwZeq3Cv3"
      },
      "source": [
        "Nhận thấy Negative Recall tương đối thấp vì có sự mất cân bằng của dự liệu giữa nhãn `YES` và `NO`"
      ]
    },
    {
      "cell_type": "code",
      "metadata": {
        "colab": {
          "base_uri": "https://localhost:8080/"
        },
        "id": "SIjqGPz03vZ4",
        "outputId": "f069d661-80af-4ea2-c08e-a2db75c3d94e"
      },
      "source": [
        "train_df['Loan_Status'].value_counts()"
      ],
      "execution_count": 105,
      "outputs": [
        {
          "output_type": "execute_result",
          "data": {
            "text/plain": [
              "1    422\n",
              "0    192\n",
              "Name: Loan_Status, dtype: int64"
            ]
          },
          "metadata": {},
          "execution_count": 105
        }
      ]
    },
    {
      "cell_type": "markdown",
      "metadata": {
        "id": "wHs6mFKQH6Wh"
      },
      "source": [
        "Cách giải quyết đơn giản nhất hiện tượng này là oversampling hoặc undersampling. Xem thêm [tại đây](https://github.com/scikit-learn-contrib/imbalanced-learn)."
      ]
    },
    {
      "cell_type": "markdown",
      "metadata": {
        "id": "vidtutJXIKp_"
      },
      "source": [
        "-------------------- Kết thúc --------------------"
      ]
    },
    {
      "cell_type": "markdown",
      "metadata": {
        "id": "5J4LfOGMIsM7"
      },
      "source": [
        "<img src='https://storage.googleapis.com/protonx-cloud-storage/icons/1103-confetti-outline.gif' width=200>"
      ]
    }
  ]
}