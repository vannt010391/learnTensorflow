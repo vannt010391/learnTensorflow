{
  "nbformat": 4,
  "nbformat_minor": 0,
  "metadata": {
    "colab": {
      "provenance": [],
      "collapsed_sections": []
    },
    "kernelspec": {
      "name": "python3",
      "display_name": "Python 3"
    },
    "accelerator": "GPU"
  },
  "cells": [
    {
      "cell_type": "markdown",
      "source": [
        "# Bài tập lập trình: Logistic Regression\n",
        "\n",
        "```\n",
        "ProtonX - TensorFlow Class \n",
        "```\n",
        "\n",
        "### Hướng dẫn làm bài \n",
        "- Trong bài tập này bạn sẽ sử dụng Python 3.\n",
        "\n",
        "\n",
        "### [Quan trọng] Chú ý\n",
        "- **Không sử dụng hàm `input()` tại bất kỳ dòng lệnh nào**\n",
        "\n",
        "\n",
        "Các bạn sẽ thực hiện `code` trong các phần hiển thị `#TODO` và thay thế các vị trí `None`.\n",
        "\n",
        "Sau khi viết xong Code của bạn, bạn hãy ấn \"SHIFT\"+\"ENTER\" để thực hiện chạy lệnh của Cell đó. \n",
        "\n",
        "---\n",
        "Điểm số:\n",
        "* 10 điểm / Câu\n",
        "\n",
        "Tiêu chí chấm điểm:\n",
        "* Phải có log quá trình training\n",
        "* Độ chính xác mô hình trên 89%"
      ],
      "metadata": {
        "id": "hzD0apbDT5vL"
      }
    },
    {
      "cell_type": "code",
      "metadata": {
        "id": "Wyra8O6zKqeH",
        "colab": {
          "base_uri": "https://localhost:8080/"
        },
        "outputId": "97e23b57-ae5c-413f-fd22-209630c469df"
      },
      "source": [
        "!wget https://raw.githubusercontent.com/animesh-agarwal/Machine-Learning/master/LogisticRegression/data/marks.txt"
      ],
      "execution_count": 2,
      "outputs": [
        {
          "output_type": "stream",
          "name": "stdout",
          "text": [
            "--2022-09-30 13:38:59--  https://raw.githubusercontent.com/animesh-agarwal/Machine-Learning/master/LogisticRegression/data/marks.txt\n",
            "Resolving raw.githubusercontent.com (raw.githubusercontent.com)... 185.199.109.133, 185.199.108.133, 185.199.111.133, ...\n",
            "Connecting to raw.githubusercontent.com (raw.githubusercontent.com)|185.199.109.133|:443... connected.\n",
            "HTTP request sent, awaiting response... 200 OK\n",
            "Length: 3775 (3.7K) [text/plain]\n",
            "Saving to: ‘marks.txt.1’\n",
            "\n",
            "\rmarks.txt.1           0%[                    ]       0  --.-KB/s               \rmarks.txt.1         100%[===================>]   3.69K  --.-KB/s    in 0s      \n",
            "\n",
            "2022-09-30 13:38:59 (71.5 MB/s) - ‘marks.txt.1’ saved [3775/3775]\n",
            "\n"
          ]
        }
      ]
    },
    {
      "cell_type": "code",
      "metadata": {
        "id": "TRATLzDhLEvv"
      },
      "source": [
        "import pandas as pd\n",
        "import matplotlib.pyplot as plt\n",
        "import numpy as np"
      ],
      "execution_count": 3,
      "outputs": []
    },
    {
      "cell_type": "code",
      "metadata": {
        "id": "9R3s_c0RLIaj"
      },
      "source": [
        "df = pd.read_csv('marks.txt')"
      ],
      "execution_count": 4,
      "outputs": []
    },
    {
      "cell_type": "code",
      "metadata": {
        "id": "lirLm-5mI5tK"
      },
      "source": [
        "X = df.iloc[:, :-1]"
      ],
      "execution_count": 5,
      "outputs": []
    },
    {
      "cell_type": "code",
      "source": [
        "df"
      ],
      "metadata": {
        "colab": {
          "base_uri": "https://localhost:8080/",
          "height": 424
        },
        "id": "tT6kUGCXT_Rp",
        "outputId": "52fe64b6-a418-475e-ea8b-0837d197d0ac"
      },
      "execution_count": 6,
      "outputs": [
        {
          "output_type": "execute_result",
          "data": {
            "text/plain": [
              "    34.62365962451697  78.0246928153624  0\n",
              "0           30.286711         43.894998  0\n",
              "1           35.847409         72.902198  0\n",
              "2           60.182599         86.308552  1\n",
              "3           79.032736         75.344376  1\n",
              "4           45.083277         56.316372  0\n",
              "..                ...               ... ..\n",
              "94          83.489163         48.380286  1\n",
              "95          42.261701         87.103851  1\n",
              "96          99.315009         68.775409  1\n",
              "97          55.340018         64.931938  1\n",
              "98          74.775893         89.529813  1\n",
              "\n",
              "[99 rows x 3 columns]"
            ],
            "text/html": [
              "\n",
              "  <div id=\"df-0334ccb5-a051-4f3a-8b12-624de6b34dd8\">\n",
              "    <div class=\"colab-df-container\">\n",
              "      <div>\n",
              "<style scoped>\n",
              "    .dataframe tbody tr th:only-of-type {\n",
              "        vertical-align: middle;\n",
              "    }\n",
              "\n",
              "    .dataframe tbody tr th {\n",
              "        vertical-align: top;\n",
              "    }\n",
              "\n",
              "    .dataframe thead th {\n",
              "        text-align: right;\n",
              "    }\n",
              "</style>\n",
              "<table border=\"1\" class=\"dataframe\">\n",
              "  <thead>\n",
              "    <tr style=\"text-align: right;\">\n",
              "      <th></th>\n",
              "      <th>34.62365962451697</th>\n",
              "      <th>78.0246928153624</th>\n",
              "      <th>0</th>\n",
              "    </tr>\n",
              "  </thead>\n",
              "  <tbody>\n",
              "    <tr>\n",
              "      <th>0</th>\n",
              "      <td>30.286711</td>\n",
              "      <td>43.894998</td>\n",
              "      <td>0</td>\n",
              "    </tr>\n",
              "    <tr>\n",
              "      <th>1</th>\n",
              "      <td>35.847409</td>\n",
              "      <td>72.902198</td>\n",
              "      <td>0</td>\n",
              "    </tr>\n",
              "    <tr>\n",
              "      <th>2</th>\n",
              "      <td>60.182599</td>\n",
              "      <td>86.308552</td>\n",
              "      <td>1</td>\n",
              "    </tr>\n",
              "    <tr>\n",
              "      <th>3</th>\n",
              "      <td>79.032736</td>\n",
              "      <td>75.344376</td>\n",
              "      <td>1</td>\n",
              "    </tr>\n",
              "    <tr>\n",
              "      <th>4</th>\n",
              "      <td>45.083277</td>\n",
              "      <td>56.316372</td>\n",
              "      <td>0</td>\n",
              "    </tr>\n",
              "    <tr>\n",
              "      <th>...</th>\n",
              "      <td>...</td>\n",
              "      <td>...</td>\n",
              "      <td>...</td>\n",
              "    </tr>\n",
              "    <tr>\n",
              "      <th>94</th>\n",
              "      <td>83.489163</td>\n",
              "      <td>48.380286</td>\n",
              "      <td>1</td>\n",
              "    </tr>\n",
              "    <tr>\n",
              "      <th>95</th>\n",
              "      <td>42.261701</td>\n",
              "      <td>87.103851</td>\n",
              "      <td>1</td>\n",
              "    </tr>\n",
              "    <tr>\n",
              "      <th>96</th>\n",
              "      <td>99.315009</td>\n",
              "      <td>68.775409</td>\n",
              "      <td>1</td>\n",
              "    </tr>\n",
              "    <tr>\n",
              "      <th>97</th>\n",
              "      <td>55.340018</td>\n",
              "      <td>64.931938</td>\n",
              "      <td>1</td>\n",
              "    </tr>\n",
              "    <tr>\n",
              "      <th>98</th>\n",
              "      <td>74.775893</td>\n",
              "      <td>89.529813</td>\n",
              "      <td>1</td>\n",
              "    </tr>\n",
              "  </tbody>\n",
              "</table>\n",
              "<p>99 rows × 3 columns</p>\n",
              "</div>\n",
              "      <button class=\"colab-df-convert\" onclick=\"convertToInteractive('df-0334ccb5-a051-4f3a-8b12-624de6b34dd8')\"\n",
              "              title=\"Convert this dataframe to an interactive table.\"\n",
              "              style=\"display:none;\">\n",
              "        \n",
              "  <svg xmlns=\"http://www.w3.org/2000/svg\" height=\"24px\"viewBox=\"0 0 24 24\"\n",
              "       width=\"24px\">\n",
              "    <path d=\"M0 0h24v24H0V0z\" fill=\"none\"/>\n",
              "    <path d=\"M18.56 5.44l.94 2.06.94-2.06 2.06-.94-2.06-.94-.94-2.06-.94 2.06-2.06.94zm-11 1L8.5 8.5l.94-2.06 2.06-.94-2.06-.94L8.5 2.5l-.94 2.06-2.06.94zm10 10l.94 2.06.94-2.06 2.06-.94-2.06-.94-.94-2.06-.94 2.06-2.06.94z\"/><path d=\"M17.41 7.96l-1.37-1.37c-.4-.4-.92-.59-1.43-.59-.52 0-1.04.2-1.43.59L10.3 9.45l-7.72 7.72c-.78.78-.78 2.05 0 2.83L4 21.41c.39.39.9.59 1.41.59.51 0 1.02-.2 1.41-.59l7.78-7.78 2.81-2.81c.8-.78.8-2.07 0-2.86zM5.41 20L4 18.59l7.72-7.72 1.47 1.35L5.41 20z\"/>\n",
              "  </svg>\n",
              "      </button>\n",
              "      \n",
              "  <style>\n",
              "    .colab-df-container {\n",
              "      display:flex;\n",
              "      flex-wrap:wrap;\n",
              "      gap: 12px;\n",
              "    }\n",
              "\n",
              "    .colab-df-convert {\n",
              "      background-color: #E8F0FE;\n",
              "      border: none;\n",
              "      border-radius: 50%;\n",
              "      cursor: pointer;\n",
              "      display: none;\n",
              "      fill: #1967D2;\n",
              "      height: 32px;\n",
              "      padding: 0 0 0 0;\n",
              "      width: 32px;\n",
              "    }\n",
              "\n",
              "    .colab-df-convert:hover {\n",
              "      background-color: #E2EBFA;\n",
              "      box-shadow: 0px 1px 2px rgba(60, 64, 67, 0.3), 0px 1px 3px 1px rgba(60, 64, 67, 0.15);\n",
              "      fill: #174EA6;\n",
              "    }\n",
              "\n",
              "    [theme=dark] .colab-df-convert {\n",
              "      background-color: #3B4455;\n",
              "      fill: #D2E3FC;\n",
              "    }\n",
              "\n",
              "    [theme=dark] .colab-df-convert:hover {\n",
              "      background-color: #434B5C;\n",
              "      box-shadow: 0px 1px 3px 1px rgba(0, 0, 0, 0.15);\n",
              "      filter: drop-shadow(0px 1px 2px rgba(0, 0, 0, 0.3));\n",
              "      fill: #FFFFFF;\n",
              "    }\n",
              "  </style>\n",
              "\n",
              "      <script>\n",
              "        const buttonEl =\n",
              "          document.querySelector('#df-0334ccb5-a051-4f3a-8b12-624de6b34dd8 button.colab-df-convert');\n",
              "        buttonEl.style.display =\n",
              "          google.colab.kernel.accessAllowed ? 'block' : 'none';\n",
              "\n",
              "        async function convertToInteractive(key) {\n",
              "          const element = document.querySelector('#df-0334ccb5-a051-4f3a-8b12-624de6b34dd8');\n",
              "          const dataTable =\n",
              "            await google.colab.kernel.invokeFunction('convertToInteractive',\n",
              "                                                     [key], {});\n",
              "          if (!dataTable) return;\n",
              "\n",
              "          const docLinkHtml = 'Like what you see? Visit the ' +\n",
              "            '<a target=\"_blank\" href=https://colab.research.google.com/notebooks/data_table.ipynb>data table notebook</a>'\n",
              "            + ' to learn more about interactive tables.';\n",
              "          element.innerHTML = '';\n",
              "          dataTable['output_type'] = 'display_data';\n",
              "          await google.colab.output.renderOutput(dataTable, element);\n",
              "          const docLink = document.createElement('div');\n",
              "          docLink.innerHTML = docLinkHtml;\n",
              "          element.appendChild(docLink);\n",
              "        }\n",
              "      </script>\n",
              "    </div>\n",
              "  </div>\n",
              "  "
            ]
          },
          "metadata": {},
          "execution_count": 6
        }
      ]
    },
    {
      "cell_type": "code",
      "metadata": {
        "id": "q19I5YM9I8P6"
      },
      "source": [
        "Y = df.iloc[:, -1]"
      ],
      "execution_count": 7,
      "outputs": []
    },
    {
      "cell_type": "markdown",
      "metadata": {
        "id": "unXnf-zyLs7I"
      },
      "source": [
        "Hiển thị dữ liệu"
      ]
    },
    {
      "cell_type": "code",
      "metadata": {
        "id": "UCnHc-EgLoXu"
      },
      "source": [
        "reds = df.loc[Y == 0] # Reds: 0"
      ],
      "execution_count": 8,
      "outputs": []
    },
    {
      "cell_type": "code",
      "metadata": {
        "id": "qbCXNuW-LuhQ"
      },
      "source": [
        "blues = df.loc[Y == 1] # Blues: 1"
      ],
      "execution_count": 9,
      "outputs": []
    },
    {
      "cell_type": "code",
      "metadata": {
        "id": "dhsEQBXdL5E8",
        "colab": {
          "base_uri": "https://localhost:8080/",
          "height": 265
        },
        "outputId": "f2c2498e-d2dd-4b4e-d2d0-a11dbc119707"
      },
      "source": [
        "plt.scatter(blues.iloc[:, 0], blues.iloc[:, 1], s=10, label='Blue')\n",
        "plt.scatter(reds.iloc[:, 0], reds.iloc[:, 1], s=10, label='Red')\n",
        "plt.legend()\n",
        "plt.show()"
      ],
      "execution_count": 10,
      "outputs": [
        {
          "output_type": "display_data",
          "data": {
            "text/plain": [
              "<Figure size 432x288 with 1 Axes>"
            ],
            "image/png": "[encoded data removed]"
          },
          "metadata": {
            "needs_background": "light"
          }
        }
      ]
    },
    {
      "cell_type": "markdown",
      "metadata": {
        "id": "gt6kNcNIMcDJ"
      },
      "source": [
        "Tách thành bộ Train và Test"
      ]
    },
    {
      "cell_type": "code",
      "metadata": {
        "id": "lXyH2oYHMDQO"
      },
      "source": [
        "X = df.iloc[:, :-1]\n",
        "X = np.concatenate((X, np.ones((X.shape[0], 1))), axis=1)\n",
        "Y = df.iloc[:, -1]\n",
        "Y = np.reshape(Y.to_numpy(), (Y.shape[0], 1))"
      ],
      "execution_count": 11,
      "outputs": []
    },
    {
      "cell_type": "code",
      "metadata": {
        "id": "LNDHQEF2MN9p"
      },
      "source": [
        "trainX, testX = X[:80], X[80:]\n",
        "trainY, testY = Y[:80], Y[80:]"
      ],
      "execution_count": 12,
      "outputs": []
    },
    {
      "cell_type": "markdown",
      "metadata": {
        "id": "IjZgkG0TMmjO"
      },
      "source": [
        "Định nghĩa các hàm"
      ]
    },
    {
      "cell_type": "code",
      "metadata": {
        "id": "-SHV0k0iMjSl"
      },
      "source": [
        "def cal_z(x, theta):\n",
        "    \"\"\"\n",
        "    Parameters\n",
        "    ----------\n",
        "    x shape: (m, 3) \n",
        "    theta shape: (3, 1)\n",
        "    Returns\n",
        "    ----------\n",
        "    z shape (m, 1)\n",
        "    \"\"\"\n",
        "    # TODO 1\n",
        "    return np.dot(x, theta)"
      ],
      "execution_count": 13,
      "outputs": []
    },
    {
      "cell_type": "code",
      "metadata": {
        "id": "LYUu_3T4MVyj"
      },
      "source": [
        "def sigmoid(z):\n",
        "    \"\"\"\n",
        "    Parameters\n",
        "    z shape: (m, 1)\n",
        "    Returns\n",
        "    output shape: (m, 1)\n",
        "    \"\"\"\n",
        "    # TODO 2\n",
        "    return 1/(1 + np.exp(-z))"
      ],
      "execution_count": 14,
      "outputs": []
    },
    {
      "cell_type": "code",
      "metadata": {
        "id": "FTaxS534NgSW"
      },
      "source": [
        "def cal_h_theta(x, theta):\n",
        "    \"\"\"\n",
        "    Parameters\n",
        "    ----------\n",
        "    x shape: (m, 3)\n",
        "    theta shape: (3, 1)\n",
        "    Returns\n",
        "    ----------\n",
        "    output shape: (m, 1)\n",
        "    \"\"\"\n",
        "    # TODO 3\n",
        "    z = cal_z(x, theta)\n",
        "    return  sigmoid(z)"
      ],
      "execution_count": 16,
      "outputs": []
    },
    {
      "cell_type": "code",
      "metadata": {
        "id": "FOczhSauNx8P"
      },
      "source": [
        "def cost_func(x, y, theta):\n",
        "    \"\"\"\n",
        "    Parameters\n",
        "    ----------\n",
        "    x shape: (m, 3)\n",
        "    y shape: (m, 1)\n",
        "    theta shape: (3, 1)\n",
        "    Returns\n",
        "    ----------\n",
        "    loss: float\n",
        "    \"\"\"\n",
        "    # TODO 4\n",
        "    h_theta = cal_h_theta(x, theta)\n",
        "    loss = -(y*np.log(h_theta) + (1-y)*np.log(1-h_theta))\n",
        "    return np.mean(loss)"
      ],
      "execution_count": 17,
      "outputs": []
    },
    {
      "cell_type": "code",
      "metadata": {
        "id": "jleYoXjBP4qe"
      },
      "source": [
        "def gradient(X, y, theta):\n",
        "    \"\"\"\n",
        "    Parameters\n",
        "    ----------\n",
        "    X shape: (m, 3)\n",
        "    y shape: (m, 1)\n",
        "    theta shape: (3, 1)\n",
        "    Returns\n",
        "    ----------\n",
        "    grad shape: (3, 1)\n",
        "    \"\"\"\n",
        "    # TODO 5\n",
        "    h_theta = cal_h_theta(X, theta)\n",
        "    grad = np.mean(np.dot(X.T, (h_theta - y)), axis=0)\n",
        "    return grad.reshape((grad.shape[0],1))"
      ],
      "execution_count": 18,
      "outputs": []
    },
    {
      "cell_type": "markdown",
      "metadata": {
        "id": "N6oxQ7JkQZXf"
      },
      "source": [
        "Chuẩn hóa dữ liệu"
      ]
    },
    {
      "cell_type": "code",
      "metadata": {
        "id": "jNEIvsHUQMIc"
      },
      "source": [
        "# Đưa về phân phối chuẩn đơn vị trên cả tập train và test + không sử dụng thư viện ngoài numpy\n",
        "def normalize_data(train_x, test_x):\n",
        "    # TODO 6 + 7\n",
        "    train_mean = np.mean(train_x, axis=(0,1), dtype=np.float64, keepdims=True)\n",
        "    train_std = np.std(train_x, axis=(0,1), dtype=np.float64, keepdims=True)\n",
        "    \n",
        "    train_x = (train_x - train_mean)/train_std\n",
        "    test_x = (test_x - train_mean)/train_std\n",
        "    return train_x, test_x"
      ],
      "execution_count": 19,
      "outputs": []
    },
    {
      "cell_type": "code",
      "metadata": {
        "id": "dsOjtRSeRj9F"
      },
      "source": [
        "trainX, testX = normalize_data(trainX, testX)"
      ],
      "execution_count": 20,
      "outputs": []
    },
    {
      "cell_type": "markdown",
      "metadata": {
        "id": "SFpCEPe_RIgu"
      },
      "source": [
        "Tiến hành training"
      ]
    },
    {
      "cell_type": "code",
      "metadata": {
        "id": "Ml__gtcURhrd",
        "colab": {
          "base_uri": "https://localhost:8080/"
        },
        "outputId": "e7359a6b-244c-49e3-e1a2-9f9bdc099b09"
      },
      "source": [
        "epochs = 2300\n",
        "learning_rate = 0.01\n",
        "theta = np.random.normal(size=3).reshape((3, 1))\n",
        "for e in range(epochs):\n",
        "    # TODO 8: Tính gradient\n",
        "    grad = gradient(trainX, trainY, theta)\n",
        "    \n",
        "    # TODO 9: Update theta\n",
        "    theta = theta - learning_rate *grad\n",
        "    # TODO 10\n",
        "    total_cost = cost_func(trainX, trainY, theta)\n",
        "\n",
        "       \n",
        "    if e % 100 == 0:\n",
        "        print(total_cost)\n",
        "    \n",
        "print('Training finished')"
      ],
      "execution_count": 34,
      "outputs": [
        {
          "output_type": "stream",
          "name": "stdout",
          "text": [
            "0.5623520214453055\n",
            "0.27957704354666796\n",
            "0.24123118767585158\n",
            "0.2268497876256106\n",
            "0.2197001250654167\n",
            "0.21561912010613793\n",
            "0.21308985087655383\n",
            "0.21143451343847647\n",
            "0.21030854626144543\n",
            "0.20952044976325404\n",
            "0.2089566142499919\n",
            "0.20854620673486918\n",
            "0.20824331237615884\n",
            "0.20801722679685392\n",
            "0.20784688946651916\n",
            "0.20771754867605371\n",
            "0.2076186891492175\n",
            "0.2075427039122466\n",
            "0.2074840204290876\n",
            "0.207438512448837\n",
            "0.2074030962976071\n",
            "0.20737544898607574\n",
            "0.2073538084003546\n",
            "Training finished\n"
          ]
        }
      ]
    },
    {
      "cell_type": "markdown",
      "metadata": {
        "id": "_PzBiYAKVfBf"
      },
      "source": [
        "Tiến hành dự đoán"
      ]
    },
    {
      "cell_type": "code",
      "metadata": {
        "id": "H0igkkRzR7eh"
      },
      "source": [
        "predicted_classes = (cal_h_theta(testX, theta) >= 0.5).astype(int)"
      ],
      "execution_count": 35,
      "outputs": []
    },
    {
      "cell_type": "code",
      "metadata": {
        "id": "jDAOYFiBVhbG"
      },
      "source": [
        "accuracy = np.mean(predicted_classes == testY) * 100"
      ],
      "execution_count": 36,
      "outputs": []
    },
    {
      "cell_type": "code",
      "metadata": {
        "id": "KPgfwwoVViMx",
        "colab": {
          "base_uri": "https://localhost:8080/"
        },
        "outputId": "ae0e9ade-85e4-4f6c-8d2b-a308708ecfb9"
      },
      "source": [
        "accuracy"
      ],
      "execution_count": 37,
      "outputs": [
        {
          "output_type": "execute_result",
          "data": {
            "text/plain": [
              "89.47368421052632"
            ]
          },
          "metadata": {},
          "execution_count": 37
        }
      ]
    },
    {
      "cell_type": "markdown",
      "source": [
        "Yêu cầu độ chính xác lớn hơn 89%"
      ],
      "metadata": {
        "id": "NouK295qUR-j"
      }
    },
    {
      "cell_type": "code",
      "source": [
        "accuracy > 89"
      ],
      "metadata": {
        "colab": {
          "base_uri": "https://localhost:8080/"
        },
        "id": "KZiE4B6STitQ",
        "outputId": "4dfc2539-6d8f-452f-b555-5fbd8395215f"
      },
      "execution_count": 38,
      "outputs": [
        {
          "output_type": "execute_result",
          "data": {
            "text/plain": [
              "True"
            ]
          },
          "metadata": {},
          "execution_count": 38
        }
      ]
    }
  ]
}